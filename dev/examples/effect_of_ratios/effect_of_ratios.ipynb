{
 "cells": [
  {
   "cell_type": "markdown",
   "id": "28b6f550",
   "metadata": {},
   "source": [
    "# Effect of `ratios` Hyperparameter"
   ]
  },
  {
   "cell_type": "code",
   "execution_count": 1,
   "id": "99ff0571",
   "metadata": {
    "attributes": {
     "classes": [
      "julia"
     ],
     "id": ""
    }
   },
   "outputs": [],
   "source": [
    "using Random\n",
    "using CSV\n",
    "using DataFrames\n",
    "using MLJ\n",
    "using ScientificTypes\n",
    "using Imbalance\n",
    "using Plots, Measures"
   ]
  },
  {
   "cell_type": "markdown",
   "id": "6f3c809b",
   "metadata": {},
   "source": [
    "## Loading Data\n",
    "\n",
    "Let's load the Iris dataset, the objective of this dataset is to predict the type of flower as one of \"virginica\", \"versicolor\" and \"setosa\" using its sepal and petal length and width.\n",
    "\n",
    "We don't need to so from a CSV file this time because `MLJ` has a macro for loading it already! The only difference is that we will need to explictly convert it to a dataframe as `MLJ` loads it as a named tuple of vectors."
   ]
  },
  {
   "cell_type": "code",
   "execution_count": 2,
   "id": "66b28462",
   "metadata": {
    "attributes": {
     "classes": [
      "julia"
     ],
     "id": ""
    }
   },
   "outputs": [
    {
     "name": "stdout",
     "output_type": "stream",
     "text": [
      "┌──────────────┬─────────────┬──────────────┬─────────────┐\n",
      "│\u001b[1m sepal_length \u001b[0m│\u001b[1m sepal_width \u001b[0m│\u001b[1m petal_length \u001b[0m│\u001b[1m petal_width \u001b[0m│\n",
      "│\u001b[90m Float64      \u001b[0m│\u001b[90m Float64     \u001b[0m│\u001b[90m Float64      \u001b[0m│\u001b[90m Float64     \u001b[0m│\n",
      "│\u001b[90m Continuous   \u001b[0m│\u001b[90m Continuous  \u001b[0m│\u001b[90m Continuous   \u001b[0m│\u001b[90m Continuous  \u001b[0m│\n",
      "├──────────────┼─────────────┼──────────────┼─────────────┤\n",
      "│ 5.1          │ 3.5         │ 1.4          │ 0.2         │\n",
      "│ 4.9          │ 3.0         │ 1.4          │ 0.2         │\n",
      "│ 4.7          │ 3.2         │ 1.3          │ 0.2         │\n",
      "│ 4.6          │ 3.1         │ 1.5          │ 0.2         │\n",
      "│ 5.0          │ 3.6         │ 1.4          │ 0.2         │\n",
      "└──────────────┴─────────────┴──────────────┴─────────────┘\n"
     ]
    }
   ],
   "source": [
    "X, y = @load_iris\n",
    "X = DataFrame(X)\n",
    "first(X, 5) |> pretty"
   ]
  },
  {
   "cell_type": "markdown",
   "id": "a9ebcde1",
   "metadata": {},
   "source": [
    "Our purpose for this tutorial is primarily visuallization. Thus, let's select two of the continuous features only to work with. It's known that the sepal length and width play a much bigger role in classifying the type of flower so let's keep those only."
   ]
  },
  {
   "cell_type": "code",
   "execution_count": 3,
   "id": "e6020fd4",
   "metadata": {
    "attributes": {
     "classes": [
      "julia"
     ],
     "id": ""
    }
   },
   "outputs": [
    {
     "name": "stdout",
     "output_type": "stream",
     "text": [
      "┌─────────────┬──────────────┐\n",
      "│\u001b[1m petal_width \u001b[0m│\u001b[1m petal_length \u001b[0m│\n",
      "│\u001b[90m Float64     \u001b[0m│\u001b[90m Float64      \u001b[0m│\n",
      "│\u001b[90m Continuous  \u001b[0m│\u001b[90m Continuous   \u001b[0m│\n",
      "├─────────────┼──────────────┤\n",
      "│ 0.2         │ 1.4          │\n",
      "│ 0.2         │ 1.4          │\n",
      "│ 0.2         │ 1.3          │\n",
      "│ 0.2         │ 1.5          │\n",
      "│ 0.2         │ 1.4          │\n",
      "└─────────────┴──────────────┘\n"
     ]
    }
   ],
   "source": [
    "X = select(X, :petal_width, :petal_length)\n",
    "first(X, 5) |> pretty"
   ]
  },
  {
   "cell_type": "markdown",
   "id": "9cc226bd",
   "metadata": {},
   "source": [
    "## Coercing Data"
   ]
  },
  {
   "cell_type": "code",
   "execution_count": 4,
   "id": "eb6deea3",
   "metadata": {
    "attributes": {
     "classes": [
      "julia"
     ],
     "id": ""
    }
   },
   "outputs": [
    {
     "data": {
      "text/plain": [
       "┌──────────────┬────────────┬─────────┐\n",
       "│\u001b[22m names        \u001b[0m│\u001b[22m scitypes   \u001b[0m│\u001b[22m types   \u001b[0m│\n",
       "├──────────────┼────────────┼─────────┤\n",
       "│ petal_width  │ Continuous │ Float64 │\n",
       "│ petal_length │ Continuous │ Float64 │\n",
       "└──────────────┴────────────┴─────────┘\n"
      ]
     },
     "metadata": {},
     "output_type": "display_data"
    }
   ],
   "source": [
    "ScientificTypes.schema(X)"
   ]
  },
  {
   "cell_type": "markdown",
   "id": "74468b98",
   "metadata": {},
   "source": [
    "Things look good, no coercion is needed.\n",
    "\n",
    "\n",
    "## Oversampling\n",
    "\n",
    "Iris, by default has no imbalance problem"
   ]
  },
  {
   "cell_type": "code",
   "execution_count": 5,
   "id": "20df5fca",
   "metadata": {
    "attributes": {
     "classes": [
      "julia"
     ],
     "id": ""
    }
   },
   "outputs": [
    {
     "name": "stdout",
     "output_type": "stream",
     "text": [
      "virginica:  ▇▇▇▇▇▇▇▇▇▇▇▇▇▇▇▇▇▇▇▇▇▇▇▇▇▇▇▇▇▇▇▇▇▇▇▇▇▇▇▇▇▇▇▇▇▇▇▇▇▇ 50 (100.0%) \n",
      "setosa:     ▇▇▇▇▇▇▇▇▇▇▇▇▇▇▇▇▇▇▇▇▇▇▇▇▇▇▇▇▇▇▇▇▇▇▇▇▇▇▇▇▇▇▇▇▇▇▇▇▇▇ 50 (100.0%) \n",
      "versicolor: ▇▇▇▇▇▇▇▇▇▇▇▇▇▇▇▇▇▇▇▇▇▇▇▇▇▇▇▇▇▇▇▇▇▇▇▇▇▇▇▇▇▇▇▇▇▇▇▇▇▇ 50 (100.0%) \n"
     ]
    }
   ],
   "source": [
    "checkbalance(y)"
   ]
  },
  {
   "cell_type": "markdown",
   "id": "a4e9540f",
   "metadata": {},
   "source": [
    "To simulate that there is a balance problem, we will consider a random sample of 100 observations. A random sample does not guarantee perserving the proportion of classes; in this, we actually set the seed to get a very unlikely random sample that suffers from moderate imbalance."
   ]
  },
  {
   "cell_type": "code",
   "execution_count": 6,
   "id": "ad406071",
   "metadata": {
    "attributes": {
     "classes": [
      "julia"
     ],
     "id": ""
    }
   },
   "outputs": [
    {
     "name": "stdout",
     "output_type": "stream",
     "text": [
      "versicolor: ▇▇▇▇▇▇▇▇▇▇▇ 12 (22.6%) \n",
      "setosa:     ▇▇▇▇▇▇▇▇▇▇▇▇▇▇▇▇▇▇▇▇▇▇▇▇▇▇▇▇▇▇▇▇▇ 35 (66.0%) \n",
      "virginica:  ▇▇▇▇▇▇▇▇▇▇▇▇▇▇▇▇▇▇▇▇▇▇▇▇▇▇▇▇▇▇▇▇▇▇▇▇▇▇▇▇▇▇▇▇▇▇▇▇▇▇ 53 (100.0%) \n"
     ]
    }
   ],
   "source": [
    "Random.seed!(803429)\n",
    "subset_indices = rand(1:size(X, 1), 100)\n",
    "X, y = X[subset_indices, :], y[subset_indices]\n",
    "checkbalance(y)         # comes from Imbalance"
   ]
  },
  {
   "cell_type": "markdown",
   "id": "54fd8ce0",
   "metadata": {},
   "source": [
    "We will treat this as our training set going forward so we don't need to partition. Now let's oversample it with SMOTE."
   ]
  },
  {
   "cell_type": "code",
   "execution_count": 7,
   "id": "f249c98c",
   "metadata": {
    "attributes": {
     "classes": [
      "julia"
     ],
     "id": ""
    }
   },
   "outputs": [
    {
     "name": "stdout",
     "output_type": "stream",
     "text": [
      "setosa:     ▇▇▇▇▇▇▇▇▇▇▇▇▇▇▇▇▇▇▇▇▇▇▇▇▇▇▇▇▇▇▇▇▇ 35 (66.0%) \n",
      "versicolor: ▇▇▇▇▇▇▇▇▇▇▇▇▇▇▇▇▇▇▇▇▇▇▇▇▇▇▇▇▇▇▇▇▇▇▇ 37 (69.8%) \n",
      "virginica:  ▇▇▇▇▇▇▇▇▇▇▇▇▇▇▇▇▇▇▇▇▇▇▇▇▇▇▇▇▇▇▇▇▇▇▇▇▇▇▇▇▇▇▇▇▇▇▇▇▇▇ 53 (100.0%) \n"
     ]
    }
   ],
   "source": [
    "Xover, yover = smote(X, y; k=5, ratios=Dict(\"versicolor\" => 0.7), rng=42)\n",
    "checkbalance(yover)"
   ]
  },
  {
   "cell_type": "markdown",
   "id": "bc482dbe",
   "metadata": {},
   "source": [
    "## Training the Model"
   ]
  },
  {
   "cell_type": "code",
   "execution_count": 8,
   "id": "82f21238",
   "metadata": {
    "attributes": {
     "classes": [
      "julia"
     ],
     "id": ""
    }
   },
   "outputs": [
    {
     "data": {
      "text/plain": [
       "53-element Vector{NamedTuple{(:name, :package_name, :is_supervised, :abstract_type, :deep_properties, :docstring, :fit_data_scitype, :human_name, :hyperparameter_ranges, :hyperparameter_types, :hyperparameters, :implemented_methods, :inverse_transform_scitype, :is_pure_julia, :is_wrapper, :iteration_parameter, :load_path, :package_license, :package_url, :package_uuid, :predict_scitype, :prediction_type, :reporting_operations, :reports_feature_importances, :supports_class_weights, :supports_online, :supports_training_losses, :supports_weights, :transform_scitype, :input_scitype, :target_scitype, :output_scitype)}}:\n",
       " (name = AdaBoostClassifier, package_name = MLJScikitLearnInterface, ... )\n",
       " (name = AdaBoostStumpClassifier, package_name = DecisionTree, ... )\n",
       " (name = BaggingClassifier, package_name = MLJScikitLearnInterface, ... )\n",
       " (name = BayesianLDA, package_name = MLJScikitLearnInterface, ... )\n",
       " (name = BayesianLDA, package_name = MultivariateStats, ... )\n",
       " (name = BayesianQDA, package_name = MLJScikitLearnInterface, ... )\n",
       " (name = BayesianSubspaceLDA, package_name = MultivariateStats, ... )\n",
       " (name = CatBoostClassifier, package_name = CatBoost, ... )\n",
       " (name = ConstantClassifier, package_name = MLJModels, ... )\n",
       " (name = DecisionTreeClassifier, package_name = BetaML, ... )\n",
       " ⋮\n",
       " (name = SGDClassifier, package_name = MLJScikitLearnInterface, ... )\n",
       " (name = SVC, package_name = LIBSVM, ... )\n",
       " (name = SVMClassifier, package_name = MLJScikitLearnInterface, ... )\n",
       " (name = SVMLinearClassifier, package_name = MLJScikitLearnInterface, ... )\n",
       " (name = SVMNuClassifier, package_name = MLJScikitLearnInterface, ... )\n",
       " (name = StableForestClassifier, package_name = SIRUS, ... )\n",
       " (name = StableRulesClassifier, package_name = SIRUS, ... )\n",
       " (name = SubspaceLDA, package_name = MultivariateStats, ... )\n",
       " (name = XGBoostClassifier, package_name = XGBoost, ... )"
      ]
     },
     "metadata": {},
     "output_type": "display_data"
    }
   ],
   "source": [
    "models(matching(Xover, yover))"
   ]
  },
  {
   "cell_type": "markdown",
   "id": "a1aec2e7",
   "metadata": {},
   "source": [
    "Let's go for an SVM"
   ]
  },
  {
   "cell_type": "code",
   "execution_count": null,
   "id": "75716f0e",
   "metadata": {
    "attributes": {
     "classes": [
      "julia"
     ],
     "id": ""
    }
   },
   "outputs": [],
   "source": [
    "import Pkg;\n",
    "Pkg.add(\"MLJLIBSVMInterface\");"
   ]
  },
  {
   "cell_type": "markdown",
   "id": "149d0561",
   "metadata": {},
   "source": [
    "### Before Oversampling"
   ]
  },
  {
   "cell_type": "code",
   "execution_count": 12,
   "id": "e7b278e2",
   "metadata": {
    "attributes": {
     "classes": [
      "julia"
     ],
     "id": ""
    }
   },
   "outputs": [
    {
     "name": "stderr",
     "output_type": "stream",
     "text": [
      "┌ Info: For silent loading, specify `verbosity=0`. \n",
      "└ @ Main /Users/essam/.julia/packages/MLJModels/EkXIe/src/loading.jl:159\n"
     ]
    },
    {
     "name": "stdout",
     "output_type": "stream",
     "text": [
      "import MLJLIBSVMInterface ✔"
     ]
    },
    {
     "name": "stdout",
     "output_type": "stream",
     "text": [
      "\n"
     ]
    },
    {
     "name": "stderr",
     "output_type": "stream",
     "text": [
      "┌ Info: Training machine(SVC(kernel = RadialBasis, …), …).\n",
      "└ @ MLJBase /Users/essam/.julia/packages/MLJBase/ByFwA/src/machines.jl:492\n"
     ]
    },
    {
     "data": {
      "text/plain": [
       "trained Machine; caches model-specific representations of data\n",
       "  model: SVC(kernel = RadialBasis, …)\n",
       "  args: \n",
       "    1:\tSource @527 ⏎ Table{AbstractVector{Continuous}}\n",
       "    2:\tSource @580 ⏎ AbstractVector{Multiclass{3}}\n"
      ]
     },
     "metadata": {},
     "output_type": "display_data"
    }
   ],
   "source": [
    "# 1. Load the model\n",
    "SVC = @load SVC pkg = LIBSVM\n",
    "\n",
    "# 2. Instantiate it (γ=0.01 is intentional)\n",
    "model = SVC(gamma=0.01)\n",
    "\n",
    "# 3. Wrap it with the data in a machine\n",
    "mach = machine(model, X, y)\n",
    "\n",
    "# 4. fit the machine learning model\n",
    "fit!(mach)"
   ]
  },
  {
   "cell_type": "markdown",
   "id": "7c75f33b",
   "metadata": {},
   "source": [
    "### After Oversampling"
   ]
  },
  {
   "cell_type": "code",
   "execution_count": 13,
   "id": "95fc0bc0",
   "metadata": {
    "attributes": {
     "classes": [
      "julia"
     ],
     "id": ""
    }
   },
   "outputs": [
    {
     "name": "stderr",
     "output_type": "stream",
     "text": [
      "┌ Info: Training machine(SVC(kernel = RadialBasis, …), …).\n",
      "└ @ MLJBase /Users/essam/.julia/packages/MLJBase/ByFwA/src/machines.jl:492\n"
     ]
    },
    {
     "data": {
      "text/plain": [
       "trained Machine; caches model-specific representations of data\n",
       "  model: SVC(kernel = RadialBasis, …)\n",
       "  args: \n",
       "    1:\tSource @277 ⏎ Table{AbstractVector{Continuous}}\n",
       "    2:\tSource @977 ⏎ AbstractVector{Multiclass{3}}\n"
      ]
     },
     "metadata": {},
     "output_type": "display_data"
    }
   ],
   "source": [
    "# 3. Wrap it with the data in a machine\n",
    "mach_over = machine(model, Xover, yover)\n",
    "\n",
    "# 4. fit the machine learning model\n",
    "fit!(mach_over)"
   ]
  },
  {
   "cell_type": "markdown",
   "id": "da93fb1f",
   "metadata": {},
   "source": [
    "## Plot Decision Boundaries\n",
    "\n",
    "Construct ranges for each feature and consecutively a grid"
   ]
  },
  {
   "cell_type": "code",
   "execution_count": 14,
   "id": "1ff31519",
   "metadata": {
    "attributes": {
     "classes": [
      "julia"
     ],
     "id": ""
    }
   },
   "outputs": [
    {
     "data": {
      "text/plain": [
       "200×200 Matrix{Tuple{Float64, Float64}}:\n",
       " (-0.9, 0.2)       (-0.9, 0.238693)       …  (-0.9, 7.9)\n",
       " (-0.878894, 0.2)  (-0.878894, 0.238693)     (-0.878894, 7.9)\n",
       " (-0.857789, 0.2)  (-0.857789, 0.238693)     (-0.857789, 7.9)\n",
       " (-0.836683, 0.2)  (-0.836683, 0.238693)     (-0.836683, 7.9)\n",
       " (-0.815578, 0.2)  (-0.815578, 0.238693)     (-0.815578, 7.9)\n",
       " (-0.794472, 0.2)  (-0.794472, 0.238693)  …  (-0.794472, 7.9)\n",
       " (-0.773367, 0.2)  (-0.773367, 0.238693)     (-0.773367, 7.9)\n",
       " (-0.752261, 0.2)  (-0.752261, 0.238693)     (-0.752261, 7.9)\n",
       " (-0.731156, 0.2)  (-0.731156, 0.238693)     (-0.731156, 7.9)\n",
       " (-0.71005, 0.2)   (-0.71005, 0.238693)      (-0.71005, 7.9)\n",
       " ⋮                                        ⋱  \n",
       " (3.13116, 0.2)    (3.13116, 0.238693)       (3.13116, 7.9)\n",
       " (3.15226, 0.2)    (3.15226, 0.238693)       (3.15226, 7.9)\n",
       " (3.17337, 0.2)    (3.17337, 0.238693)       (3.17337, 7.9)\n",
       " (3.19447, 0.2)    (3.19447, 0.238693)       (3.19447, 7.9)\n",
       " (3.21558, 0.2)    (3.21558, 0.238693)    …  (3.21558, 7.9)\n",
       " (3.23668, 0.2)    (3.23668, 0.238693)       (3.23668, 7.9)\n",
       " (3.25779, 0.2)    (3.25779, 0.238693)       (3.25779, 7.9)\n",
       " (3.27889, 0.2)    (3.27889, 0.238693)       (3.27889, 7.9)\n",
       " (3.3, 0.2)        (3.3, 0.238693)           (3.3, 7.9)"
      ]
     },
     "metadata": {},
     "output_type": "display_data"
    }
   ],
   "source": [
    "petal_width_range =\n",
    "\trange(minimum(X.petal_width) - 1, maximum(X.petal_width) + 1, length = 200)\n",
    "petal_length_range =\n",
    "\trange(minimum(X.petal_length) - 1, maximum(X.petal_length) + 1, length = 200)\n",
    "grid_points = [(pw, pl) for pw in petal_width_range, pl in petal_length_range]"
   ]
  },
  {
   "cell_type": "markdown",
   "id": "bab47cf6",
   "metadata": {},
   "source": [
    "Evaluate the grid with the machine before and after oversampling"
   ]
  },
  {
   "cell_type": "code",
   "execution_count": 15,
   "id": "3d0f5e00",
   "metadata": {
    "attributes": {
     "classes": [
      "julia"
     ],
     "id": ""
    }
   },
   "outputs": [
    {
     "data": {
      "text/plain": [
       "200×200 CategoricalArrays.CategoricalArray{String,2,UInt32}:\n",
       " \"setosa\"  \"setosa\"  \"setosa\"  \"setosa\"  …  \"virginica\"  \"virginica\"\n",
       " \"setosa\"  \"setosa\"  \"setosa\"  \"setosa\"     \"virginica\"  \"virginica\"\n",
       " \"setosa\"  \"setosa\"  \"setosa\"  \"setosa\"     \"virginica\"  \"virginica\"\n",
       " \"setosa\"  \"setosa\"  \"setosa\"  \"setosa\"     \"virginica\"  \"virginica\"\n",
       " \"setosa\"  \"setosa\"  \"setosa\"  \"setosa\"     \"virginica\"  \"virginica\"\n",
       " \"setosa\"  \"setosa\"  \"setosa\"  \"setosa\"  …  \"virginica\"  \"virginica\"\n",
       " \"setosa\"  \"setosa\"  \"setosa\"  \"setosa\"     \"virginica\"  \"virginica\"\n",
       " \"setosa\"  \"setosa\"  \"setosa\"  \"setosa\"     \"virginica\"  \"virginica\"\n",
       " \"setosa\"  \"setosa\"  \"setosa\"  \"setosa\"     \"virginica\"  \"virginica\"\n",
       " \"setosa\"  \"setosa\"  \"setosa\"  \"setosa\"     \"virginica\"  \"virginica\"\n",
       " ⋮                                       ⋱               \n",
       " \"setosa\"  \"setosa\"  \"setosa\"  \"setosa\"     \"virginica\"  \"virginica\"\n",
       " \"setosa\"  \"setosa\"  \"setosa\"  \"setosa\"     \"virginica\"  \"virginica\"\n",
       " \"setosa\"  \"setosa\"  \"setosa\"  \"setosa\"     \"virginica\"  \"virginica\"\n",
       " \"setosa\"  \"setosa\"  \"setosa\"  \"setosa\"     \"virginica\"  \"virginica\"\n",
       " \"setosa\"  \"setosa\"  \"setosa\"  \"setosa\"  …  \"virginica\"  \"virginica\"\n",
       " \"setosa\"  \"setosa\"  \"setosa\"  \"setosa\"     \"virginica\"  \"virginica\"\n",
       " \"setosa\"  \"setosa\"  \"setosa\"  \"setosa\"     \"virginica\"  \"virginica\"\n",
       " \"setosa\"  \"setosa\"  \"setosa\"  \"setosa\"     \"virginica\"  \"virginica\"\n",
       " \"setosa\"  \"setosa\"  \"setosa\"  \"setosa\"     \"virginica\"  \"virginica\""
      ]
     },
     "metadata": {},
     "output_type": "display_data"
    }
   ],
   "source": [
    "grid_predictions =[\n",
    "    predict(mach, Tables.table(reshape(collect(point), 1, 2)))[1] for\n",
    " \tpoint in grid_points\n",
    " ]\n",
    "grid_predictions_over = [\n",
    "    predict(mach_over, Tables.table(reshape(collect(point), 1, 2)))[1] for\n",
    "    point in grid_points\n",
    "]"
   ]
  },
  {
   "cell_type": "markdown",
   "id": "e5ce7419",
   "metadata": {},
   "source": [
    "Make two contour plots using the grid predictions before and after oversampling"
   ]
  },
  {
   "cell_type": "code",
   "execution_count": 54,
   "id": "4d2ab881",
   "metadata": {
    "attributes": {
     "classes": [
      "julia"
     ],
     "id": ""
    }
   },
   "outputs": [
    {
     "name": "stdout",
     "output_type": "stream",
     "text": [
      "\n"
     ]
    }
   ],
   "source": [
    "p = contourf(petal_length_range, petal_width_range, grid_predictions,\n",
    "    levels=3, color=:Set3_3, colorbar=false)\n",
    "p_over = contourf(petal_length_range, petal_width_range, grid_predictions_over,\n",
    "    levels=3, color=:Set3_3, colorbar=false)\n",
    "println()"
   ]
  },
  {
   "cell_type": "markdown",
   "id": "8426c65f",
   "metadata": {},
   "source": [
    "Scatter plot the data before and after oversampling"
   ]
  },
  {
   "cell_type": "code",
   "execution_count": null,
   "id": "6dda400c",
   "metadata": {
    "attributes": {
     "classes": [
      "julia"
     ],
     "id": ""
    }
   },
   "outputs": [],
   "source": [
    "old_count = size(X, 1)\n",
    "\n",
    "colors = Dict(\"setosa\" => \"green\", \"versicolor\" => \"yellow\",\n",
    "\t\"virginica\" => \"purple\")\n",
    "labels = unique(y)\n",
    "for label in labels\n",
    "\tscatter!(p, X.petal_length[y.==label], X.petal_width[y.==label],\n",
    "\t\tcolor = colors[label], label = label,\n",
    "\t\ttitle = \"Before Oversampling\")\n",
    "\tscatter!(p_over, X.petal_length[y.==label], X.petal_width[y.==label],\n",
    "\t\tcolor = colors[label], label = label,\n",
    "\t\ttitle = \"After Oversampling\")\n",
    "\t# find new points only and plot with different shape\n",
    "\tscatter!(p_over, Xover.petal_length[old_count+1:end][yover[old_count+1:end].==label],\n",
    "\t\tXover.petal_width[old_count+1:end][yover[old_count+1:end].==label],\n",
    "\t\tcolor = colors[label], label = label*\"-over\", markershape = :hexagon,\n",
    "\t\ttitle = \"After Oversampling\")\n",
    "end\n",
    "\n",
    "plot_res = plot(p, p_over, layout = (1, 2), xlabel = \"petal length\",\n",
    "\tylabel = \"petal width\", size = (900, 300), margin = 5mm, dpi = 200)\n",
    "savefig(plot_res, \"./assets/before-after-smote.png\")\n",
    "println()"
   ]
  },
  {
   "cell_type": "markdown",
   "id": "dcb44327",
   "metadata": {},
   "source": [
    "![Before After SMOTE](./assets/before-after-smote.png)\n",
    "\n",
    "\n",
    "\n",
    "Notice how the minority class was completely ignore prior to oversampling. Not all models and hyperparameter settings are this delicate to class imbalance.\n",
    "\n",
    "\n",
    "## Effect of Ratios Hyperparameter\n",
    "\n",
    "Now let's study the effect of the ratios hyperparameter. We will do this through an animated plot."
   ]
  },
  {
   "cell_type": "code",
   "execution_count": null,
   "id": "77476063",
   "metadata": {
    "attributes": {
     "classes": [
      "julia"
     ],
     "id": ""
    }
   },
   "outputs": [],
   "source": [
    "anim = @animate for versicolor_ratio ∈ 0.3:0.01:2\n",
    "\t# oversample\n",
    "\tXover, yover =\n",
    "\t\tsmote(X, y; k = 5, ratios = Dict(\"versicolor\" => versicolor_ratio), rng = 42)\n",
    "\n",
    "\t# fit machine\n",
    "\tmodel = SVC(gamma = 0.01)\n",
    "\tmach_over = machine(model, Xover, yover)\n",
    "\tfit!(mach_over, verbosity = 0)\n",
    "\n",
    "\t# grid predictions\n",
    "\tgrid_predictions_over = [\n",
    "\t\tpredict(mach_over, Tables.table(reshape(collect(point), 1, 2)))[1] for\n",
    "\t\tpoint in grid_points\n",
    "\t]\n",
    "\t# plot\n",
    "\tp_over = contourf(petal_length_range, petal_width_range, grid_predictions_over,\n",
    "\t\tlevels = 3, color = :Set3_3, colorbar = false)\n",
    "\told_count = size(X, 1)\n",
    "\tfor label in labels\n",
    "\t\tscatter!(p_over, X.petal_length[y.==label], X.petal_width[y.==label],\n",
    "\t\t\tcolor = colors[label], label = label,\n",
    "\t\t\ttitle = \"Oversampling versicolor with ratio $versicolor_ratio\")\n",
    "\t\t# find new points only and plot with different shape\n",
    "\t\tscatter!(p_over,\n",
    "\t\t\tXover.petal_length[old_count+1:end][yover[old_count+1:end].==label],\n",
    "\t\t\tXover.petal_width[old_count+1:end][yover[old_count+1:end].==label],\n",
    "\t\t\tcolor = colors[label], label = label * \"-over\", markershape = :hexagon,\n",
    "\t\t\ttitle = \"Oversampling versicolor with ratio $versicolor_ratio\")\n",
    "\tend\n",
    "\tplot!(dpi = 150)\n",
    "end"
   ]
  },
  {
   "cell_type": "code",
   "execution_count": null,
   "id": "87c2a9fc",
   "metadata": {
    "attributes": {
     "classes": [
      "julia"
     ],
     "id": ""
    }
   },
   "outputs": [],
   "source": [
    "gif(anim, \"./assets/smote-animation.gif\", fps=6)\n",
    "println()"
   ]
  },
  {
   "cell_type": "markdown",
   "id": "b7b298e6",
   "metadata": {},
   "source": [
    "![Ratios Parameter Effect](./assets/smote-animation.gif)\n",
    "\n",
    "\n",
    "Notice how setting ratios greedily can lead to overfitting."
   ]
  },
  {
   "cell_type": "code",
   "execution_count": 1,
   "id": "e30c8720",
   "metadata": {},
   "outputs": [
    {
     "name": "stderr",
     "output_type": "stream",
     "text": [
      "[NbConvertApp] Converting notebook effect_of_ratios.ipynb to markdown\n"
     ]
    },
    {
     "name": "stdout",
     "output_type": "stream",
     "text": [
      "Copied smote-animation.gif to ../assets/smote-animation.gif\n",
      "Copied before-after-smote.png to ../assets/before-after-smote.png\n",
      "Conversion Complete!\n"
     ]
    },
    {
     "name": "stderr",
     "output_type": "stream",
     "text": [
      "[NbConvertApp] Writing 14326 bytes to effect_of_ratios.md\n"
     ]
    }
   ],
   "source": [
    "import sys; sys.path.append(\"..\")\n",
    "from convert import convert_to_md\n",
    "convert_to_md('effect_of_ratios')"
   ]
  }
 ],
 "metadata": {
  "kernelspec": {
   "display_name": "M1",
   "language": "python",
   "name": "python3"
  },
  "language_info": {
   "codemirror_mode": {
    "name": "ipython",
    "version": 3
   },
   "file_extension": ".py",
   "mimetype": "text/x-python",
   "name": "python",
   "nbconvert_exporter": "python",
   "pygments_lexer": "ipython3",
   "version": "3.9.16"
  }
 },
 "nbformat": 4,
 "nbformat_minor": 5
}
