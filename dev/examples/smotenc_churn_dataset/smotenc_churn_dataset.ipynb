{
 "cells": [
  {
   "cell_type": "markdown",
   "id": "836a4842",
   "metadata": {},
   "source": [
    "# SMOTENC on Customer Churn Data"
   ]
  },
  {
   "cell_type": "code",
   "execution_count": 17,
   "id": "93da2e4a",
   "metadata": {
    "attributes": {
     "classes": [
      "julia"
     ],
     "id": ""
    }
   },
   "outputs": [],
   "source": [
    "using Imbalance\n",
    "using MLJBalancing\n",
    "using CSV\n",
    "using DataFrames\n",
    "using ScientificTypes\n",
    "using CategoricalArrays\n",
    "using MLJ\n",
    "using Plots\n",
    "using Random"
   ]
  },
  {
   "cell_type": "markdown",
   "id": "64287981",
   "metadata": {},
   "source": [
    "## Loading Data\n",
    "In this example, we will consider the [Churn for Bank Customers](https://www.kaggle.com/datasets/mathchi/churn-for-bank-customers) found on Kaggle where the objective is to predict whether a customer is likely to leave a bank given financial and demographic features. \n",
    "\n",
    "We already considered this dataset using SMOTE, in this example we see if the results are any better using SMOTE-NC."
   ]
  },
  {
   "cell_type": "code",
   "execution_count": 2,
   "id": "a9289888",
   "metadata": {
    "attributes": {
     "classes": [
      "julia"
     ],
     "id": ""
    }
   },
   "outputs": [
    {
     "name": "stdout",
     "output_type": "stream",
     "text": [
      "┌───────────┬────────────┬──────────┬─────────────┬───────────┬─────────┬───────┬────────┬────────────┬───────────────┬───────────┬────────────────┬─────────────────┬────────┐\n",
      "│\u001b[1m RowNumber \u001b[0m│\u001b[1m CustomerId \u001b[0m│\u001b[1m Surname  \u001b[0m│\u001b[1m CreditScore \u001b[0m│\u001b[1m Geography \u001b[0m│\u001b[1m Gender  \u001b[0m│\u001b[1m Age   \u001b[0m│\u001b[1m Tenure \u001b[0m│\u001b[1m Balance    \u001b[0m│\u001b[1m NumOfProducts \u001b[0m│\u001b[1m HasCrCard \u001b[0m│\u001b[1m IsActiveMember \u001b[0m│\u001b[1m EstimatedSalary \u001b[0m│\u001b[1m Exited \u001b[0m│\n",
      "│\u001b[90m Int64     \u001b[0m│\u001b[90m Int64      \u001b[0m│\u001b[90m String31 \u001b[0m│\u001b[90m Int64       \u001b[0m│\u001b[90m String7   \u001b[0m│\u001b[90m String7 \u001b[0m│\u001b[90m Int64 \u001b[0m│\u001b[90m Int64  \u001b[0m│\u001b[90m Float64    \u001b[0m│\u001b[90m Int64         \u001b[0m│\u001b[90m Int64     \u001b[0m│\u001b[90m Int64          \u001b[0m│\u001b[90m Float64         \u001b[0m│\u001b[90m Int64  \u001b[0m│\n",
      "│\u001b[90m Count     \u001b[0m│\u001b[90m Count      \u001b[0m│\u001b[90m Textual  \u001b[0m│\u001b[90m Count       \u001b[0m│\u001b[90m Textual   \u001b[0m│\u001b[90m Textual \u001b[0m│\u001b[90m Count \u001b[0m│\u001b[90m Count  \u001b[0m│\u001b[90m Continuous \u001b[0m│\u001b[90m Count         \u001b[0m│\u001b[90m Count     \u001b[0m│\u001b[90m Count          \u001b[0m│\u001b[90m Continuous      \u001b[0m│\u001b[90m Count  \u001b[0m│\n",
      "├───────────┼────────────┼──────────┼─────────────┼───────────┼─────────┼───────┼────────┼────────────┼───────────────┼───────────┼────────────────┼─────────────────┼────────┤\n",
      "│ 1         │ 15634602   │ Hargrave │ 619         │ France    │ Female  │ 42    │ 2      │ 0.0        │ 1             │ 1         │ 1              │ 1.01349e5       │ 1      │\n",
      "│ 2         │ 15647311   │ Hill     │ 608         │ Spain     │ Female  │ 41    │ 1      │ 83807.9    │ 1             │ 0         │ 1              │ 1.12543e5       │ 0      │\n",
      "│ 3         │ 15619304   │ Onio     │ 502         │ France    │ Female  │ 42    │ 8      │ 1.59661e5  │ 3             │ 1         │ 0              │ 1.13932e5       │ 1      │\n",
      "│ 4         │ 15701354   │ Boni     │ 699         │ France    │ Female  │ 39    │ 1      │ 0.0        │ 2             │ 0         │ 0              │ 93826.6         │ 0      │\n",
      "│ 5         │ 15737888   │ Mitchell │ 850         │ Spain     │ Female  │ 43    │ 2      │ 1.25511e5  │ 1             │ 1         │ 1              │ 79084.1         │ 0      │\n",
      "└───────────┴────────────┴──────────┴─────────────┴───────────┴─────────┴───────┴────────┴────────────┴───────────────┴───────────┴────────────────┴─────────────────┴────────┘\n"
     ]
    }
   ],
   "source": [
    "df = CSV.read(\"../datasets/churn.csv\", DataFrame)\n",
    "first(df, 5) |> pretty"
   ]
  },
  {
   "cell_type": "markdown",
   "id": "10d0137a",
   "metadata": {},
   "source": [
    "Let's get rid of useless columns such as `RowNumber` and `CustomerId`"
   ]
  },
  {
   "cell_type": "code",
   "execution_count": 3,
   "id": "5dee3002",
   "metadata": {
    "attributes": {
     "classes": [
      "julia"
     ],
     "id": ""
    }
   },
   "outputs": [
    {
     "name": "stdout",
     "output_type": "stream",
     "text": [
      "┌─────────────┬───────────┬─────────┬───────┬────────┬────────────┬───────────────┬───────────┬────────────────┬─────────────────┬────────┐\n",
      "│\u001b[1m CreditScore \u001b[0m│\u001b[1m Geography \u001b[0m│\u001b[1m Gender  \u001b[0m│\u001b[1m Age   \u001b[0m│\u001b[1m Tenure \u001b[0m│\u001b[1m Balance    \u001b[0m│\u001b[1m NumOfProducts \u001b[0m│\u001b[1m HasCrCard \u001b[0m│\u001b[1m IsActiveMember \u001b[0m│\u001b[1m EstimatedSalary \u001b[0m│\u001b[1m Exited \u001b[0m│\n",
      "│\u001b[90m Int64       \u001b[0m│\u001b[90m String7   \u001b[0m│\u001b[90m String7 \u001b[0m│\u001b[90m Int64 \u001b[0m│\u001b[90m Int64  \u001b[0m│\u001b[90m Float64    \u001b[0m│\u001b[90m Int64         \u001b[0m│\u001b[90m Int64     \u001b[0m│\u001b[90m Int64          \u001b[0m│\u001b[90m Float64         \u001b[0m│\u001b[90m Int64  \u001b[0m│\n",
      "│\u001b[90m Count       \u001b[0m│\u001b[90m Textual   \u001b[0m│\u001b[90m Textual \u001b[0m│\u001b[90m Count \u001b[0m│\u001b[90m Count  \u001b[0m│\u001b[90m Continuous \u001b[0m│\u001b[90m Count         \u001b[0m│\u001b[90m Count     \u001b[0m│\u001b[90m Count          \u001b[0m│\u001b[90m Continuous      \u001b[0m│\u001b[90m Count  \u001b[0m│\n",
      "├─────────────┼───────────┼─────────┼───────┼────────┼────────────┼───────────────┼───────────┼────────────────┼─────────────────┼────────┤\n",
      "│ 619         │ France    │ Female  │ 42    │ 2      │ 0.0        │ 1             │ 1         │ 1              │ 1.01349e5       │ 1      │\n",
      "│ 608         │ Spain     │ Female  │ 41    │ 1      │ 83807.9    │ 1             │ 0         │ 1              │ 1.12543e5       │ 0      │\n",
      "│ 502         │ France    │ Female  │ 42    │ 8      │ 1.59661e5  │ 3             │ 1         │ 0              │ 1.13932e5       │ 1      │\n",
      "│ 699         │ France    │ Female  │ 39    │ 1      │ 0.0        │ 2             │ 0         │ 0              │ 93826.6         │ 0      │\n",
      "│ 850         │ Spain     │ Female  │ 43    │ 2      │ 1.25511e5  │ 1             │ 1         │ 1              │ 79084.1         │ 0      │\n",
      "└─────────────┴───────────┴─────────┴───────┴────────┴────────────┴───────────────┴───────────┴────────────────┴─────────────────┴────────┘\n"
     ]
    }
   ],
   "source": [
    "df = df[:, Not([:Surname, :RowNumber, :CustomerId])]\n",
    "\n",
    "first(df, 5) |> pretty"
   ]
  },
  {
   "cell_type": "markdown",
   "id": "0f565250",
   "metadata": {},
   "source": [
    "## Coercing Data\n",
    "\n",
    "Let's coerce the nominal data to `Multiclass`, the ordinal data to `OrderedFactor` and the continuous data to `Continuous`."
   ]
  },
  {
   "cell_type": "code",
   "execution_count": 4,
   "id": "1bff525b",
   "metadata": {
    "attributes": {
     "classes": [
      "julia"
     ],
     "id": ""
    }
   },
   "outputs": [
    {
     "data": {
      "text/plain": [
       "┌─────────────────┬────────────────────┬───────────────────────────────────┐\n",
       "│\u001b[22m names           \u001b[0m│\u001b[22m scitypes           \u001b[0m│\u001b[22m types                             \u001b[0m│\n",
       "├─────────────────┼────────────────────┼───────────────────────────────────┤\n",
       "│ CreditScore     │ OrderedFactor{460} │ CategoricalValue{Int64, UInt32}   │\n",
       "│ Geography       │ Multiclass{3}      │ CategoricalValue{String7, UInt32} │\n",
       "│ Gender          │ Multiclass{2}      │ CategoricalValue{String7, UInt32} │\n",
       "│ Age             │ OrderedFactor{70}  │ CategoricalValue{Int64, UInt32}   │\n",
       "│ Tenure          │ OrderedFactor{11}  │ CategoricalValue{Int64, UInt32}   │\n",
       "│ Balance         │ Continuous         │ Float64                           │\n",
       "│ NumOfProducts   │ OrderedFactor{4}   │ CategoricalValue{Int64, UInt32}   │\n",
       "│ HasCrCard       │ Multiclass{2}      │ CategoricalValue{Int64, UInt32}   │\n",
       "│ IsActiveMember  │ Multiclass{2}      │ CategoricalValue{Int64, UInt32}   │\n",
       "│ EstimatedSalary │ Continuous         │ Float64                           │\n",
       "│ Exited          │ Multiclass{2}      │ CategoricalValue{Int64, UInt32}   │\n",
       "└─────────────────┴────────────────────┴───────────────────────────────────┘\n"
      ]
     },
     "metadata": {},
     "output_type": "display_data"
    }
   ],
   "source": [
    "df = coerce(df, \n",
    "              :Geography => Multiclass, \n",
    "              :Gender=> Multiclass,\n",
    "              :CreditScore => OrderedFactor,\n",
    "              :Age => OrderedFactor,\n",
    "              :Tenure => OrderedFactor,\n",
    "              :Balance => Continuous,\n",
    "              :NumOfProducts => OrderedFactor,\n",
    "              :HasCrCard => Multiclass,\n",
    "              :IsActiveMember => Multiclass,\n",
    "              :EstimatedSalary => Continuous,\n",
    "              :Exited => Multiclass\n",
    "              )\n",
    "\n",
    "ScientificTypes.schema(df)"
   ]
  },
  {
   "cell_type": "markdown",
   "id": "8c47ef87",
   "metadata": {},
   "source": [
    "## Unpacking and Splitting Data"
   ]
  },
  {
   "cell_type": "code",
   "execution_count": 5,
   "id": "2009443f",
   "metadata": {
    "attributes": {
     "classes": [
      "julia"
     ],
     "id": ""
    }
   },
   "outputs": [
    {
     "name": "stdout",
     "output_type": "stream",
     "text": [
      "┌─────────────────────────────────┬───────────────────────────────────┬───────────────────────────────────┬─────────────────────────────────┬─────────────────────────────────┬────────────┬─────────────────────────────────┬─────────────────────────────────┬─────────────────────────────────┬─────────────────┐\n",
      "│\u001b[1m CreditScore                     \u001b[0m│\u001b[1m Geography                         \u001b[0m│\u001b[1m Gender                            \u001b[0m│\u001b[1m Age                             \u001b[0m│\u001b[1m Tenure                          \u001b[0m│\u001b[1m Balance    \u001b[0m│\u001b[1m NumOfProducts                   \u001b[0m│\u001b[1m HasCrCard                       \u001b[0m│\u001b[1m IsActiveMember                  \u001b[0m│\u001b[1m EstimatedSalary \u001b[0m│\n",
      "│\u001b[90m CategoricalValue{Int64, UInt32} \u001b[0m│\u001b[90m CategoricalValue{String7, UInt32} \u001b[0m│\u001b[90m CategoricalValue{String7, UInt32} \u001b[0m│\u001b[90m CategoricalValue{Int64, UInt32} \u001b[0m│\u001b[90m CategoricalValue{Int64, UInt32} \u001b[0m│\u001b[90m Float64    \u001b[0m│\u001b[90m CategoricalValue{Int64, UInt32} \u001b[0m│\u001b[90m CategoricalValue{Int64, UInt32} \u001b[0m│\u001b[90m CategoricalValue{Int64, UInt32} \u001b[0m│\u001b[90m Float64         \u001b[0m│\n",
      "│\u001b[90m OrderedFactor{460}              \u001b[0m│\u001b[90m Multiclass{3}                     \u001b[0m│\u001b[90m Multiclass{2}                     \u001b[0m│\u001b[90m OrderedFactor{70}               \u001b[0m│\u001b[90m OrderedFactor{11}               \u001b[0m│\u001b[90m Continuous \u001b[0m│\u001b[90m OrderedFactor{4}                \u001b[0m│\u001b[90m Multiclass{2}                   \u001b[0m│\u001b[90m Multiclass{2}                   \u001b[0m│\u001b[90m Continuous      \u001b[0m│\n",
      "├─────────────────────────────────┼───────────────────────────────────┼───────────────────────────────────┼─────────────────────────────────┼─────────────────────────────────┼────────────┼─────────────────────────────────┼─────────────────────────────────┼─────────────────────────────────┼─────────────────┤\n",
      "│ 669                             │ France                            │ Female                            │ 31                              │ 6                               │ 1.13001e5  │ 1                               │ 1                               │ 0                               │ 40467.8         │\n",
      "│ 822                             │ France                            │ Male                              │ 37                              │ 3                               │ 105563.0   │ 1                               │ 1                               │ 0                               │ 1.82625e5       │\n",
      "│ 423                             │ France                            │ Female                            │ 36                              │ 5                               │ 97665.6    │ 1                               │ 1                               │ 0                               │ 1.18373e5       │\n",
      "│ 623                             │ France                            │ Male                              │ 21                              │ 10                              │ 0.0        │ 2                               │ 0                               │ 1                               │ 1.35851e5       │\n",
      "│ 691                             │ Germany                           │ Female                            │ 37                              │ 7                               │ 1.23068e5  │ 1                               │ 1                               │ 1                               │ 98162.4         │\n",
      "└─────────────────────────────────┴───────────────────────────────────┴───────────────────────────────────┴─────────────────────────────────┴─────────────────────────────────┴────────────┴─────────────────────────────────┴─────────────────────────────────┴─────────────────────────────────┴─────────────────┘\n"
     ]
    }
   ],
   "source": [
    "y, X = unpack(df, ==(:Exited); rng=123);\n",
    "first(X, 5) |> pretty"
   ]
  },
  {
   "cell_type": "code",
   "execution_count": 6,
   "id": "91329e39",
   "metadata": {
    "attributes": {
     "classes": [
      "julia"
     ],
     "id": ""
    }
   },
   "outputs": [
    {
     "data": {
      "text/plain": [
       "(CategoricalValue{Int64, UInt32}[0, 1, 1, 0, 0, 0, 0, 0, 0, 0  …  0, 0, 0, 1, 0, 0, 0, 0, 1, 0], CategoricalValue{Int64, UInt32}[0, 0, 0, 0, 0, 1, 1, 0, 0, 0  …  0, 0, 0, 0, 0, 0, 0, 0, 0, 0])"
      ]
     },
     "metadata": {},
     "output_type": "display_data"
    }
   ],
   "source": [
    "train_inds, test_inds = partition(eachindex(y), 0.8, shuffle=true, \n",
    "                                  rng=Random.Xoshiro(42))\n",
    "X_train, X_test = X[train_inds, :], X[test_inds, :]\n",
    "y_train, y_test = y[train_inds], y[test_inds]"
   ]
  },
  {
   "cell_type": "markdown",
   "id": "6b756a7e",
   "metadata": {},
   "source": [
    "## Oversampling\n",
    "\n",
    "\n",
    "\n",
    "Before deciding to oversample, let's see how adverse is the imbalance problem, if it exists. Ideally, you may as well check if the classification model is robust to this problem."
   ]
  },
  {
   "cell_type": "code",
   "execution_count": 7,
   "id": "4d9a140a",
   "metadata": {
    "attributes": {
     "classes": [
      "julia"
     ],
     "id": ""
    }
   },
   "outputs": [
    {
     "name": "stdout",
     "output_type": "stream",
     "text": [
      "1: ▇▇▇▇▇▇▇▇▇▇▇▇▇ 2037 (25.6%) \n",
      "0: ▇▇▇▇▇▇▇▇▇▇▇▇▇▇▇▇▇▇▇▇▇▇▇▇▇▇▇▇▇▇▇▇▇▇▇▇▇▇▇▇▇▇▇▇▇▇▇▇▇▇ 7963 (100.0%) \n"
     ]
    }
   ],
   "source": [
    "checkbalance(y)         # comes from Imbalance"
   ]
  },
  {
   "cell_type": "markdown",
   "id": "4d47af96",
   "metadata": {},
   "source": [
    "Looks like we have a class imbalance problem. Let's oversample with SMOTE-NC and set the desired ratios so that the positive minority class is 90% of the majority class"
   ]
  },
  {
   "cell_type": "code",
   "execution_count": 25,
   "id": "e1dacad3",
   "metadata": {
    "attributes": {
     "classes": [
      "julia"
     ],
     "id": ""
    }
   },
   "outputs": [
    {
     "data": {
      "text/plain": [
       "(\u001b[1m12109×10 DataFrame\u001b[0m\n",
       "\u001b[1m   Row \u001b[0m│\u001b[1m CreditScore \u001b[0m\u001b[1m Geography \u001b[0m\u001b[1m Gender \u001b[0m\u001b[1m Age  \u001b[0m\u001b[1m Tenure \u001b[0m\u001b[1m Balance        \u001b[0m\u001b[1m NumOfPr\u001b[0m ⋯\n",
       "       │\u001b[90m Cat…        \u001b[0m\u001b[90m Cat…      \u001b[0m\u001b[90m Cat…   \u001b[0m\u001b[90m Cat… \u001b[0m\u001b[90m Cat…   \u001b[0m\u001b[90m Float64        \u001b[0m\u001b[90m Cat…   \u001b[0m ⋯\n",
       "───────┼────────────────────────────────────────────────────────────────────────\n",
       "     1 │ 551          France     Female  38    10           0.0        2       ⋯\n",
       "     2 │ 676          France     Female  37    5        89634.7        1\n",
       "     3 │ 543          France     Male    42    4        89838.7        3\n",
       "     4 │ 663          France     Male    34    10           0.0        1\n",
       "     5 │ 621          Germany    Female  34    2        91258.5        2       ⋯\n",
       "     6 │ 723          France     Male    28    4            0.0        2\n",
       "     7 │ 735          France     Female  21    1            1.78718e5  2\n",
       "     8 │ 501          France     Male    35    6        99760.8        1\n",
       "   ⋮   │      ⋮           ⋮        ⋮      ⋮      ⋮           ⋮               ⋮ ⋱\n",
       " 12103 │ 551          France     Female  40    2            1.68002e5  1       ⋯\n",
       " 12104 │ 716          France     Female  46    2            1.09379e5  2\n",
       " 12105 │ 850          Spain      Female  45    10           1.66777e5  1\n",
       " 12106 │ 785          France     Female  39    9            1.33118e5  1\n",
       " 12107 │ 565          Germany    Female  39    5            1.44874e5  1       ⋯\n",
       " 12108 │ 510          Germany    Male    43    0            1.38862e5  1\n",
       " 12109 │ 760          France     Female  41    2       113419.0        1\n",
       "\u001b[36m                                                4 columns and 12094 rows omitted\u001b[0m, CategoricalValue{Int64, UInt32}[0, 1, 1, 0, 0, 0, 0, 0, 0, 0  …  1, 1, 1, 1, 1, 1, 1, 1, 1, 1])"
      ]
     },
     "metadata": {},
     "output_type": "display_data"
    }
   ],
   "source": [
    "Xover, yover = smotenc(X_train, y_train; k=3, ratios=Dict(1=>0.9), rng=42)"
   ]
  },
  {
   "cell_type": "code",
   "execution_count": 19,
   "id": "07a0a555",
   "metadata": {
    "attributes": {
     "classes": [
      "julia"
     ],
     "id": ""
    }
   },
   "outputs": [
    {
     "name": "stdout",
     "output_type": "stream",
     "text": [
      "1: ▇▇▇▇▇▇▇▇▇▇▇▇▇▇▇▇▇▇▇▇▇▇▇▇▇▇▇▇▇▇▇▇▇▇▇▇▇▇▇▇▇▇▇▇▇ 5736 (90.0%) \n",
      "0: ▇▇▇▇▇▇▇▇▇▇▇▇▇▇▇▇▇▇▇▇▇▇▇▇▇▇▇▇▇▇▇▇▇▇▇▇▇▇▇▇▇▇▇▇▇▇▇▇▇▇ 6373 (100.0%) \n"
     ]
    }
   ],
   "source": [
    "checkbalance(yover)"
   ]
  },
  {
   "cell_type": "markdown",
   "id": "91af34d0",
   "metadata": {},
   "source": [
    "## Training the Model\n",
    "\n",
    "\n",
    "\n",
    "Let's find possible models"
   ]
  },
  {
   "cell_type": "code",
   "execution_count": 20,
   "id": "22e260f7",
   "metadata": {
    "attributes": {
     "classes": [
      "julia"
     ],
     "id": ""
    }
   },
   "outputs": [
    {
     "data": {
      "text/plain": [
       "5-element Vector{NamedTuple{(:name, :package_name, :is_supervised, :abstract_type, :deep_properties, :docstring, :fit_data_scitype, :human_name, :hyperparameter_ranges, :hyperparameter_types, :hyperparameters, :implemented_methods, :inverse_transform_scitype, :is_pure_julia, :is_wrapper, :iteration_parameter, :load_path, :package_license, :package_url, :package_uuid, :predict_scitype, :prediction_type, :reporting_operations, :reports_feature_importances, :supports_class_weights, :supports_online, :supports_training_losses, :supports_weights, :transform_scitype, :input_scitype, :target_scitype, :output_scitype)}}:\n",
       " (name = CatBoostClassifier, package_name = CatBoost, ... )\n",
       " (name = ConstantClassifier, package_name = MLJModels, ... )\n",
       " (name = DecisionTreeClassifier, package_name = BetaML, ... )\n",
       " (name = DeterministicConstantClassifier, package_name = MLJModels, ... )\n",
       " (name = RandomForestClassifier, package_name = BetaML, ... )"
      ]
     },
     "metadata": {},
     "output_type": "display_data"
    }
   ],
   "source": [
    "ms = models(matching(Xover, yover))"
   ]
  },
  {
   "cell_type": "markdown",
   "id": "4e909c8b",
   "metadata": {},
   "source": [
    "Let's go for a logistic classifier form MLJLinearModels"
   ]
  },
  {
   "cell_type": "code",
   "execution_count": null,
   "id": "f4821555",
   "metadata": {
    "attributes": {
     "classes": [
      "julia"
     ],
     "id": ""
    }
   },
   "outputs": [],
   "source": [
    "import Pkg; Pkg.add(\"BetaML\")"
   ]
  },
  {
   "cell_type": "markdown",
   "id": "73350de0",
   "metadata": {},
   "source": [
    "Let's go for a decision tree from BetaML. We can't go for logistic regression as we did in the SMOTE tutorial because it does not support categotical features.\n",
    "\n",
    "### Before Oversampling"
   ]
  },
  {
   "cell_type": "code",
   "execution_count": 21,
   "id": "a938f766",
   "metadata": {
    "attributes": {
     "classes": [
      "julia"
     ],
     "id": ""
    }
   },
   "outputs": [
    {
     "name": "stdout",
     "output_type": "stream",
     "text": [
      "import BetaML ✔\n"
     ]
    },
    {
     "name": "stderr",
     "output_type": "stream",
     "text": [
      "┌ Info: For silent loading, specify `verbosity=0`. \n",
      "└ @ Main /Users/essam/.julia/packages/MLJModels/EkXIe/src/loading.jl:159\n"
     ]
    },
    {
     "data": {
      "text/plain": [
       "trained Machine; caches model-specific representations of data\n",
       "  model: DecisionTreeClassifier(max_depth = 4, …)\n",
       "  args: \n",
       "    1:\tSource @378 ⏎ Table{Union{AbstractVector{Continuous}, AbstractVector{Multiclass{3}}, AbstractVector{Multiclass{2}}, AbstractVector{OrderedFactor{460}}, AbstractVector{OrderedFactor{70}}, AbstractVector{OrderedFactor{11}}, AbstractVector{OrderedFactor{4}}}}\n",
       "    2:\tSource @049 ⏎ AbstractVector{Multiclass{2}}\n"
      ]
     },
     "metadata": {},
     "output_type": "display_data"
    }
   ],
   "source": [
    "# 1. Load the model\n",
    "DecisionTreeClassifier = @load DecisionTreeClassifier pkg=BetaML\n",
    "\n",
    "# 2. Instantiate it\n",
    "model = DecisionTreeClassifier( max_depth=4, rng=Random.Xoshiro(42))\n",
    "\n",
    "# 3. Wrap it with the data in a machine\n",
    "mach = machine(model, X_train, y_train)\n",
    "\n",
    "# 4. fit the machine learning model\n",
    "fit!(mach, verbosity=0)"
   ]
  },
  {
   "cell_type": "markdown",
   "id": "43ad590e",
   "metadata": {},
   "source": [
    "### After Oversampling"
   ]
  },
  {
   "cell_type": "code",
   "execution_count": 26,
   "id": "703f6aed",
   "metadata": {
    "attributes": {
     "classes": [
      "julia"
     ],
     "id": ""
    }
   },
   "outputs": [
    {
     "name": "stderr",
     "output_type": "stream",
     "text": [
      "┌ Info: Training machine(DecisionTreeClassifier(max_depth = 4, …), …).\n",
      "└ @ MLJBase /Users/essam/.julia/packages/MLJBase/ByFwA/src/machines.jl:492\n"
     ]
    },
    {
     "data": {
      "text/plain": [
       "trained Machine; caches model-specific representations of data\n",
       "  model: DecisionTreeClassifier(max_depth = 4, …)\n",
       "  args: \n",
       "    1:\tSource @033 ⏎ Table{Union{AbstractVector{Continuous}, AbstractVector{Multiclass{3}}, AbstractVector{Multiclass{2}}, AbstractVector{OrderedFactor{460}}, AbstractVector{OrderedFactor{70}}, AbstractVector{OrderedFactor{11}}, AbstractVector{OrderedFactor{4}}}}\n",
       "    2:\tSource @939 ⏎ AbstractVector{Multiclass{2}}\n"
      ]
     },
     "metadata": {},
     "output_type": "display_data"
    }
   ],
   "source": [
    "# 3. Wrap it with the data in a machine\n",
    "mach_over = machine(model, Xover, yover)\n",
    "\n",
    "# 4. fit the machine learning model\n",
    "fit!(mach_over)"
   ]
  },
  {
   "cell_type": "markdown",
   "id": "4aecd966",
   "metadata": {},
   "source": [
    "## Evaluating the Model\n",
    "\n",
    "\n",
    "\n",
    "To evaluate the model, we will use the balanced accuracy metric which equally accounts for all classes. \n",
    "\n",
    "### Before Oversampling"
   ]
  },
  {
   "cell_type": "code",
   "execution_count": 23,
   "id": "6b7263e3",
   "metadata": {
    "attributes": {
     "classes": [
      "julia"
     ],
     "id": ""
    }
   },
   "outputs": [
    {
     "data": {
      "text/plain": [
       "0.57"
      ]
     },
     "metadata": {},
     "output_type": "display_data"
    }
   ],
   "source": [
    "y_pred = predict_mode(mach, X_test)                         \n",
    "\n",
    "score = round(balanced_accuracy(y_pred, y_test), digits=2)"
   ]
  },
  {
   "cell_type": "markdown",
   "id": "b55079fc",
   "metadata": {},
   "source": [
    "### After Oversampling"
   ]
  },
  {
   "cell_type": "code",
   "execution_count": 27,
   "id": "a1105a53",
   "metadata": {
    "attributes": {
     "classes": [
      "julia"
     ],
     "id": ""
    }
   },
   "outputs": [
    {
     "data": {
      "text/plain": [
       "0.7"
      ]
     },
     "metadata": {},
     "output_type": "display_data"
    }
   ],
   "source": [
    "y_pred_over = predict_mode(mach_over, X_test)\n",
    "\n",
    "score = round(balanced_accuracy(y_pred_over, y_test), digits=2)"
   ]
  },
  {
   "cell_type": "markdown",
   "id": "80a64c60",
   "metadata": {},
   "source": [
    "Although the results do get better compared to when we just used SMOTE, it may hold in this case that the extra categorical features we took into account are not be that important. The difference may be attributed to the decision tree."
   ]
  },
  {
   "cell_type": "markdown",
   "id": "f188fbb8",
   "metadata": {},
   "source": [
    "## Evaluating the Model - Revisited\n",
    "\n",
    "We have previously evaluated the model using a single point estimate of the balanced accuracy resulting in a `13%` improvement. A more precise evaluation would use cross validation to combine many different point estimates into a more precise one (their average). The standard deviation among such point estimates also allows us to quantify the uncertainty of the estimate; a smaller standard deviation would imply a smaller confidence interval at the same probability.\n",
    "\n",
    "### Before Oversampling"
   ]
  },
  {
   "cell_type": "code",
   "execution_count": 28,
   "id": "9c65585b",
   "metadata": {},
   "outputs": [
    {
     "name": "stderr",
     "output_type": "stream",
     "text": [
      "\r\u001b[33mEvaluating over 10 folds:  20%[=====>                   ]  ETA: 0:02:21\u001b[39m\u001b[K"
     ]
    },
    {
     "name": "stderr",
     "output_type": "stream",
     "text": [
      "\r\u001b[33mEvaluating over 10 folds:  30%[=======>                 ]  ETA: 0:02:08\u001b[39m\u001b[K"
     ]
    },
    {
     "name": "stderr",
     "output_type": "stream",
     "text": [
      "\r\u001b[33mEvaluating over 10 folds:  40%[==========>              ]  ETA: 0:01:48\u001b[39m\u001b[K"
     ]
    },
    {
     "name": "stderr",
     "output_type": "stream",
     "text": [
      "\r\u001b[33mEvaluating over 10 folds:  50%[============>            ]  ETA: 0:01:29\u001b[39m\u001b[K"
     ]
    },
    {
     "name": "stderr",
     "output_type": "stream",
     "text": [
      "\r\u001b[33mEvaluating over 10 folds:  60%[===============>         ]  ETA: 0:01:11\u001b[39m\u001b[K"
     ]
    },
    {
     "name": "stderr",
     "output_type": "stream",
     "text": [
      "\r\u001b[33mEvaluating over 10 folds:  70%[=================>       ]  ETA: 0:00:53\u001b[39m\u001b[K"
     ]
    },
    {
     "name": "stderr",
     "output_type": "stream",
     "text": [
      "\r\u001b[33mEvaluating over 10 folds:  80%[====================>    ]  ETA: 0:00:35\u001b[39m\u001b[K"
     ]
    },
    {
     "name": "stderr",
     "output_type": "stream",
     "text": [
      "\r\u001b[33mEvaluating over 10 folds:  90%[======================>  ]  ETA: 0:00:18\u001b[39m\u001b[K"
     ]
    },
    {
     "name": "stderr",
     "output_type": "stream",
     "text": [
      "\r\u001b[33mEvaluating over 10 folds: 100%[=========================] Time: 0:02:54\u001b[39m\u001b[K\n"
     ]
    },
    {
     "data": {
      "text/plain": [
       "PerformanceEvaluation object with these fields:\n",
       "  model, measure, operation, measurement, per_fold,\n",
       "  per_observation, fitted_params_per_fold,\n",
       "  report_per_fold, train_test_rows, resampling, repeats\n",
       "Extract:\n",
       "┌─────────────────────┬──────────────┬─────────────┬─────────┬──────────────────\n",
       "│\u001b[22m measure             \u001b[0m│\u001b[22m operation    \u001b[0m│\u001b[22m measurement \u001b[0m│\u001b[22m 1.96*SE \u001b[0m│\u001b[22m per_fold       \u001b[0m ⋯\n",
       "├─────────────────────┼──────────────┼─────────────┼─────────┼──────────────────\n",
       "│ BalancedAccuracy(   │ predict_mode │ 0.565       │ 0.00623 │ [0.568, 0.554,  ⋯\n",
       "│   adjusted = false) │              │             │         │                 ⋯\n",
       "└─────────────────────┴──────────────┴─────────────┴─────────┴──────────────────\n",
       "\u001b[36m                                                                1 column omitted\u001b[0m\n"
      ]
     },
     "metadata": {},
     "output_type": "display_data"
    }
   ],
   "source": [
    "cv=CV(nfolds=10)\n",
    "evaluate!(mach, resampling=cv, measure=balanced_accuracy) "
   ]
  },
  {
   "cell_type": "markdown",
   "id": "fffee35f",
   "metadata": {},
   "source": [
    "Before oversampling, and assuming that the balanced accuracy score is normally distribued we can be `95%` confident that the balanced accuracy on new data is `56.5±0.62`. Indeed, this agrees a lot with the original point estimate."
   ]
  },
  {
   "cell_type": "markdown",
   "id": "9ffbc7bd",
   "metadata": {},
   "source": [
    "### After Oversampling"
   ]
  },
  {
   "cell_type": "markdown",
   "id": "ea4f1b17",
   "metadata": {},
   "source": [
    "At first glance, this seems really nontrivial since resampling will have to be performed before training the model on each fold during cross-validation. Thankfully, the `MLJBalancing` helps us avoid doing this manually by offering `BalancedModel` where we can wrap any `MLJ` classification model with an arbitrary number of `Imbalance.jl` resamplers in a pipeline that behaves like a single `MLJ` model.\n",
    "\n",
    "In this, we must construct the resampling model via it's `MLJ` interface then pass it along with the classification model to `BalancedModel`."
   ]
  },
  {
   "cell_type": "code",
   "execution_count": 29,
   "id": "db719856",
   "metadata": {},
   "outputs": [
    {
     "data": {
      "text/plain": [
       "trained Machine; does not cache data\n",
       "  model: BalancedModelProbabilistic(model = DecisionTreeClassifier(max_depth = 4, …), …)\n",
       "  args: \n",
       "    1:\tSource @967 ⏎ Table{Union{AbstractVector{Continuous}, AbstractVector{Multiclass{3}}, AbstractVector{Multiclass{2}}, AbstractVector{OrderedFactor{460}}, AbstractVector{OrderedFactor{70}}, AbstractVector{OrderedFactor{11}}, AbstractVector{OrderedFactor{4}}}}\n",
       "    2:\tSource @394 ⏎ AbstractVector{Multiclass{2}}\n"
      ]
     },
     "metadata": {},
     "output_type": "display_data"
    }
   ],
   "source": [
    "# 2. Instantiate the models\n",
    "oversampler = Imbalance.MLJ.SMOTENC(k=3, ratios=Dict(1=>0.9), rng=42)\n",
    "\n",
    "# 2.1 Wrap them in one model\n",
    "balanced_model = BalancedModel(model=model, balancer1=oversampler)\n",
    "\n",
    "# 3. Wrap it with the data in a machine\n",
    "mach_over = machine(balanced_model, X_train, y_train, scitype_check_level=0)\n",
    "\n",
    "# 4. fit the machine learning model\n",
    "fit!(mach_over, verbosity=0)"
   ]
  },
  {
   "cell_type": "markdown",
   "id": "b90c2843",
   "metadata": {},
   "source": [
    "We can easily confirm that this is equivalent to what we had earlier"
   ]
  },
  {
   "cell_type": "code",
   "execution_count": 30,
   "id": "0099fc1b",
   "metadata": {},
   "outputs": [
    {
     "data": {
      "text/plain": [
       "true"
      ]
     },
     "metadata": {},
     "output_type": "display_data"
    }
   ],
   "source": [
    "predict_mode(mach_over, X_test) == y_pred_over"
   ]
  },
  {
   "cell_type": "markdown",
   "id": "a6d2ab15",
   "metadata": {},
   "source": [
    "Now let's cross-validate"
   ]
  },
  {
   "cell_type": "code",
   "execution_count": 31,
   "id": "9340ec31",
   "metadata": {},
   "outputs": [
    {
     "name": "stderr",
     "output_type": "stream",
     "text": [
      "\r\u001b[33mEvaluating over 10 folds:  20%[=====>                   ]  ETA: 0:06:05\u001b[39m\u001b[K"
     ]
    },
    {
     "name": "stderr",
     "output_type": "stream",
     "text": [
      "\r\u001b[33mEvaluating over 10 folds:  30%[=======>                 ]  ETA: 0:05:17\u001b[39m\u001b[K"
     ]
    },
    {
     "name": "stderr",
     "output_type": "stream",
     "text": [
      "\r\u001b[33mEvaluating over 10 folds:  40%[==========>              ]  ETA: 0:04:28\u001b[39m\u001b[K"
     ]
    },
    {
     "name": "stderr",
     "output_type": "stream",
     "text": [
      "\r\u001b[33mEvaluating over 10 folds:  50%[============>            ]  ETA: 0:03:45\u001b[39m\u001b[K"
     ]
    },
    {
     "name": "stderr",
     "output_type": "stream",
     "text": [
      "\r\u001b[33mEvaluating over 10 folds:  60%[===============>         ]  ETA: 0:02:59\u001b[39m\u001b[K"
     ]
    },
    {
     "name": "stderr",
     "output_type": "stream",
     "text": [
      "\r\u001b[33mEvaluating over 10 folds:  70%[=================>       ]  ETA: 0:02:14\u001b[39m\u001b[K"
     ]
    },
    {
     "name": "stderr",
     "output_type": "stream",
     "text": [
      "\r\u001b[33mEvaluating over 10 folds:  80%[====================>    ]  ETA: 0:01:29\u001b[39m\u001b[K"
     ]
    },
    {
     "name": "stderr",
     "output_type": "stream",
     "text": [
      "\r\u001b[33mEvaluating over 10 folds:  90%[======================>  ]  ETA: 0:00:44\u001b[39m\u001b[K"
     ]
    },
    {
     "name": "stderr",
     "output_type": "stream",
     "text": [
      "\r\u001b[33mEvaluating over 10 folds: 100%[=========================] Time: 0:07:24\u001b[39m\u001b[K\n"
     ]
    },
    {
     "data": {
      "text/plain": [
       "PerformanceEvaluation object with these fields:\n",
       "  model, measure, operation, measurement, per_fold,\n",
       "  per_observation, fitted_params_per_fold,\n",
       "  report_per_fold, train_test_rows, resampling, repeats\n",
       "Extract:\n",
       "┌─────────────────────┬──────────────┬─────────────┬─────────┬──────────────────\n",
       "│\u001b[22m measure             \u001b[0m│\u001b[22m operation    \u001b[0m│\u001b[22m measurement \u001b[0m│\u001b[22m 1.96*SE \u001b[0m│\u001b[22m per_fold       \u001b[0m ⋯\n",
       "├─────────────────────┼──────────────┼─────────────┼─────────┼──────────────────\n",
       "│ BalancedAccuracy(   │ predict_mode │ 0.677       │ 0.0124  │ [0.678, 0.688,  ⋯\n",
       "│   adjusted = false) │              │             │         │                 ⋯\n",
       "└─────────────────────┴──────────────┴─────────────┴─────────┴──────────────────\n",
       "\u001b[36m                                                                1 column omitted\u001b[0m\n"
      ]
     },
     "metadata": {},
     "output_type": "display_data"
    }
   ],
   "source": [
    "cv=CV(nfolds=10)\n",
    "evaluate!(mach_over, resampling=cv, measure=balanced_accuracy) "
   ]
  },
  {
   "cell_type": "markdown",
   "id": "fb1201e4",
   "metadata": {},
   "source": [
    "Fair enough. After oversampling the interval under the same assumptions is `67.7±1.2%` which is still a meaningful improvement over `56.5±0.62` that we had prior to oversampling ot the `55.2±1.5%` that we had with logistic regression and SMOTE in an earlier example."
   ]
  },
  {
   "cell_type": "code",
   "execution_count": 1,
   "id": "89397f26",
   "metadata": {},
   "outputs": [
    {
     "name": "stderr",
     "output_type": "stream",
     "text": [
      "[NbConvertApp] Converting notebook smotenc_churn_dataset.ipynb to markdown\n"
     ]
    },
    {
     "name": "stdout",
     "output_type": "stream",
     "text": [
      "An error occurred: [Errno 2] No such file or directory: './assets'\n",
      "Conversion Complete!\n"
     ]
    },
    {
     "name": "stderr",
     "output_type": "stream",
     "text": [
      "[NbConvertApp] Writing 22642 bytes to smotenc_churn_dataset.md\n"
     ]
    }
   ],
   "source": [
    "import sys; sys.path.append(\"..\")\n",
    "from convert import convert_to_md\n",
    "convert_to_md('smotenc_churn_dataset')"
   ]
  }
 ],
 "metadata": {
  "kernelspec": {
   "display_name": "M1",
   "language": "python",
   "name": "python3"
  },
  "language_info": {
   "codemirror_mode": {
    "name": "ipython",
    "version": 3
   },
   "file_extension": ".py",
   "mimetype": "text/x-python",
   "name": "python",
   "nbconvert_exporter": "python",
   "pygments_lexer": "ipython3",
   "version": "3.9.16"
  }
 },
 "nbformat": 4,
 "nbformat_minor": 5
}
