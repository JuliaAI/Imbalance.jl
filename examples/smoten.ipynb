{
 "cells": [
  {
   "cell_type": "code",
   "execution_count": 1,
   "metadata": {},
   "outputs": [
    {
     "data": {
      "text/plain": [
       "plot_data"
      ]
     },
     "metadata": {},
     "output_type": "display_data"
    }
   ],
   "source": [
    "using DataFrames\n",
    "using Plots\n",
    "using CategoricalArrays\n",
    "using Random\n",
    "using MLJBase: machine, transform\n",
    "using Imbalance\n",
    "using ScientificTypes\n",
    "\n",
    "include(\"./utils.jl\")"
   ]
  },
  {
   "cell_type": "markdown",
   "metadata": {},
   "source": [
    "### 1. Generate Random Data"
   ]
  },
  {
   "cell_type": "code",
   "execution_count": 2,
   "metadata": {},
   "outputs": [
    {
     "data": {
      "text/plain": [
       "(\u001b[1m1477×16 DataFrame\u001b[0m\n",
       "\u001b[1m  Row \u001b[0m│\u001b[1m Gender  \u001b[0m\u001b[1m Age     \u001b[0m\u001b[1m Height  \u001b[0m\u001b[1m Weight   \u001b[0m\u001b[1m H_Cal_Consump \u001b[0m\u001b[1m Veg_Consump \u001b[0m\u001b[1m Water\u001b[0m ⋯\n",
       "      │\u001b[90m String7 \u001b[0m\u001b[90m Float64 \u001b[0m\u001b[90m Float64 \u001b[0m\u001b[90m Float64  \u001b[0m\u001b[90m String3       \u001b[0m\u001b[90m Float64     \u001b[0m\u001b[90m Float\u001b[0m ⋯\n",
       "──────┼─────────────────────────────────────────────────────────────────────────\n",
       "    1 │ Female   22.5473  1.72246   51.8813  yes                2.66342        ⋯\n",
       "    2 │ Male     19.7991  1.7437    54.9275  yes                2.0\n",
       "    3 │ Female   17.8234  1.70841   50.0     yes                1.64224\n",
       "    4 │ Female   19.0072  1.69073   49.8957  yes                1.21291\n",
       "    5 │ Male     19.7293  1.79331   58.1951  yes                2.50883        ⋯\n",
       "    6 │ Male     18.4706  1.85641   58.674   yes                2.34222\n",
       "    7 │ Male     18.0     1.7387    50.2487  yes                1.87121\n",
       "    8 │ Female   29.9704  1.61086   49.516   yes                2.05914\n",
       "  ⋮   │    ⋮        ⋮        ⋮        ⋮            ⋮             ⋮             ⋱\n",
       " 1471 │ Female   24.4974  1.73706  132.527   yes                3.0            ⋯\n",
       " 1472 │ Female   19.9936  1.79283  152.436   yes                3.0\n",
       " 1473 │ Male     26.7741  1.75594  112.288   yes                1.42829\n",
       " 1474 │ Female   20.9088  1.701    126.49    yes                3.0\n",
       " 1475 │ Female   26.0     1.62919  104.827   yes                3.0            ⋯\n",
       " 1476 │ Female   25.9823  1.62922  104.838   yes                3.0\n",
       " 1477 │ Male     23.0     1.77464  105.967   yes                2.31283\n",
       "\u001b[36m                                                10 columns and 1462 rows omitted\u001b[0m, String15[\"Body Level 1\", \"Body Level 1\", \"Body Level 1\", \"Body Level 1\", \"Body Level 1\", \"Body Level 1\", \"Body Level 1\", \"Body Level 1\", \"Body Level 1\", \"Body Level 1\"  …  \"Body Level 4\", \"Body Level 4\", \"Body Level 4\", \"Body Level 4\", \"Body Level 4\", \"Body Level 4\", \"Body Level 4\", \"Body Level 4\", \"Body Level 4\", \"Body Level 4\"])"
      ]
     },
     "metadata": {},
     "output_type": "display_data"
    }
   ],
   "source": [
    "using CSV\n",
    "using DataFrames\n",
    "\n",
    "df = CSV.read(\"dataset.csv\", DataFrame)\n",
    "X, y = DataFrames.select(df, Not(:Body_Level)), df[:, :Body_Level]"
   ]
  },
  {
   "cell_type": "code",
   "execution_count": 3,
   "metadata": {},
   "outputs": [
    {
     "data": {
      "text/html": [
       "<div><div style = \"float: left;\"><span>1477×8 DataFrame</span></div><div style = \"float: right;\"><span style = \"font-style: italic;\">1452 rows omitted</span></div><div style = \"clear: both;\"></div></div><div class = \"data-frame\" style = \"overflow-x: scroll;\"><table class = \"data-frame\" style = \"margin-bottom: 6px;\"><thead><tr class = \"header\"><th class = \"rowNumber\" style = \"font-weight: bold; text-align: right;\">Row</th><th style = \"text-align: left;\">Gender</th><th style = \"text-align: left;\">H_Cal_Consump</th><th style = \"text-align: left;\">Alcohol_Consump</th><th style = \"text-align: left;\">Smoking</th><th style = \"text-align: left;\">Food_Between_Meals</th><th style = \"text-align: left;\">Fam_Hist</th><th style = \"text-align: left;\">H_Cal_Burn</th><th style = \"text-align: left;\">Transport</th></tr><tr class = \"subheader headerLastRow\"><th class = \"rowNumber\" style = \"font-weight: bold; text-align: right;\"></th><th title = \"CategoricalValue{String7, UInt32}\" style = \"text-align: left;\">Cat…</th><th title = \"CategoricalValue{String3, UInt32}\" style = \"text-align: left;\">Cat…</th><th title = \"CategoricalValue{String15, UInt32}\" style = \"text-align: left;\">Cat…</th><th title = \"CategoricalValue{String3, UInt32}\" style = \"text-align: left;\">Cat…</th><th title = \"CategoricalValue{String15, UInt32}\" style = \"text-align: left;\">Cat…</th><th title = \"CategoricalValue{String3, UInt32}\" style = \"text-align: left;\">Cat…</th><th title = \"CategoricalValue{String3, UInt32}\" style = \"text-align: left;\">Cat…</th><th title = \"CategoricalValue{String31, UInt32}\" style = \"text-align: left;\">Cat…</th></tr></thead><tbody><tr><td class = \"rowNumber\" style = \"font-weight: bold; text-align: right;\">1</td><td style = \"text-align: left;\">Female</td><td style = \"text-align: left;\">yes</td><td style = \"text-align: left;\">no</td><td style = \"text-align: left;\">no</td><td style = \"text-align: left;\">Frequently</td><td style = \"text-align: left;\">yes</td><td style = \"text-align: left;\">no</td><td style = \"text-align: left;\">Public_Transportation</td></tr><tr><td class = \"rowNumber\" style = \"font-weight: bold; text-align: right;\">2</td><td style = \"text-align: left;\">Male</td><td style = \"text-align: left;\">yes</td><td style = \"text-align: left;\">Sometimes</td><td style = \"text-align: left;\">no</td><td style = \"text-align: left;\">Sometimes</td><td style = \"text-align: left;\">yes</td><td style = \"text-align: left;\">no</td><td style = \"text-align: left;\">Public_Transportation</td></tr><tr><td class = \"rowNumber\" style = \"font-weight: bold; text-align: right;\">3</td><td style = \"text-align: left;\">Female</td><td style = \"text-align: left;\">yes</td><td style = \"text-align: left;\">Sometimes</td><td style = \"text-align: left;\">no</td><td style = \"text-align: left;\">Sometimes</td><td style = \"text-align: left;\">no</td><td style = \"text-align: left;\">no</td><td style = \"text-align: left;\">Public_Transportation</td></tr><tr><td class = \"rowNumber\" style = \"font-weight: bold; text-align: right;\">4</td><td style = \"text-align: left;\">Female</td><td style = \"text-align: left;\">yes</td><td style = \"text-align: left;\">Sometimes</td><td style = \"text-align: left;\">no</td><td style = \"text-align: left;\">Sometimes</td><td style = \"text-align: left;\">no</td><td style = \"text-align: left;\">no</td><td style = \"text-align: left;\">Public_Transportation</td></tr><tr><td class = \"rowNumber\" style = \"font-weight: bold; text-align: right;\">5</td><td style = \"text-align: left;\">Male</td><td style = \"text-align: left;\">yes</td><td style = \"text-align: left;\">no</td><td style = \"text-align: left;\">no</td><td style = \"text-align: left;\">Sometimes</td><td style = \"text-align: left;\">yes</td><td style = \"text-align: left;\">no</td><td style = \"text-align: left;\">Automobile</td></tr><tr><td class = \"rowNumber\" style = \"font-weight: bold; text-align: right;\">6</td><td style = \"text-align: left;\">Male</td><td style = \"text-align: left;\">yes</td><td style = \"text-align: left;\">no</td><td style = \"text-align: left;\">no</td><td style = \"text-align: left;\">Sometimes</td><td style = \"text-align: left;\">yes</td><td style = \"text-align: left;\">no</td><td style = \"text-align: left;\">Automobile</td></tr><tr><td class = \"rowNumber\" style = \"font-weight: bold; text-align: right;\">7</td><td style = \"text-align: left;\">Male</td><td style = \"text-align: left;\">yes</td><td style = \"text-align: left;\">Sometimes</td><td style = \"text-align: left;\">no</td><td style = \"text-align: left;\">Sometimes</td><td style = \"text-align: left;\">yes</td><td style = \"text-align: left;\">no</td><td style = \"text-align: left;\">Public_Transportation</td></tr><tr><td class = \"rowNumber\" style = \"font-weight: bold; text-align: right;\">8</td><td style = \"text-align: left;\">Female</td><td style = \"text-align: left;\">yes</td><td style = \"text-align: left;\">no</td><td style = \"text-align: left;\">no</td><td style = \"text-align: left;\">Frequently</td><td style = \"text-align: left;\">yes</td><td style = \"text-align: left;\">no</td><td style = \"text-align: left;\">Public_Transportation</td></tr><tr><td class = \"rowNumber\" style = \"font-weight: bold; text-align: right;\">9</td><td style = \"text-align: left;\">Female</td><td style = \"text-align: left;\">no</td><td style = \"text-align: left;\">no</td><td style = \"text-align: left;\">no</td><td style = \"text-align: left;\">Frequently</td><td style = \"text-align: left;\">no</td><td style = \"text-align: left;\">no</td><td style = \"text-align: left;\">Public_Transportation</td></tr><tr><td class = \"rowNumber\" style = \"font-weight: bold; text-align: right;\">10</td><td style = \"text-align: left;\">Female</td><td style = \"text-align: left;\">no</td><td style = \"text-align: left;\">Sometimes</td><td style = \"text-align: left;\">yes</td><td style = \"text-align: left;\">Sometimes</td><td style = \"text-align: left;\">no</td><td style = \"text-align: left;\">no</td><td style = \"text-align: left;\">Automobile</td></tr><tr><td class = \"rowNumber\" style = \"font-weight: bold; text-align: right;\">11</td><td style = \"text-align: left;\">Female</td><td style = \"text-align: left;\">yes</td><td style = \"text-align: left;\">Sometimes</td><td style = \"text-align: left;\">no</td><td style = \"text-align: left;\">Sometimes</td><td style = \"text-align: left;\">no</td><td style = \"text-align: left;\">no</td><td style = \"text-align: left;\">Public_Transportation</td></tr><tr><td class = \"rowNumber\" style = \"font-weight: bold; text-align: right;\">12</td><td style = \"text-align: left;\">Female</td><td style = \"text-align: left;\">yes</td><td style = \"text-align: left;\">Sometimes</td><td style = \"text-align: left;\">no</td><td style = \"text-align: left;\">Frequently</td><td style = \"text-align: left;\">no</td><td style = \"text-align: left;\">no</td><td style = \"text-align: left;\">Public_Transportation</td></tr><tr><td class = \"rowNumber\" style = \"font-weight: bold; text-align: right;\">13</td><td style = \"text-align: left;\">Female</td><td style = \"text-align: left;\">yes</td><td style = \"text-align: left;\">Sometimes</td><td style = \"text-align: left;\">no</td><td style = \"text-align: left;\">Sometimes</td><td style = \"text-align: left;\">no</td><td style = \"text-align: left;\">no</td><td style = \"text-align: left;\">Public_Transportation</td></tr><tr><td style = \"text-align: right;\">&vellip;</td><td style = \"text-align: right;\">&vellip;</td><td style = \"text-align: right;\">&vellip;</td><td style = \"text-align: right;\">&vellip;</td><td style = \"text-align: right;\">&vellip;</td><td style = \"text-align: right;\">&vellip;</td><td style = \"text-align: right;\">&vellip;</td><td style = \"text-align: right;\">&vellip;</td><td style = \"text-align: right;\">&vellip;</td></tr><tr><td class = \"rowNumber\" style = \"font-weight: bold; text-align: right;\">1466</td><td style = \"text-align: left;\">Female</td><td style = \"text-align: left;\">yes</td><td style = \"text-align: left;\">no</td><td style = \"text-align: left;\">no</td><td style = \"text-align: left;\">Sometimes</td><td style = \"text-align: left;\">yes</td><td style = \"text-align: left;\">no</td><td style = \"text-align: left;\">Public_Transportation</td></tr><tr><td class = \"rowNumber\" style = \"font-weight: bold; text-align: right;\">1467</td><td style = \"text-align: left;\">Male</td><td style = \"text-align: left;\">yes</td><td style = \"text-align: left;\">Sometimes</td><td style = \"text-align: left;\">yes</td><td style = \"text-align: left;\">Sometimes</td><td style = \"text-align: left;\">yes</td><td style = \"text-align: left;\">no</td><td style = \"text-align: left;\">Public_Transportation</td></tr><tr><td class = \"rowNumber\" style = \"font-weight: bold; text-align: right;\">1468</td><td style = \"text-align: left;\">Male</td><td style = \"text-align: left;\">yes</td><td style = \"text-align: left;\">Sometimes</td><td style = \"text-align: left;\">no</td><td style = \"text-align: left;\">Sometimes</td><td style = \"text-align: left;\">yes</td><td style = \"text-align: left;\">no</td><td style = \"text-align: left;\">Public_Transportation</td></tr><tr><td class = \"rowNumber\" style = \"font-weight: bold; text-align: right;\">1469</td><td style = \"text-align: left;\">Female</td><td style = \"text-align: left;\">yes</td><td style = \"text-align: left;\">Sometimes</td><td style = \"text-align: left;\">no</td><td style = \"text-align: left;\">Sometimes</td><td style = \"text-align: left;\">yes</td><td style = \"text-align: left;\">no</td><td style = \"text-align: left;\">Public_Transportation</td></tr><tr><td class = \"rowNumber\" style = \"font-weight: bold; text-align: right;\">1470</td><td style = \"text-align: left;\">Male</td><td style = \"text-align: left;\">yes</td><td style = \"text-align: left;\">Sometimes</td><td style = \"text-align: left;\">no</td><td style = \"text-align: left;\">Sometimes</td><td style = \"text-align: left;\">yes</td><td style = \"text-align: left;\">no</td><td style = \"text-align: left;\">Automobile</td></tr><tr><td class = \"rowNumber\" style = \"font-weight: bold; text-align: right;\">1471</td><td style = \"text-align: left;\">Female</td><td style = \"text-align: left;\">yes</td><td style = \"text-align: left;\">Sometimes</td><td style = \"text-align: left;\">no</td><td style = \"text-align: left;\">Sometimes</td><td style = \"text-align: left;\">yes</td><td style = \"text-align: left;\">no</td><td style = \"text-align: left;\">Public_Transportation</td></tr><tr><td class = \"rowNumber\" style = \"font-weight: bold; text-align: right;\">1472</td><td style = \"text-align: left;\">Female</td><td style = \"text-align: left;\">yes</td><td style = \"text-align: left;\">Sometimes</td><td style = \"text-align: left;\">no</td><td style = \"text-align: left;\">Sometimes</td><td style = \"text-align: left;\">yes</td><td style = \"text-align: left;\">no</td><td style = \"text-align: left;\">Public_Transportation</td></tr><tr><td class = \"rowNumber\" style = \"font-weight: bold; text-align: right;\">1473</td><td style = \"text-align: left;\">Male</td><td style = \"text-align: left;\">yes</td><td style = \"text-align: left;\">Sometimes</td><td style = \"text-align: left;\">no</td><td style = \"text-align: left;\">Sometimes</td><td style = \"text-align: left;\">yes</td><td style = \"text-align: left;\">no</td><td style = \"text-align: left;\">Automobile</td></tr><tr><td class = \"rowNumber\" style = \"font-weight: bold; text-align: right;\">1474</td><td style = \"text-align: left;\">Female</td><td style = \"text-align: left;\">yes</td><td style = \"text-align: left;\">Sometimes</td><td style = \"text-align: left;\">no</td><td style = \"text-align: left;\">Sometimes</td><td style = \"text-align: left;\">yes</td><td style = \"text-align: left;\">no</td><td style = \"text-align: left;\">Public_Transportation</td></tr><tr><td class = \"rowNumber\" style = \"font-weight: bold; text-align: right;\">1475</td><td style = \"text-align: left;\">Female</td><td style = \"text-align: left;\">yes</td><td style = \"text-align: left;\">Sometimes</td><td style = \"text-align: left;\">no</td><td style = \"text-align: left;\">Sometimes</td><td style = \"text-align: left;\">yes</td><td style = \"text-align: left;\">no</td><td style = \"text-align: left;\">Public_Transportation</td></tr><tr><td class = \"rowNumber\" style = \"font-weight: bold; text-align: right;\">1476</td><td style = \"text-align: left;\">Female</td><td style = \"text-align: left;\">yes</td><td style = \"text-align: left;\">Sometimes</td><td style = \"text-align: left;\">no</td><td style = \"text-align: left;\">Sometimes</td><td style = \"text-align: left;\">yes</td><td style = \"text-align: left;\">no</td><td style = \"text-align: left;\">Public_Transportation</td></tr><tr><td class = \"rowNumber\" style = \"font-weight: bold; text-align: right;\">1477</td><td style = \"text-align: left;\">Male</td><td style = \"text-align: left;\">yes</td><td style = \"text-align: left;\">Sometimes</td><td style = \"text-align: left;\">no</td><td style = \"text-align: left;\">Sometimes</td><td style = \"text-align: left;\">yes</td><td style = \"text-align: left;\">no</td><td style = \"text-align: left;\">Public_Transportation</td></tr></tbody></table></div>"
      ],
      "text/latex": [
       "\\begin{tabular}{r|cccccccc}\n",
       "\t& Gender & H\\_Cal\\_Consump & Alcohol\\_Consump & Smoking & Food\\_Between\\_Meals & Fam\\_Hist & H\\_Cal\\_Burn & \\\\\n",
       "\t\\hline\n",
       "\t& Cat… & Cat… & Cat… & Cat… & Cat… & Cat… & Cat… & \\\\\n",
       "\t\\hline\n",
       "\t1 & Female & yes & no & no & Frequently & yes & no & $\\dots$ \\\\\n",
       "\t2 & Male & yes & Sometimes & no & Sometimes & yes & no & $\\dots$ \\\\\n",
       "\t3 & Female & yes & Sometimes & no & Sometimes & no & no & $\\dots$ \\\\\n",
       "\t4 & Female & yes & Sometimes & no & Sometimes & no & no & $\\dots$ \\\\\n",
       "\t5 & Male & yes & no & no & Sometimes & yes & no & $\\dots$ \\\\\n",
       "\t6 & Male & yes & no & no & Sometimes & yes & no & $\\dots$ \\\\\n",
       "\t7 & Male & yes & Sometimes & no & Sometimes & yes & no & $\\dots$ \\\\\n",
       "\t8 & Female & yes & no & no & Frequently & yes & no & $\\dots$ \\\\\n",
       "\t9 & Female & no & no & no & Frequently & no & no & $\\dots$ \\\\\n",
       "\t10 & Female & no & Sometimes & yes & Sometimes & no & no & $\\dots$ \\\\\n",
       "\t11 & Female & yes & Sometimes & no & Sometimes & no & no & $\\dots$ \\\\\n",
       "\t12 & Female & yes & Sometimes & no & Frequently & no & no & $\\dots$ \\\\\n",
       "\t13 & Female & yes & Sometimes & no & Sometimes & no & no & $\\dots$ \\\\\n",
       "\t14 & Female & yes & Sometimes & no & Sometimes & no & no & $\\dots$ \\\\\n",
       "\t15 & Male & yes & no & no & Frequently & no & no & $\\dots$ \\\\\n",
       "\t16 & Male & no & Sometimes & no & Sometimes & no & no & $\\dots$ \\\\\n",
       "\t17 & Female & yes & Sometimes & no & Sometimes & no & no & $\\dots$ \\\\\n",
       "\t18 & Female & yes & Sometimes & no & Frequently & no & no & $\\dots$ \\\\\n",
       "\t19 & Female & yes & Sometimes & no & Sometimes & no & no & $\\dots$ \\\\\n",
       "\t20 & Female & yes & Sometimes & no & Frequently & no & no & $\\dots$ \\\\\n",
       "\t21 & Male & yes & Sometimes & no & Sometimes & yes & no & $\\dots$ \\\\\n",
       "\t22 & Male & no & no & no & Sometimes & no & no & $\\dots$ \\\\\n",
       "\t23 & Male & yes & no & no & Sometimes & yes & no & $\\dots$ \\\\\n",
       "\t24 & Female & yes & no & no & Frequently & yes & no & $\\dots$ \\\\\n",
       "\t$\\dots$ & $\\dots$ & $\\dots$ & $\\dots$ & $\\dots$ & $\\dots$ & $\\dots$ & $\\dots$ &  \\\\\n",
       "\\end{tabular}\n"
      ],
      "text/plain": [
       "\u001b[1m1477×8 DataFrame\u001b[0m\n",
       "\u001b[1m  Row \u001b[0m│\u001b[1m Gender \u001b[0m\u001b[1m H_Cal_Consump \u001b[0m\u001b[1m Alcohol_Consump \u001b[0m\u001b[1m Smoking      \u001b[0m\u001b[1m Food_Between_Mea\u001b[0m ⋯\n",
       "      │\u001b[90m Cat…   \u001b[0m\u001b[90m Categorical…  \u001b[0m\u001b[90m Categorical…    \u001b[0m\u001b[90m Categorical… \u001b[0m\u001b[90m Categorical…    \u001b[0m ⋯\n",
       "──────┼─────────────────────────────────────────────────────────────────────────\n",
       "    1 │ Female  yes            no               no            Frequently       ⋯\n",
       "    2 │ Male    yes            Sometimes        no            Sometimes\n",
       "    3 │ Female  yes            Sometimes        no            Sometimes\n",
       "    4 │ Female  yes            Sometimes        no            Sometimes\n",
       "    5 │ Male    yes            no               no            Sometimes        ⋯\n",
       "    6 │ Male    yes            no               no            Sometimes\n",
       "    7 │ Male    yes            Sometimes        no            Sometimes\n",
       "    8 │ Female  yes            no               no            Frequently\n",
       "  ⋮   │   ⋮           ⋮               ⋮              ⋮                ⋮        ⋱\n",
       " 1471 │ Female  yes            Sometimes        no            Sometimes        ⋯\n",
       " 1472 │ Female  yes            Sometimes        no            Sometimes\n",
       " 1473 │ Male    yes            Sometimes        no            Sometimes\n",
       " 1474 │ Female  yes            Sometimes        no            Sometimes\n",
       " 1475 │ Female  yes            Sometimes        no            Sometimes        ⋯\n",
       " 1476 │ Female  yes            Sometimes        no            Sometimes\n",
       " 1477 │ Male    yes            Sometimes        no            Sometimes\n",
       "\u001b[36m                                                 4 columns and 1462 rows omitted\u001b[0m"
      ]
     },
     "metadata": {},
     "output_type": "display_data"
    }
   ],
   "source": [
    "X = coerce(X, autotype(X, :string_to_multiclass))\n",
    "\n",
    "types = schema(X).scitypes\n",
    "cat_inds = findall( x -> x <: Multiclass, types)\n",
    "X = X[:, cat_inds]"
   ]
  },
  {
   "cell_type": "code",
   "execution_count": 4,
   "metadata": {},
   "outputs": [
    {
     "data": {
      "text/plain": [
       "┌────────────────────┬───────────────┬────────────────────────────────────┐\n",
       "│\u001b[22m names              \u001b[0m│\u001b[22m scitypes      \u001b[0m│\u001b[22m types                              \u001b[0m│\n",
       "├────────────────────┼───────────────┼────────────────────────────────────┤\n",
       "│ Gender             │ Multiclass{2} │ CategoricalValue{String7, UInt32}  │\n",
       "│ H_Cal_Consump      │ Multiclass{2} │ CategoricalValue{String3, UInt32}  │\n",
       "│ Alcohol_Consump    │ Multiclass{4} │ CategoricalValue{String15, UInt32} │\n",
       "│ Smoking            │ Multiclass{2} │ CategoricalValue{String3, UInt32}  │\n",
       "│ Food_Between_Meals │ Multiclass{4} │ CategoricalValue{String15, UInt32} │\n",
       "│ Fam_Hist           │ Multiclass{2} │ CategoricalValue{String3, UInt32}  │\n",
       "│ H_Cal_Burn         │ Multiclass{2} │ CategoricalValue{String3, UInt32}  │\n",
       "│ Transport          │ Multiclass{5} │ CategoricalValue{String31, UInt32} │\n",
       "└────────────────────┴───────────────┴────────────────────────────────────┘\n"
      ]
     },
     "metadata": {},
     "output_type": "display_data"
    }
   ],
   "source": [
    "schema(X)"
   ]
  },
  {
   "cell_type": "markdown",
   "metadata": {},
   "source": [
    "#### Generation Alternative"
   ]
  },
  {
   "cell_type": "code",
   "execution_count": 15,
   "metadata": {},
   "outputs": [
    {
     "data": {
      "text/plain": [
       "([3 3 2 4; 2 1 1 1; … ; 1 4 1 4; 3 4 2 2], CategoricalValue{Int64, UInt32}[2, 2, 0, 0, 1, 0, 2, 0, 1, 2  …  0, 0, 2, 2, 0, 1, 0, 0, 1, 0])"
      ]
     },
     "metadata": {},
     "output_type": "display_data"
    }
   ],
   "source": [
    "rng = Random.default_rng()\n",
    "\n",
    "num_rows = 100\n",
    "num_cont_feats = 0\n",
    "probs = [0.5, 0.2, 0.3]\n",
    "\n",
    "extra_cat_feats = [3, 4, 2, 5]\n",
    "\n",
    "Xc, yc = generate_imbalanced_data(num_rows, num_cont_feats; probs, extra_cat_feats, type = \"Matrix\")"
   ]
  },
  {
   "cell_type": "code",
   "execution_count": null,
   "metadata": {},
   "outputs": [],
   "source": [
    "Xc = coerce(Xc, autotype(X, :few_to_finite))\n",
    "Xc = coerce(Xc, OrderedFactor=>Multiclass, Count=>Multiclass)\n",
    "# make gender ordered factor\n",
    "types = schema(Xc).scitypes"
   ]
  },
  {
   "cell_type": "markdown",
   "metadata": {},
   "source": [
    "### 2. Apply SMOTEN"
   ]
  },
  {
   "cell_type": "code",
   "execution_count": 20,
   "metadata": {},
   "outputs": [
    {
     "data": {
      "text/html": [
       "<div><div style = \"float: left;\"><span>2720×8 DataFrame</span></div><div style = \"float: right;\"><span style = \"font-style: italic;\">2695 rows omitted</span></div><div style = \"clear: both;\"></div></div><div class = \"data-frame\" style = \"overflow-x: scroll;\"><table class = \"data-frame\" style = \"margin-bottom: 6px;\"><thead><tr class = \"header\"><th class = \"rowNumber\" style = \"font-weight: bold; text-align: right;\">Row</th><th style = \"text-align: left;\">Gender</th><th style = \"text-align: left;\">H_Cal_Consump</th><th style = \"text-align: left;\">Alcohol_Consump</th><th style = \"text-align: left;\">Smoking</th><th style = \"text-align: left;\">Food_Between_Meals</th><th style = \"text-align: left;\">Fam_Hist</th><th style = \"text-align: left;\">H_Cal_Burn</th><th style = \"text-align: left;\">Transport</th></tr><tr class = \"subheader headerLastRow\"><th class = \"rowNumber\" style = \"font-weight: bold; text-align: right;\"></th><th title = \"CategoricalValue{String7, UInt32}\" style = \"text-align: left;\">Cat…</th><th title = \"CategoricalValue{String3, UInt32}\" style = \"text-align: left;\">Cat…</th><th title = \"CategoricalValue{String15, UInt32}\" style = \"text-align: left;\">Cat…</th><th title = \"CategoricalValue{String3, UInt32}\" style = \"text-align: left;\">Cat…</th><th title = \"CategoricalValue{String15, UInt32}\" style = \"text-align: left;\">Cat…</th><th title = \"CategoricalValue{String3, UInt32}\" style = \"text-align: left;\">Cat…</th><th title = \"CategoricalValue{String3, UInt32}\" style = \"text-align: left;\">Cat…</th><th title = \"CategoricalValue{String31, UInt32}\" style = \"text-align: left;\">Cat…</th></tr></thead><tbody><tr><td class = \"rowNumber\" style = \"font-weight: bold; text-align: right;\">1</td><td style = \"text-align: left;\">Female</td><td style = \"text-align: left;\">yes</td><td style = \"text-align: left;\">no</td><td style = \"text-align: left;\">no</td><td style = \"text-align: left;\">Frequently</td><td style = \"text-align: left;\">yes</td><td style = \"text-align: left;\">no</td><td style = \"text-align: left;\">Public_Transportation</td></tr><tr><td class = \"rowNumber\" style = \"font-weight: bold; text-align: right;\">2</td><td style = \"text-align: left;\">Male</td><td style = \"text-align: left;\">yes</td><td style = \"text-align: left;\">Sometimes</td><td style = \"text-align: left;\">no</td><td style = \"text-align: left;\">Sometimes</td><td style = \"text-align: left;\">yes</td><td style = \"text-align: left;\">no</td><td style = \"text-align: left;\">Public_Transportation</td></tr><tr><td class = \"rowNumber\" style = \"font-weight: bold; text-align: right;\">3</td><td style = \"text-align: left;\">Female</td><td style = \"text-align: left;\">yes</td><td style = \"text-align: left;\">Sometimes</td><td style = \"text-align: left;\">no</td><td style = \"text-align: left;\">Sometimes</td><td style = \"text-align: left;\">no</td><td style = \"text-align: left;\">no</td><td style = \"text-align: left;\">Public_Transportation</td></tr><tr><td class = \"rowNumber\" style = \"font-weight: bold; text-align: right;\">4</td><td style = \"text-align: left;\">Female</td><td style = \"text-align: left;\">yes</td><td style = \"text-align: left;\">Sometimes</td><td style = \"text-align: left;\">no</td><td style = \"text-align: left;\">Sometimes</td><td style = \"text-align: left;\">no</td><td style = \"text-align: left;\">no</td><td style = \"text-align: left;\">Public_Transportation</td></tr><tr><td class = \"rowNumber\" style = \"font-weight: bold; text-align: right;\">5</td><td style = \"text-align: left;\">Male</td><td style = \"text-align: left;\">yes</td><td style = \"text-align: left;\">no</td><td style = \"text-align: left;\">no</td><td style = \"text-align: left;\">Sometimes</td><td style = \"text-align: left;\">yes</td><td style = \"text-align: left;\">no</td><td style = \"text-align: left;\">Automobile</td></tr><tr><td class = \"rowNumber\" style = \"font-weight: bold; text-align: right;\">6</td><td style = \"text-align: left;\">Male</td><td style = \"text-align: left;\">yes</td><td style = \"text-align: left;\">no</td><td style = \"text-align: left;\">no</td><td style = \"text-align: left;\">Sometimes</td><td style = \"text-align: left;\">yes</td><td style = \"text-align: left;\">no</td><td style = \"text-align: left;\">Automobile</td></tr><tr><td class = \"rowNumber\" style = \"font-weight: bold; text-align: right;\">7</td><td style = \"text-align: left;\">Male</td><td style = \"text-align: left;\">yes</td><td style = \"text-align: left;\">Sometimes</td><td style = \"text-align: left;\">no</td><td style = \"text-align: left;\">Sometimes</td><td style = \"text-align: left;\">yes</td><td style = \"text-align: left;\">no</td><td style = \"text-align: left;\">Public_Transportation</td></tr><tr><td class = \"rowNumber\" style = \"font-weight: bold; text-align: right;\">8</td><td style = \"text-align: left;\">Female</td><td style = \"text-align: left;\">yes</td><td style = \"text-align: left;\">no</td><td style = \"text-align: left;\">no</td><td style = \"text-align: left;\">Frequently</td><td style = \"text-align: left;\">yes</td><td style = \"text-align: left;\">no</td><td style = \"text-align: left;\">Public_Transportation</td></tr><tr><td class = \"rowNumber\" style = \"font-weight: bold; text-align: right;\">9</td><td style = \"text-align: left;\">Female</td><td style = \"text-align: left;\">no</td><td style = \"text-align: left;\">no</td><td style = \"text-align: left;\">no</td><td style = \"text-align: left;\">Frequently</td><td style = \"text-align: left;\">no</td><td style = \"text-align: left;\">no</td><td style = \"text-align: left;\">Public_Transportation</td></tr><tr><td class = \"rowNumber\" style = \"font-weight: bold; text-align: right;\">10</td><td style = \"text-align: left;\">Female</td><td style = \"text-align: left;\">no</td><td style = \"text-align: left;\">Sometimes</td><td style = \"text-align: left;\">yes</td><td style = \"text-align: left;\">Sometimes</td><td style = \"text-align: left;\">no</td><td style = \"text-align: left;\">no</td><td style = \"text-align: left;\">Automobile</td></tr><tr><td class = \"rowNumber\" style = \"font-weight: bold; text-align: right;\">11</td><td style = \"text-align: left;\">Female</td><td style = \"text-align: left;\">yes</td><td style = \"text-align: left;\">Sometimes</td><td style = \"text-align: left;\">no</td><td style = \"text-align: left;\">Sometimes</td><td style = \"text-align: left;\">no</td><td style = \"text-align: left;\">no</td><td style = \"text-align: left;\">Public_Transportation</td></tr><tr><td class = \"rowNumber\" style = \"font-weight: bold; text-align: right;\">12</td><td style = \"text-align: left;\">Female</td><td style = \"text-align: left;\">yes</td><td style = \"text-align: left;\">Sometimes</td><td style = \"text-align: left;\">no</td><td style = \"text-align: left;\">Frequently</td><td style = \"text-align: left;\">no</td><td style = \"text-align: left;\">no</td><td style = \"text-align: left;\">Public_Transportation</td></tr><tr><td class = \"rowNumber\" style = \"font-weight: bold; text-align: right;\">13</td><td style = \"text-align: left;\">Female</td><td style = \"text-align: left;\">yes</td><td style = \"text-align: left;\">Sometimes</td><td style = \"text-align: left;\">no</td><td style = \"text-align: left;\">Sometimes</td><td style = \"text-align: left;\">no</td><td style = \"text-align: left;\">no</td><td style = \"text-align: left;\">Public_Transportation</td></tr><tr><td style = \"text-align: right;\">&vellip;</td><td style = \"text-align: right;\">&vellip;</td><td style = \"text-align: right;\">&vellip;</td><td style = \"text-align: right;\">&vellip;</td><td style = \"text-align: right;\">&vellip;</td><td style = \"text-align: right;\">&vellip;</td><td style = \"text-align: right;\">&vellip;</td><td style = \"text-align: right;\">&vellip;</td><td style = \"text-align: right;\">&vellip;</td></tr><tr><td class = \"rowNumber\" style = \"font-weight: bold; text-align: right;\">2709</td><td style = \"text-align: left;\">Female</td><td style = \"text-align: left;\">no</td><td style = \"text-align: left;\">no</td><td style = \"text-align: left;\">no</td><td style = \"text-align: left;\">Sometimes</td><td style = \"text-align: left;\">yes</td><td style = \"text-align: left;\">no</td><td style = \"text-align: left;\">Public_Transportation</td></tr><tr><td class = \"rowNumber\" style = \"font-weight: bold; text-align: right;\">2710</td><td style = \"text-align: left;\">Male</td><td style = \"text-align: left;\">yes</td><td style = \"text-align: left;\">no</td><td style = \"text-align: left;\">no</td><td style = \"text-align: left;\">Sometimes</td><td style = \"text-align: left;\">no</td><td style = \"text-align: left;\">no</td><td style = \"text-align: left;\">Automobile</td></tr><tr><td class = \"rowNumber\" style = \"font-weight: bold; text-align: right;\">2711</td><td style = \"text-align: left;\">Male</td><td style = \"text-align: left;\">yes</td><td style = \"text-align: left;\">Sometimes</td><td style = \"text-align: left;\">no</td><td style = \"text-align: left;\">Sometimes</td><td style = \"text-align: left;\">no</td><td style = \"text-align: left;\">no</td><td style = \"text-align: left;\">Public_Transportation</td></tr><tr><td class = \"rowNumber\" style = \"font-weight: bold; text-align: right;\">2712</td><td style = \"text-align: left;\">Female</td><td style = \"text-align: left;\">yes</td><td style = \"text-align: left;\">Sometimes</td><td style = \"text-align: left;\">no</td><td style = \"text-align: left;\">Sometimes</td><td style = \"text-align: left;\">no</td><td style = \"text-align: left;\">yes</td><td style = \"text-align: left;\">Public_Transportation</td></tr><tr><td class = \"rowNumber\" style = \"font-weight: bold; text-align: right;\">2713</td><td style = \"text-align: left;\">Male</td><td style = \"text-align: left;\">no</td><td style = \"text-align: left;\">Sometimes</td><td style = \"text-align: left;\">no</td><td style = \"text-align: left;\">Sometimes</td><td style = \"text-align: left;\">yes</td><td style = \"text-align: left;\">no</td><td style = \"text-align: left;\">Public_Transportation</td></tr><tr><td class = \"rowNumber\" style = \"font-weight: bold; text-align: right;\">2714</td><td style = \"text-align: left;\">Male</td><td style = \"text-align: left;\">no</td><td style = \"text-align: left;\">Sometimes</td><td style = \"text-align: left;\">no</td><td style = \"text-align: left;\">Sometimes</td><td style = \"text-align: left;\">yes</td><td style = \"text-align: left;\">no</td><td style = \"text-align: left;\">Public_Transportation</td></tr><tr><td class = \"rowNumber\" style = \"font-weight: bold; text-align: right;\">2715</td><td style = \"text-align: left;\">Male</td><td style = \"text-align: left;\">yes</td><td style = \"text-align: left;\">no</td><td style = \"text-align: left;\">no</td><td style = \"text-align: left;\">Sometimes</td><td style = \"text-align: left;\">no</td><td style = \"text-align: left;\">no</td><td style = \"text-align: left;\">Automobile</td></tr><tr><td class = \"rowNumber\" style = \"font-weight: bold; text-align: right;\">2716</td><td style = \"text-align: left;\">Female</td><td style = \"text-align: left;\">yes</td><td style = \"text-align: left;\">Frequently</td><td style = \"text-align: left;\">no</td><td style = \"text-align: left;\">Sometimes</td><td style = \"text-align: left;\">yes</td><td style = \"text-align: left;\">no</td><td style = \"text-align: left;\">Public_Transportation</td></tr><tr><td class = \"rowNumber\" style = \"font-weight: bold; text-align: right;\">2717</td><td style = \"text-align: left;\">Female</td><td style = \"text-align: left;\">no</td><td style = \"text-align: left;\">no</td><td style = \"text-align: left;\">no</td><td style = \"text-align: left;\">Sometimes</td><td style = \"text-align: left;\">yes</td><td style = \"text-align: left;\">no</td><td style = \"text-align: left;\">Public_Transportation</td></tr><tr><td class = \"rowNumber\" style = \"font-weight: bold; text-align: right;\">2718</td><td style = \"text-align: left;\">Female</td><td style = \"text-align: left;\">yes</td><td style = \"text-align: left;\">no</td><td style = \"text-align: left;\">no</td><td style = \"text-align: left;\">Sometimes</td><td style = \"text-align: left;\">yes</td><td style = \"text-align: left;\">no</td><td style = \"text-align: left;\">Automobile</td></tr><tr><td class = \"rowNumber\" style = \"font-weight: bold; text-align: right;\">2719</td><td style = \"text-align: left;\">Female</td><td style = \"text-align: left;\">no</td><td style = \"text-align: left;\">Sometimes</td><td style = \"text-align: left;\">no</td><td style = \"text-align: left;\">Sometimes</td><td style = \"text-align: left;\">yes</td><td style = \"text-align: left;\">no</td><td style = \"text-align: left;\">Public_Transportation</td></tr><tr><td class = \"rowNumber\" style = \"font-weight: bold; text-align: right;\">2720</td><td style = \"text-align: left;\">Male</td><td style = \"text-align: left;\">yes</td><td style = \"text-align: left;\">Sometimes</td><td style = \"text-align: left;\">no</td><td style = \"text-align: left;\">Sometimes</td><td style = \"text-align: left;\">no</td><td style = \"text-align: left;\">no</td><td style = \"text-align: left;\">Public_Transportation</td></tr></tbody></table></div>"
      ],
      "text/latex": [
       "\\begin{tabular}{r|cccccccc}\n",
       "\t& Gender & H\\_Cal\\_Consump & Alcohol\\_Consump & Smoking & Food\\_Between\\_Meals & Fam\\_Hist & H\\_Cal\\_Burn & \\\\\n",
       "\t\\hline\n",
       "\t& Cat… & Cat… & Cat… & Cat… & Cat… & Cat… & Cat… & \\\\\n",
       "\t\\hline\n",
       "\t1 & Female & yes & no & no & Frequently & yes & no & $\\dots$ \\\\\n",
       "\t2 & Male & yes & Sometimes & no & Sometimes & yes & no & $\\dots$ \\\\\n",
       "\t3 & Female & yes & Sometimes & no & Sometimes & no & no & $\\dots$ \\\\\n",
       "\t4 & Female & yes & Sometimes & no & Sometimes & no & no & $\\dots$ \\\\\n",
       "\t5 & Male & yes & no & no & Sometimes & yes & no & $\\dots$ \\\\\n",
       "\t6 & Male & yes & no & no & Sometimes & yes & no & $\\dots$ \\\\\n",
       "\t7 & Male & yes & Sometimes & no & Sometimes & yes & no & $\\dots$ \\\\\n",
       "\t8 & Female & yes & no & no & Frequently & yes & no & $\\dots$ \\\\\n",
       "\t9 & Female & no & no & no & Frequently & no & no & $\\dots$ \\\\\n",
       "\t10 & Female & no & Sometimes & yes & Sometimes & no & no & $\\dots$ \\\\\n",
       "\t11 & Female & yes & Sometimes & no & Sometimes & no & no & $\\dots$ \\\\\n",
       "\t12 & Female & yes & Sometimes & no & Frequently & no & no & $\\dots$ \\\\\n",
       "\t13 & Female & yes & Sometimes & no & Sometimes & no & no & $\\dots$ \\\\\n",
       "\t14 & Female & yes & Sometimes & no & Sometimes & no & no & $\\dots$ \\\\\n",
       "\t15 & Male & yes & no & no & Frequently & no & no & $\\dots$ \\\\\n",
       "\t16 & Male & no & Sometimes & no & Sometimes & no & no & $\\dots$ \\\\\n",
       "\t17 & Female & yes & Sometimes & no & Sometimes & no & no & $\\dots$ \\\\\n",
       "\t18 & Female & yes & Sometimes & no & Frequently & no & no & $\\dots$ \\\\\n",
       "\t19 & Female & yes & Sometimes & no & Sometimes & no & no & $\\dots$ \\\\\n",
       "\t20 & Female & yes & Sometimes & no & Frequently & no & no & $\\dots$ \\\\\n",
       "\t21 & Male & yes & Sometimes & no & Sometimes & yes & no & $\\dots$ \\\\\n",
       "\t22 & Male & no & no & no & Sometimes & no & no & $\\dots$ \\\\\n",
       "\t23 & Male & yes & no & no & Sometimes & yes & no & $\\dots$ \\\\\n",
       "\t24 & Female & yes & no & no & Frequently & yes & no & $\\dots$ \\\\\n",
       "\t$\\dots$ & $\\dots$ & $\\dots$ & $\\dots$ & $\\dots$ & $\\dots$ & $\\dots$ & $\\dots$ &  \\\\\n",
       "\\end{tabular}\n"
      ],
      "text/plain": [
       "\u001b[1m2720×8 DataFrame\u001b[0m\n",
       "\u001b[1m  Row \u001b[0m│\u001b[1m Gender \u001b[0m\u001b[1m H_Cal_Consump \u001b[0m\u001b[1m Alcohol_Consump \u001b[0m\u001b[1m Smoking      \u001b[0m\u001b[1m Food_Between_Mea\u001b[0m ⋯\n",
       "      │\u001b[90m Cat…   \u001b[0m\u001b[90m Categorical…  \u001b[0m\u001b[90m Categorical…    \u001b[0m\u001b[90m Categorical… \u001b[0m\u001b[90m Categorical…    \u001b[0m ⋯\n",
       "──────┼─────────────────────────────────────────────────────────────────────────\n",
       "    1 │ Female  yes            no               no            Frequently       ⋯\n",
       "    2 │ Male    yes            Sometimes        no            Sometimes\n",
       "    3 │ Female  yes            Sometimes        no            Sometimes\n",
       "    4 │ Female  yes            Sometimes        no            Sometimes\n",
       "    5 │ Male    yes            no               no            Sometimes        ⋯\n",
       "    6 │ Male    yes            no               no            Sometimes\n",
       "    7 │ Male    yes            Sometimes        no            Sometimes\n",
       "    8 │ Female  yes            no               no            Frequently\n",
       "  ⋮   │   ⋮           ⋮               ⋮              ⋮                ⋮        ⋱\n",
       " 2714 │ Male    no             Sometimes        no            Sometimes        ⋯\n",
       " 2715 │ Male    yes            no               no            Sometimes\n",
       " 2716 │ Female  yes            Frequently       no            Sometimes\n",
       " 2717 │ Female  no             no               no            Sometimes\n",
       " 2718 │ Female  yes            no               no            Sometimes        ⋯\n",
       " 2719 │ Female  no             Sometimes        no            Sometimes\n",
       " 2720 │ Male    yes            Sometimes        no            Sometimes\n",
       "\u001b[36m                                                 4 columns and 2705 rows omitted\u001b[0m"
      ]
     },
     "metadata": {},
     "output_type": "display_data"
    }
   ],
   "source": [
    "Xover, yover = smoten(X, y; k = 5, rng = 1234)\n",
    "Xover"
   ]
  },
  {
   "cell_type": "markdown",
   "metadata": {},
   "source": [
    "### 3. Check the Results"
   ]
  },
  {
   "cell_type": "code",
   "execution_count": 22,
   "metadata": {},
   "outputs": [
    {
     "data": {
      "text/plain": [
       "Dict{String15, Int64} with 4 entries:\n",
       "  \"Body Level 4\" => 680\n",
       "  \"Body Level 3\" => 680\n",
       "  \"Body Level 2\" => 680\n",
       "  \"Body Level 1\" => 680"
      ]
     },
     "metadata": {},
     "output_type": "display_data"
    }
   ],
   "source": [
    "using StatsBase\n",
    "\n",
    "countmap(yover)"
   ]
  }
 ],
 "metadata": {
  "kernelspec": {
   "display_name": "Julia 1.8.5",
   "language": "julia",
   "name": "julia-1.8"
  },
  "language_info": {
   "file_extension": ".jl",
   "mimetype": "application/julia",
   "name": "julia",
   "version": "1.8.5"
  },
  "orig_nbformat": 4
 },
 "nbformat": 4,
 "nbformat_minor": 2
}
