{
 "cells": [
  {
   "cell_type": "code",
   "execution_count": 1,
   "metadata": {},
   "outputs": [],
   "source": [
    "#using Imbalance\n",
    "using Random\n",
    "using Distances\n",
    "using Imbalance: precompute_value_encodings, precompute_mvdm_distances, ValueDifference"
   ]
  },
  {
   "cell_type": "code",
   "execution_count": 3,
   "metadata": {},
   "outputs": [
    {
     "name": "stderr",
     "output_type": "stream",
     "text": [
      "\u001b[32m\u001b[1m   Resolving\u001b[22m\u001b[39m package versions...\n"
     ]
    },
    {
     "name": "stderr",
     "output_type": "stream",
     "text": [
      "\u001b[32m\u001b[1m  No Changes\u001b[22m\u001b[39m to `~/Documents/GitHub/Imbalance.jl/Project.toml`\n",
      "\u001b[32m\u001b[1m  No Changes\u001b[22m\u001b[39m to `~/Documents/GitHub/Imbalance.jl/Manifest.toml`\n"
     ]
    },
    {
     "name": "stderr",
     "output_type": "stream",
     "text": [
      "\u001b[32m\u001b[1m    Building\u001b[22m\u001b[39m Conda ─→ `~/.julia/scratchspaces/44cfe95a-1eb2-52ea-b672-e2afdf69b78f/8c86e48c0db1564a1d49548d3515ced5d604c408/build.log`\n"
     ]
    },
    {
     "name": "stderr",
     "output_type": "stream",
     "text": [
      "\u001b[32m\u001b[1m    Building\u001b[22m\u001b[39m PyCall → `~/.julia/scratchspaces/44cfe95a-1eb2-52ea-b672-e2afdf69b78f/43d304ac6f0354755f1d60730ece8c499980f7ba/build.log`\n"
     ]
    },
    {
     "name": "stderr",
     "output_type": "stream",
     "text": [
      "┌ Info: Running `conda install -y imbalanced-learn` in root environment\n",
      "└ @ Conda /Users/essam/.julia/packages/Conda/2lg2O/src/Conda.jl:127\n"
     ]
    },
    {
     "name": "stdout",
     "output_type": "stream",
     "text": [
      "Collecting package metadata (current_repodata.json): ...working... "
     ]
    },
    {
     "name": "stdout",
     "output_type": "stream",
     "text": [
      "done\n",
      "Solving environment: ...working... "
     ]
    },
    {
     "name": "stdout",
     "output_type": "stream",
     "text": [
      "done\n"
     ]
    },
    {
     "name": "stdout",
     "output_type": "stream",
     "text": [
      "\n",
      "# All requested packages already installed.\n",
      "\n"
     ]
    },
    {
     "data": {
      "text/plain": [
       "PyObject <module 'sklearn.preprocessing' from '/Users/essam/.julia/conda/3/aarch64/lib/python3.10/site-packages/sklearn/preprocessing/__init__.py'>"
      ]
     },
     "metadata": {},
     "output_type": "display_data"
    }
   ],
   "source": [
    "import Pkg;\n",
    "Pkg.add(\"PyCall\")\n",
    "Pkg.build(\"PyCall\")\n",
    "using Conda\n",
    "using PyCall\n",
    "#pyimport_conda(\"imblearn\", \"imbalanced-learn\")\n",
    "Conda.add(\"imbalanced-learn\")\n",
    "np = pyimport(\"numpy\")\n",
    "imblearn = pyimport(\"imblearn\")\n",
    "fromsklearn = pyimport(\"sklearn.preprocessing\")"
   ]
  },
  {
   "cell_type": "code",
   "execution_count": 4,
   "metadata": {},
   "outputs": [
    {
     "data": {
      "text/plain": [
       "10000-element Vector{Int64}:\n",
       " 1\n",
       " 2\n",
       " 1\n",
       " 3\n",
       " 2\n",
       " 2\n",
       " 3\n",
       " 1\n",
       " 3\n",
       " 5\n",
       " ⋮\n",
       " 5\n",
       " 1\n",
       " 2\n",
       " 4\n",
       " 1\n",
       " 2\n",
       " 1\n",
       " 1\n",
       " 2"
      ]
     },
     "metadata": {},
     "output_type": "display_data"
    }
   ],
   "source": [
    "# Set the dimensions of the matrix\n",
    "rows = 10000\n",
    "cols = 8\n",
    "\n",
    "# Generate a random matrix X and vector y in Python\n",
    "X = np.random.randint(1, 11, size=(rows, cols))\n",
    "y = np.random.randint(1, 6, size=rows)"
   ]
  },
  {
   "cell_type": "code",
   "execution_count": 5,
   "metadata": {},
   "outputs": [
    {
     "data": {
      "text/plain": [
       "10000×10000 Matrix{Float64}:\n",
       " 0.0        0.0406474  0.024525   …  0.042967   0.0215846  0.0393755\n",
       " 0.0406474  0.0        0.0512151     0.0587939  0.0344256  0.0451652\n",
       " 0.024525   0.0512151  0.0           0.0453854  0.0368614  0.0313901\n",
       " 0.0325457  0.028312   0.0423967     0.0455556  0.0317445  0.0330468\n",
       " 0.0442751  0.0520507  0.0294205     0.0276812  0.0559898  0.0293175\n",
       " 0.0377418  0.0422198  0.04681    …  0.0297435  0.0387461  0.0331488\n",
       " 0.0399682  0.0575378  0.0394138     0.0460603  0.0489323  0.0596326\n",
       " 0.0337098  0.0531134  0.0255758     0.0675065  0.0375791  0.0470832\n",
       " 0.0375253  0.071699   0.03587       0.0505525  0.0545017  0.0300255\n",
       " 0.0273793  0.0244688  0.0299856     0.0441514  0.0312811  0.0352789\n",
       " ⋮                                ⋱                        \n",
       " 0.0194097  0.0762089  0.0347332     0.0413007  0.0418607  0.0375026\n",
       " 0.0455924  0.0595245  0.0385077     0.0640884  0.0438537  0.0571864\n",
       " 0.0344415  0.057619   0.0494754     0.0521037  0.0504505  0.0445732\n",
       " 0.0436356  0.0425756  0.0536307     0.065323   0.0444828  0.0494973\n",
       " 0.0335254  0.0513323  0.0395099  …  0.0494594  0.0445664  0.0336171\n",
       " 0.0380007  0.0573508  0.0273958     0.0437239  0.0449613  0.0516031\n",
       " 0.042967   0.0587939  0.0453854     0.0        0.0494253  0.0418248\n",
       " 0.0215846  0.0344256  0.0368614     0.0494253  0.0        0.0366097\n",
       " 0.0393755  0.0451652  0.0313901     0.0418248  0.0366097  0.0"
      ]
     },
     "metadata": {},
     "output_type": "display_data"
    }
   ],
   "source": [
    "mvdm_encoder_python = imblearn.metrics.pairwise.ValueDifferenceMetric().fit(X, y)\n",
    "mvdm_encoder_python.pairwise(X)"
   ]
  },
  {
   "cell_type": "code",
   "execution_count": null,
   "metadata": {},
   "outputs": [],
   "source": [
    "mvdm_encoder, num_cats_per_column = precompute_value_encodings(X, y)\n",
    "all_pairwise_mvdm = precompute_mvdm_distances(mvdm_encoder, num_cats_per_column)\n",
    "V = ValueDifference(all_pairwise_mvdm)\n",
    "D = pairwise(V, X, X, dims=1)"
   ]
  },
  {
   "cell_type": "code",
   "execution_count": null,
   "metadata": {},
   "outputs": [],
   "source": [
    "using Distances\n",
    "using LoopVectorization\n",
    "\n",
    "struct MyMetric <: Metric end\n",
    "\n",
    "function Distances.evaluate(dist::MyMetric, a::AbstractVector, b::AbstractVector)\n",
    "    sum(abs.(a - b))\n",
    "end\n",
    "\n",
    "m = MyMetric()\n",
    "\n",
    "\n",
    "function pairwise_no_optimization(dist_fun, metric, X)\n",
    "    n = size(X, 2)\n",
    "    D = zeros(n, n)\n",
    "    for i in 1:n\n",
    "        for j in i+1:n\n",
    "            D[i, j] = dist_fun(metric, X[:, i], X[:, j])\n",
    "            D[j, i] = D[i, j]\n",
    "        end\n",
    "    end\n",
    "    return D\n",
    "end\n",
    "\n",
    "function pairwise_with_optimization(dist_fun, metric, X)\n",
    "    n = size(X, 2)\n",
    "    D = zeros(n, n)\n",
    "\n",
    "    @inbounds @simd for i in 1:n\n",
    "        @inbounds @simd for j in i+1:n\n",
    "            D[i, j] = dist_fun(metric, X[:, i], X[:, j])\n",
    "            D[j, i] = D[i, j]\n",
    "        end\n",
    "    end\n",
    "    return D\n",
    "end\n",
    "\n",
    "\n",
    "using Base.Threads\n",
    "\n",
    "function pairwise_with_threads(dist_fun, m, X)\n",
    "    n = size(X, 2)\n",
    "    D = zeros(n, n)\n",
    "    \n",
    "    Threads.@threads for i in 1:n\n",
    "        for j in i+1:n\n",
    "            D[i, j] = dist_fun(m, X[:, i], X[:, j])\n",
    "            D[j, i] = D[i, j]\n",
    "        end\n",
    "    end\n",
    "    \n",
    "    return D\n",
    "end\n",
    "\n",
    "function pairwise_with_turbo(dist_fun, metric, X)\n",
    "    n = size(X, 2)\n",
    "    D = zeros(n, n)\n",
    "\n",
    "    @turbo for i in 1:n\n",
    "        for j in i+1:n\n",
    "            D[i, j] = dist_fun(metric, X[:, i], X[:, j])\n",
    "            D[j, i] = D[i, j]\n",
    "        end\n",
    "    end\n",
    "    return D\n",
    "end\n",
    "\n",
    "X = rand(11, 14000)\n",
    "\n",
    "\n",
    "# Warm up the functions\n",
    "#pairwise_no_optimization(Distances.evaluate, m, X)\n",
    "#pairwise_with_optimization(Distances.evaluate, m, X)\n",
    "#pairwise_with_threads(Distances.evaluate, m, X)\n",
    "\n",
    "# Measure execution time for the non-optimized version\n",
    "@time pairwise_no_optimization(Distances.evaluate, m, X)\n",
    "\n",
    "# Measure execution time for the optimized version\n",
    "#@time pairwise_with_optimization(Distances.evaluate, m, X)\n",
    "\n",
    "# Measure \n",
    "#@time pairwise_with_threads(Distances.evaluate, m, X)\n",
    "\n",
    "#Measure speed with turbo\n",
    "@time pairwise_with_turbo(Distances.evaluate, m, X)"
   ]
  }
 ],
 "metadata": {
  "kernelspec": {
   "display_name": "Julia 1.8.5",
   "language": "julia",
   "name": "julia-1.8"
  },
  "language_info": {
   "file_extension": ".jl",
   "mimetype": "application/julia",
   "name": "julia",
   "version": "1.8.5"
  },
  "orig_nbformat": 4
 },
 "nbformat": 4,
 "nbformat_minor": 2
}
