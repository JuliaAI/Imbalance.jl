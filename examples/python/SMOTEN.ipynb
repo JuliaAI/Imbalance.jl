{
 "cells": [
  {
   "cell_type": "code",
   "execution_count": 10,
   "metadata": {},
   "outputs": [
    {
     "name": "stdout",
     "output_type": "stream",
     "text": [
      "[[0.         1.08548324 4.02731675 ... 2.46935277 2.27958394 0.73983356]\n",
      " [1.08548324 0.         1.27535619 ... 0.39682517 0.82446918 0.16226952]\n",
      " [4.02731675 1.27535619 0.         ... 0.27231735 0.59810829 1.79866597]\n",
      " ...\n",
      " [2.46935277 0.39682517 0.27231735 ... 0.         0.51280374 0.84034313]\n",
      " [2.27958394 0.82446918 0.59810829 ... 0.51280374 0.         0.80943211]\n",
      " [0.73983356 0.16226952 1.79866597 ... 0.84034313 0.80943211 0.        ]]\n",
      "Original dataset shape Counter({'<=50K': 29676, '>50K': 9397})\n",
      "Resampled dataset shape Counter({'<=50K': 29676, '>50K': 29676})\n"
     ]
    }
   ],
   "source": [
    "import pandas as pd\n",
    "from sklearn.model_selection import train_test_split\n",
    "from sklearn.tree import DecisionTreeClassifier\n",
    "from imblearn.over_sampling import SMOTEN\n",
    "\n",
    "# Read the dataset from CSV\n",
    "data = pd.read_csv('adult.csv')  # Replace 'adult.csv' with your actual file name\n",
    "\n",
    "# Remove continuous columns (replace with columns you want to keep)\n",
    "columns_to_drop = ['age', 'fnlwgt', 'capital-gain', 'capital-loss', 'hours-per-week']\n",
    "data = data.drop(columns=columns_to_drop)\n",
    "\n",
    "# Separate features and target\n",
    "X = data.drop('income', axis=1)  # Replace 'target_column_name' with your target column name\n",
    "y = data['income']\n",
    "\n",
    "# label encode the data\n",
    "from sklearn.preprocessing import LabelEncoder\n",
    "le = LabelEncoder()\n",
    "for col in X.columns:\n",
    "    X[col] = le.fit_transform(X[col])\n",
    "\n",
    "\n",
    "# Split data into training and validation sets\n",
    "X_train, X_val, y_train, y_val = train_test_split(X, y, test_size=0.2, random_state=42)\n",
    "\n",
    "# Apply Decision Tree Classifier\n",
    "#clf = DecisionTreeClassifier(random_state=42)\n",
    "#clf.fit(X_train, y_train)\n",
    "\n",
    "# Oversample using SMOTEN\n",
    "smoten = SMOTEN(random_state=42)\n",
    "X_train_resampled, y_train_resampled = smoten.fit_resample(X_train, y_train)\n",
    "\n",
    "# count instances of y in each class\n",
    "from collections import Counter\n",
    "print(f\"Original dataset shape {Counter(y_train)}\")\n",
    "print(f\"Resampled dataset shape {Counter(y_train_resampled)}\")"
   ]
  },
  {
   "cell_type": "code",
   "execution_count": 9,
   "metadata": {},
   "outputs": [
    {
     "name": "stdout",
     "output_type": "stream",
     "text": [
      "       workclass  education  educational-num  marital-status  occupation  \\\n",
      "59347          4          1                3               2          12   \n",
      "59348          4         11                8               2          14   \n",
      "59349          4         11                8               2           8   \n",
      "59350          4         12               13               2           4   \n",
      "59351          4          7               11               2          12   \n",
      "\n",
      "       relationship  race  gender  native-country  \n",
      "59347             0     4       1              39  \n",
      "59348             0     4       1              39  \n",
      "59349             0     4       1              39  \n",
      "59350             0     4       1              39  \n",
      "59351             0     4       1              39  \n"
     ]
    }
   ],
   "source": [
    "# show last 5 rows of X_train\n",
    "print(X_train_resampled.tail())"
   ]
  },
  {
   "cell_type": "code",
   "execution_count": null,
   "metadata": {},
   "outputs": [],
   "source": [
    "\n",
    "# Now you can use X_train_resampled and y_train_resampled for training your model\n",
    "# and X_val, y_val for validation\n",
    "\n",
    "# Example of how to evaluate the model on the validation set\n",
    "#accuracy = clf.score(X_val, y_val)\n",
    "#print(f\"Validation Accuracy: {accuracy:.2f}\")"
   ]
  }
 ],
 "metadata": {
  "kernelspec": {
   "display_name": "M1",
   "language": "python",
   "name": "python3"
  },
  "language_info": {
   "codemirror_mode": {
    "name": "ipython",
    "version": 3
   },
   "file_extension": ".py",
   "mimetype": "text/x-python",
   "name": "python",
   "nbconvert_exporter": "python",
   "pygments_lexer": "ipython3",
   "version": "3.9.16"
  },
  "orig_nbformat": 4
 },
 "nbformat": 4,
 "nbformat_minor": 2
}
