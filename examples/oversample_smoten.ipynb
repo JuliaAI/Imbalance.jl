{
 "cells": [
  {
   "cell_type": "code",
   "execution_count": 1,
   "metadata": {},
   "outputs": [
    {
     "name": "stderr",
     "output_type": "stream",
     "text": [
      "\u001b[32m\u001b[1m  Activating\u001b[22m\u001b[39m project at `~/Documents/GitHub/Imbalance.jl/examples`\n"
     ]
    }
   ],
   "source": [
    "ENV[\"JULIA_PKG_SERVER\"] = \"\"\n",
    "\n",
    "using Pkg\n",
    "Pkg.activate(@__DIR__)\n",
    "Pkg.instantiate()\n",
    "\n",
    "using DataFrames\n",
    "using Plots\n",
    "using CategoricalArrays\n",
    "using Random\n",
    "using Imbalance\n",
    "using MLJBase: machine, transform\n",
    "using ScientificTypes\n",
    "using TableTransforms\n",
    "using CSV\n",
    "using DataFrames"
   ]
  },
  {
   "cell_type": "markdown",
   "metadata": {},
   "source": [
    "### 1. Generate Random Data"
   ]
  },
  {
   "cell_type": "code",
   "execution_count": 2,
   "metadata": {},
   "outputs": [
    {
     "data": {
      "text/html": [
       "<div><div style = \"float: left;\"><span>100×4 DataFrame</span></div><div style = \"float: right;\"><span style = \"font-style: italic;\">75 rows omitted</span></div><div style = \"clear: both;\"></div></div><div class = \"data-frame\" style = \"overflow-x: scroll;\"><table class = \"data-frame\" style = \"margin-bottom: 6px;\"><thead><tr class = \"header\"><th class = \"rowNumber\" style = \"font-weight: bold; text-align: right;\">Row</th><th style = \"text-align: left;\">Column1</th><th style = \"text-align: left;\">Column2</th><th style = \"text-align: left;\">Column3</th><th style = \"text-align: left;\">Column4</th></tr><tr class = \"subheader headerLastRow\"><th class = \"rowNumber\" style = \"font-weight: bold; text-align: right;\"></th><th title = \"CategoricalValue{Int64, UInt32}\" style = \"text-align: left;\">Cat…</th><th title = \"CategoricalValue{Int64, UInt32}\" style = \"text-align: left;\">Cat…</th><th title = \"CategoricalValue{Int64, UInt32}\" style = \"text-align: left;\">Cat…</th><th title = \"CategoricalValue{Int64, UInt32}\" style = \"text-align: left;\">Cat…</th></tr></thead><tbody><tr><td class = \"rowNumber\" style = \"font-weight: bold; text-align: right;\">1</td><td style = \"text-align: left;\">3</td><td style = \"text-align: left;\">4</td><td style = \"text-align: left;\">2</td><td style = \"text-align: left;\">5</td></tr><tr><td class = \"rowNumber\" style = \"font-weight: bold; text-align: right;\">2</td><td style = \"text-align: left;\">1</td><td style = \"text-align: left;\">1</td><td style = \"text-align: left;\">1</td><td style = \"text-align: left;\">1</td></tr><tr><td class = \"rowNumber\" style = \"font-weight: bold; text-align: right;\">3</td><td style = \"text-align: left;\">3</td><td style = \"text-align: left;\">1</td><td style = \"text-align: left;\">1</td><td style = \"text-align: left;\">3</td></tr><tr><td class = \"rowNumber\" style = \"font-weight: bold; text-align: right;\">4</td><td style = \"text-align: left;\">3</td><td style = \"text-align: left;\">3</td><td style = \"text-align: left;\">1</td><td style = \"text-align: left;\">3</td></tr><tr><td class = \"rowNumber\" style = \"font-weight: bold; text-align: right;\">5</td><td style = \"text-align: left;\">1</td><td style = \"text-align: left;\">3</td><td style = \"text-align: left;\">2</td><td style = \"text-align: left;\">1</td></tr><tr><td class = \"rowNumber\" style = \"font-weight: bold; text-align: right;\">6</td><td style = \"text-align: left;\">3</td><td style = \"text-align: left;\">2</td><td style = \"text-align: left;\">1</td><td style = \"text-align: left;\">1</td></tr><tr><td class = \"rowNumber\" style = \"font-weight: bold; text-align: right;\">7</td><td style = \"text-align: left;\">3</td><td style = \"text-align: left;\">2</td><td style = \"text-align: left;\">1</td><td style = \"text-align: left;\">3</td></tr><tr><td class = \"rowNumber\" style = \"font-weight: bold; text-align: right;\">8</td><td style = \"text-align: left;\">1</td><td style = \"text-align: left;\">4</td><td style = \"text-align: left;\">2</td><td style = \"text-align: left;\">2</td></tr><tr><td class = \"rowNumber\" style = \"font-weight: bold; text-align: right;\">9</td><td style = \"text-align: left;\">3</td><td style = \"text-align: left;\">1</td><td style = \"text-align: left;\">2</td><td style = \"text-align: left;\">5</td></tr><tr><td class = \"rowNumber\" style = \"font-weight: bold; text-align: right;\">10</td><td style = \"text-align: left;\">3</td><td style = \"text-align: left;\">1</td><td style = \"text-align: left;\">1</td><td style = \"text-align: left;\">5</td></tr><tr><td class = \"rowNumber\" style = \"font-weight: bold; text-align: right;\">11</td><td style = \"text-align: left;\">3</td><td style = \"text-align: left;\">3</td><td style = \"text-align: left;\">1</td><td style = \"text-align: left;\">1</td></tr><tr><td class = \"rowNumber\" style = \"font-weight: bold; text-align: right;\">12</td><td style = \"text-align: left;\">1</td><td style = \"text-align: left;\">2</td><td style = \"text-align: left;\">1</td><td style = \"text-align: left;\">3</td></tr><tr><td class = \"rowNumber\" style = \"font-weight: bold; text-align: right;\">13</td><td style = \"text-align: left;\">2</td><td style = \"text-align: left;\">2</td><td style = \"text-align: left;\">1</td><td style = \"text-align: left;\">4</td></tr><tr><td style = \"text-align: right;\">&vellip;</td><td style = \"text-align: right;\">&vellip;</td><td style = \"text-align: right;\">&vellip;</td><td style = \"text-align: right;\">&vellip;</td><td style = \"text-align: right;\">&vellip;</td></tr><tr><td class = \"rowNumber\" style = \"font-weight: bold; text-align: right;\">89</td><td style = \"text-align: left;\">3</td><td style = \"text-align: left;\">2</td><td style = \"text-align: left;\">1</td><td style = \"text-align: left;\">1</td></tr><tr><td class = \"rowNumber\" style = \"font-weight: bold; text-align: right;\">90</td><td style = \"text-align: left;\">2</td><td style = \"text-align: left;\">3</td><td style = \"text-align: left;\">2</td><td style = \"text-align: left;\">5</td></tr><tr><td class = \"rowNumber\" style = \"font-weight: bold; text-align: right;\">91</td><td style = \"text-align: left;\">3</td><td style = \"text-align: left;\">1</td><td style = \"text-align: left;\">2</td><td style = \"text-align: left;\">3</td></tr><tr><td class = \"rowNumber\" style = \"font-weight: bold; text-align: right;\">92</td><td style = \"text-align: left;\">3</td><td style = \"text-align: left;\">2</td><td style = \"text-align: left;\">2</td><td style = \"text-align: left;\">1</td></tr><tr><td class = \"rowNumber\" style = \"font-weight: bold; text-align: right;\">93</td><td style = \"text-align: left;\">1</td><td style = \"text-align: left;\">1</td><td style = \"text-align: left;\">1</td><td style = \"text-align: left;\">3</td></tr><tr><td class = \"rowNumber\" style = \"font-weight: bold; text-align: right;\">94</td><td style = \"text-align: left;\">3</td><td style = \"text-align: left;\">2</td><td style = \"text-align: left;\">2</td><td style = \"text-align: left;\">4</td></tr><tr><td class = \"rowNumber\" style = \"font-weight: bold; text-align: right;\">95</td><td style = \"text-align: left;\">1</td><td style = \"text-align: left;\">2</td><td style = \"text-align: left;\">2</td><td style = \"text-align: left;\">4</td></tr><tr><td class = \"rowNumber\" style = \"font-weight: bold; text-align: right;\">96</td><td style = \"text-align: left;\">1</td><td style = \"text-align: left;\">4</td><td style = \"text-align: left;\">1</td><td style = \"text-align: left;\">2</td></tr><tr><td class = \"rowNumber\" style = \"font-weight: bold; text-align: right;\">97</td><td style = \"text-align: left;\">2</td><td style = \"text-align: left;\">3</td><td style = \"text-align: left;\">1</td><td style = \"text-align: left;\">3</td></tr><tr><td class = \"rowNumber\" style = \"font-weight: bold; text-align: right;\">98</td><td style = \"text-align: left;\">1</td><td style = \"text-align: left;\">4</td><td style = \"text-align: left;\">2</td><td style = \"text-align: left;\">5</td></tr><tr><td class = \"rowNumber\" style = \"font-weight: bold; text-align: right;\">99</td><td style = \"text-align: left;\">3</td><td style = \"text-align: left;\">2</td><td style = \"text-align: left;\">1</td><td style = \"text-align: left;\">1</td></tr><tr><td class = \"rowNumber\" style = \"font-weight: bold; text-align: right;\">100</td><td style = \"text-align: left;\">1</td><td style = \"text-align: left;\">2</td><td style = \"text-align: left;\">2</td><td style = \"text-align: left;\">3</td></tr></tbody></table></div>"
      ],
      "text/latex": [
       "\\begin{tabular}{r|cccc}\n",
       "\t& Column1 & Column2 & Column3 & Column4\\\\\n",
       "\t\\hline\n",
       "\t& Cat… & Cat… & Cat… & Cat…\\\\\n",
       "\t\\hline\n",
       "\t1 & 3 & 4 & 2 & 5 \\\\\n",
       "\t2 & 1 & 1 & 1 & 1 \\\\\n",
       "\t3 & 3 & 1 & 1 & 3 \\\\\n",
       "\t4 & 3 & 3 & 1 & 3 \\\\\n",
       "\t5 & 1 & 3 & 2 & 1 \\\\\n",
       "\t6 & 3 & 2 & 1 & 1 \\\\\n",
       "\t7 & 3 & 2 & 1 & 3 \\\\\n",
       "\t8 & 1 & 4 & 2 & 2 \\\\\n",
       "\t9 & 3 & 1 & 2 & 5 \\\\\n",
       "\t10 & 3 & 1 & 1 & 5 \\\\\n",
       "\t11 & 3 & 3 & 1 & 1 \\\\\n",
       "\t12 & 1 & 2 & 1 & 3 \\\\\n",
       "\t13 & 2 & 2 & 1 & 4 \\\\\n",
       "\t14 & 1 & 2 & 2 & 4 \\\\\n",
       "\t15 & 1 & 2 & 1 & 1 \\\\\n",
       "\t16 & 3 & 1 & 1 & 4 \\\\\n",
       "\t17 & 2 & 4 & 2 & 3 \\\\\n",
       "\t18 & 2 & 2 & 1 & 4 \\\\\n",
       "\t19 & 3 & 1 & 1 & 5 \\\\\n",
       "\t20 & 3 & 2 & 2 & 1 \\\\\n",
       "\t21 & 3 & 1 & 1 & 5 \\\\\n",
       "\t22 & 2 & 2 & 1 & 1 \\\\\n",
       "\t23 & 1 & 4 & 2 & 3 \\\\\n",
       "\t24 & 2 & 1 & 2 & 1 \\\\\n",
       "\t$\\dots$ & $\\dots$ & $\\dots$ & $\\dots$ & $\\dots$ \\\\\n",
       "\\end{tabular}\n"
      ],
      "text/plain": [
       "\u001b[1m100×4 DataFrame\u001b[0m\n",
       "\u001b[1m Row \u001b[0m│\u001b[1m Column1 \u001b[0m\u001b[1m Column2 \u001b[0m\u001b[1m Column3 \u001b[0m\u001b[1m Column4 \u001b[0m\n",
       "     │\u001b[90m Cat…    \u001b[0m\u001b[90m Cat…    \u001b[0m\u001b[90m Cat…    \u001b[0m\u001b[90m Cat…    \u001b[0m\n",
       "─────┼────────────────────────────────────\n",
       "   1 │ 3        4        2        5\n",
       "   2 │ 1        1        1        1\n",
       "   3 │ 3        1        1        3\n",
       "   4 │ 3        3        1        3\n",
       "   5 │ 1        3        2        1\n",
       "   6 │ 3        2        1        1\n",
       "   7 │ 3        2        1        3\n",
       "   8 │ 1        4        2        2\n",
       "  ⋮  │    ⋮        ⋮        ⋮        ⋮\n",
       "  94 │ 3        2        2        4\n",
       "  95 │ 1        2        2        4\n",
       "  96 │ 1        4        1        2\n",
       "  97 │ 2        3        1        3\n",
       "  98 │ 1        4        2        5\n",
       "  99 │ 3        2        1        1\n",
       " 100 │ 1        2        2        3\n",
       "\u001b[36m                           85 rows omitted\u001b[0m"
      ]
     },
     "metadata": {},
     "output_type": "display_data"
    }
   ],
   "source": [
    "rng = Random.default_rng()\n",
    "\n",
    "\n",
    "num_rows = 100\n",
    "num_cont_feats = 0\n",
    "class_probs = [0.5, 0.2, 0.3]\n",
    "\n",
    "num_vals_per_category = [3, 4, 2, 5]\n",
    "\n",
    "X, y = generate_imbalanced_data(num_rows, num_cont_feats; class_probs, num_vals_per_category)\n",
    "X = DataFrame(X)\n",
    "\n",
    "X = coerce(X, autotype(X, :few_to_finite))"
   ]
  },
  {
   "cell_type": "markdown",
   "metadata": {},
   "source": [
    "### 2. Apply SMOTE-N"
   ]
  },
  {
   "cell_type": "markdown",
   "metadata": {},
   "source": [
    "#### Using Imbalance Only"
   ]
  },
  {
   "cell_type": "code",
   "execution_count": 3,
   "metadata": {},
   "outputs": [
    {
     "name": "stderr",
     "output_type": "stream",
     "text": [
      "\r\u001b[32mProgress:  67%|███████████████████████████▍             |  ETA: 0:00:00\u001b[39m\u001b[K\r\n",
      "\u001b[34m  class:  0\u001b[39m\u001b[K\r\u001b[A"
     ]
    },
    {
     "name": "stderr",
     "output_type": "stream",
     "text": [
      "\n",
      "\r\u001b[K\u001b[A\r\u001b[32mProgress: 100%|█████████████████████████████████████████| Time: 0:00:01\u001b[39m\u001b[K\r\n",
      "\u001b[34m  class:  1\u001b[39m\u001b[K\n"
     ]
    },
    {
     "data": {
      "text/plain": [
       "(\u001b[1m186×4 DataFrame\u001b[0m\n",
       "\u001b[1m Row \u001b[0m│\u001b[1m Column1 \u001b[0m\u001b[1m Column2 \u001b[0m\u001b[1m Column3 \u001b[0m\u001b[1m Column4 \u001b[0m\n",
       "     │\u001b[90m Cat…    \u001b[0m\u001b[90m Cat…    \u001b[0m\u001b[90m Cat…    \u001b[0m\u001b[90m Cat…    \u001b[0m\n",
       "─────┼────────────────────────────────────\n",
       "   1 │ 3        4        2        5\n",
       "   2 │ 1        1        1        1\n",
       "   3 │ 3        1        1        3\n",
       "   4 │ 3        3        1        3\n",
       "   5 │ 1        3        2        1\n",
       "   6 │ 3        2        1        1\n",
       "   7 │ 3        2        1        3\n",
       "   8 │ 1        4        2        2\n",
       "  ⋮  │    ⋮        ⋮        ⋮        ⋮\n",
       " 180 │ 3        1        1        5\n",
       " 181 │ 1        4        1        5\n",
       " 182 │ 2        1        1        5\n",
       " 183 │ 3        2        1        5\n",
       " 184 │ 3        1        1        5\n",
       " 185 │ 3        1        1        5\n",
       " 186 │ 1        2        2        4\n",
       "\u001b[36m                          171 rows omitted\u001b[0m, CategoricalValue{Int64, UInt32}[2, 0, 0, 1, 0, 0, 0, 2, 0, 1  …  1, 1, 1, 1, 1, 1, 1, 1, 1, 1])"
      ]
     },
     "metadata": {},
     "output_type": "display_data"
    }
   ],
   "source": [
    "Xover, yover = smoten(X, y; k = 5, ratios = Dict(0=>1.2, 1=> 1.2, 2=>1.2), rng = 42)"
   ]
  },
  {
   "cell_type": "markdown",
   "metadata": {},
   "source": [
    "#### Using MLJ"
   ]
  },
  {
   "cell_type": "code",
   "execution_count": 4,
   "metadata": {},
   "outputs": [
    {
     "data": {
      "text/html": [
       "<div><div style = \"float: left;\"><span>186×4 DataFrame</span></div><div style = \"float: right;\"><span style = \"font-style: italic;\">161 rows omitted</span></div><div style = \"clear: both;\"></div></div><div class = \"data-frame\" style = \"overflow-x: scroll;\"><table class = \"data-frame\" style = \"margin-bottom: 6px;\"><thead><tr class = \"header\"><th class = \"rowNumber\" style = \"font-weight: bold; text-align: right;\">Row</th><th style = \"text-align: left;\">Column1</th><th style = \"text-align: left;\">Column2</th><th style = \"text-align: left;\">Column3</th><th style = \"text-align: left;\">Column4</th></tr><tr class = \"subheader headerLastRow\"><th class = \"rowNumber\" style = \"font-weight: bold; text-align: right;\"></th><th title = \"CategoricalValue{Int64, UInt32}\" style = \"text-align: left;\">Cat…</th><th title = \"CategoricalValue{Int64, UInt32}\" style = \"text-align: left;\">Cat…</th><th title = \"CategoricalValue{Int64, UInt32}\" style = \"text-align: left;\">Cat…</th><th title = \"CategoricalValue{Int64, UInt32}\" style = \"text-align: left;\">Cat…</th></tr></thead><tbody><tr><td class = \"rowNumber\" style = \"font-weight: bold; text-align: right;\">1</td><td style = \"text-align: left;\">3</td><td style = \"text-align: left;\">4</td><td style = \"text-align: left;\">2</td><td style = \"text-align: left;\">5</td></tr><tr><td class = \"rowNumber\" style = \"font-weight: bold; text-align: right;\">2</td><td style = \"text-align: left;\">1</td><td style = \"text-align: left;\">1</td><td style = \"text-align: left;\">1</td><td style = \"text-align: left;\">1</td></tr><tr><td class = \"rowNumber\" style = \"font-weight: bold; text-align: right;\">3</td><td style = \"text-align: left;\">3</td><td style = \"text-align: left;\">1</td><td style = \"text-align: left;\">1</td><td style = \"text-align: left;\">3</td></tr><tr><td class = \"rowNumber\" style = \"font-weight: bold; text-align: right;\">4</td><td style = \"text-align: left;\">3</td><td style = \"text-align: left;\">3</td><td style = \"text-align: left;\">1</td><td style = \"text-align: left;\">3</td></tr><tr><td class = \"rowNumber\" style = \"font-weight: bold; text-align: right;\">5</td><td style = \"text-align: left;\">1</td><td style = \"text-align: left;\">3</td><td style = \"text-align: left;\">2</td><td style = \"text-align: left;\">1</td></tr><tr><td class = \"rowNumber\" style = \"font-weight: bold; text-align: right;\">6</td><td style = \"text-align: left;\">3</td><td style = \"text-align: left;\">2</td><td style = \"text-align: left;\">1</td><td style = \"text-align: left;\">1</td></tr><tr><td class = \"rowNumber\" style = \"font-weight: bold; text-align: right;\">7</td><td style = \"text-align: left;\">3</td><td style = \"text-align: left;\">2</td><td style = \"text-align: left;\">1</td><td style = \"text-align: left;\">3</td></tr><tr><td class = \"rowNumber\" style = \"font-weight: bold; text-align: right;\">8</td><td style = \"text-align: left;\">1</td><td style = \"text-align: left;\">4</td><td style = \"text-align: left;\">2</td><td style = \"text-align: left;\">2</td></tr><tr><td class = \"rowNumber\" style = \"font-weight: bold; text-align: right;\">9</td><td style = \"text-align: left;\">3</td><td style = \"text-align: left;\">1</td><td style = \"text-align: left;\">2</td><td style = \"text-align: left;\">5</td></tr><tr><td class = \"rowNumber\" style = \"font-weight: bold; text-align: right;\">10</td><td style = \"text-align: left;\">3</td><td style = \"text-align: left;\">1</td><td style = \"text-align: left;\">1</td><td style = \"text-align: left;\">5</td></tr><tr><td class = \"rowNumber\" style = \"font-weight: bold; text-align: right;\">11</td><td style = \"text-align: left;\">3</td><td style = \"text-align: left;\">3</td><td style = \"text-align: left;\">1</td><td style = \"text-align: left;\">1</td></tr><tr><td class = \"rowNumber\" style = \"font-weight: bold; text-align: right;\">12</td><td style = \"text-align: left;\">1</td><td style = \"text-align: left;\">2</td><td style = \"text-align: left;\">1</td><td style = \"text-align: left;\">3</td></tr><tr><td class = \"rowNumber\" style = \"font-weight: bold; text-align: right;\">13</td><td style = \"text-align: left;\">2</td><td style = \"text-align: left;\">2</td><td style = \"text-align: left;\">1</td><td style = \"text-align: left;\">4</td></tr><tr><td style = \"text-align: right;\">&vellip;</td><td style = \"text-align: right;\">&vellip;</td><td style = \"text-align: right;\">&vellip;</td><td style = \"text-align: right;\">&vellip;</td><td style = \"text-align: right;\">&vellip;</td></tr><tr><td class = \"rowNumber\" style = \"font-weight: bold; text-align: right;\">175</td><td style = \"text-align: left;\">3</td><td style = \"text-align: left;\">2</td><td style = \"text-align: left;\">1</td><td style = \"text-align: left;\">5</td></tr><tr><td class = \"rowNumber\" style = \"font-weight: bold; text-align: right;\">176</td><td style = \"text-align: left;\">3</td><td style = \"text-align: left;\">1</td><td style = \"text-align: left;\">1</td><td style = \"text-align: left;\">5</td></tr><tr><td class = \"rowNumber\" style = \"font-weight: bold; text-align: right;\">177</td><td style = \"text-align: left;\">1</td><td style = \"text-align: left;\">2</td><td style = \"text-align: left;\">1</td><td style = \"text-align: left;\">4</td></tr><tr><td class = \"rowNumber\" style = \"font-weight: bold; text-align: right;\">178</td><td style = \"text-align: left;\">3</td><td style = \"text-align: left;\">1</td><td style = \"text-align: left;\">1</td><td style = \"text-align: left;\">5</td></tr><tr><td class = \"rowNumber\" style = \"font-weight: bold; text-align: right;\">179</td><td style = \"text-align: left;\">3</td><td style = \"text-align: left;\">1</td><td style = \"text-align: left;\">1</td><td style = \"text-align: left;\">5</td></tr><tr><td class = \"rowNumber\" style = \"font-weight: bold; text-align: right;\">180</td><td style = \"text-align: left;\">3</td><td style = \"text-align: left;\">1</td><td style = \"text-align: left;\">1</td><td style = \"text-align: left;\">5</td></tr><tr><td class = \"rowNumber\" style = \"font-weight: bold; text-align: right;\">181</td><td style = \"text-align: left;\">1</td><td style = \"text-align: left;\">4</td><td style = \"text-align: left;\">1</td><td style = \"text-align: left;\">5</td></tr><tr><td class = \"rowNumber\" style = \"font-weight: bold; text-align: right;\">182</td><td style = \"text-align: left;\">2</td><td style = \"text-align: left;\">1</td><td style = \"text-align: left;\">1</td><td style = \"text-align: left;\">5</td></tr><tr><td class = \"rowNumber\" style = \"font-weight: bold; text-align: right;\">183</td><td style = \"text-align: left;\">3</td><td style = \"text-align: left;\">2</td><td style = \"text-align: left;\">1</td><td style = \"text-align: left;\">5</td></tr><tr><td class = \"rowNumber\" style = \"font-weight: bold; text-align: right;\">184</td><td style = \"text-align: left;\">3</td><td style = \"text-align: left;\">1</td><td style = \"text-align: left;\">1</td><td style = \"text-align: left;\">5</td></tr><tr><td class = \"rowNumber\" style = \"font-weight: bold; text-align: right;\">185</td><td style = \"text-align: left;\">3</td><td style = \"text-align: left;\">1</td><td style = \"text-align: left;\">1</td><td style = \"text-align: left;\">5</td></tr><tr><td class = \"rowNumber\" style = \"font-weight: bold; text-align: right;\">186</td><td style = \"text-align: left;\">1</td><td style = \"text-align: left;\">2</td><td style = \"text-align: left;\">2</td><td style = \"text-align: left;\">4</td></tr></tbody></table></div>"
      ],
      "text/latex": [
       "\\begin{tabular}{r|cccc}\n",
       "\t& Column1 & Column2 & Column3 & Column4\\\\\n",
       "\t\\hline\n",
       "\t& Cat… & Cat… & Cat… & Cat…\\\\\n",
       "\t\\hline\n",
       "\t1 & 3 & 4 & 2 & 5 \\\\\n",
       "\t2 & 1 & 1 & 1 & 1 \\\\\n",
       "\t3 & 3 & 1 & 1 & 3 \\\\\n",
       "\t4 & 3 & 3 & 1 & 3 \\\\\n",
       "\t5 & 1 & 3 & 2 & 1 \\\\\n",
       "\t6 & 3 & 2 & 1 & 1 \\\\\n",
       "\t7 & 3 & 2 & 1 & 3 \\\\\n",
       "\t8 & 1 & 4 & 2 & 2 \\\\\n",
       "\t9 & 3 & 1 & 2 & 5 \\\\\n",
       "\t10 & 3 & 1 & 1 & 5 \\\\\n",
       "\t11 & 3 & 3 & 1 & 1 \\\\\n",
       "\t12 & 1 & 2 & 1 & 3 \\\\\n",
       "\t13 & 2 & 2 & 1 & 4 \\\\\n",
       "\t14 & 1 & 2 & 2 & 4 \\\\\n",
       "\t15 & 1 & 2 & 1 & 1 \\\\\n",
       "\t16 & 3 & 1 & 1 & 4 \\\\\n",
       "\t17 & 2 & 4 & 2 & 3 \\\\\n",
       "\t18 & 2 & 2 & 1 & 4 \\\\\n",
       "\t19 & 3 & 1 & 1 & 5 \\\\\n",
       "\t20 & 3 & 2 & 2 & 1 \\\\\n",
       "\t21 & 3 & 1 & 1 & 5 \\\\\n",
       "\t22 & 2 & 2 & 1 & 1 \\\\\n",
       "\t23 & 1 & 4 & 2 & 3 \\\\\n",
       "\t24 & 2 & 1 & 2 & 1 \\\\\n",
       "\t$\\dots$ & $\\dots$ & $\\dots$ & $\\dots$ & $\\dots$ \\\\\n",
       "\\end{tabular}\n"
      ],
      "text/plain": [
       "\u001b[1m186×4 DataFrame\u001b[0m\n",
       "\u001b[1m Row \u001b[0m│\u001b[1m Column1 \u001b[0m\u001b[1m Column2 \u001b[0m\u001b[1m Column3 \u001b[0m\u001b[1m Column4 \u001b[0m\n",
       "     │\u001b[90m Cat…    \u001b[0m\u001b[90m Cat…    \u001b[0m\u001b[90m Cat…    \u001b[0m\u001b[90m Cat…    \u001b[0m\n",
       "─────┼────────────────────────────────────\n",
       "   1 │ 3        4        2        5\n",
       "   2 │ 1        1        1        1\n",
       "   3 │ 3        1        1        3\n",
       "   4 │ 3        3        1        3\n",
       "   5 │ 1        3        2        1\n",
       "   6 │ 3        2        1        1\n",
       "   7 │ 3        2        1        3\n",
       "   8 │ 1        4        2        2\n",
       "  ⋮  │    ⋮        ⋮        ⋮        ⋮\n",
       " 180 │ 3        1        1        5\n",
       " 181 │ 1        4        1        5\n",
       " 182 │ 2        1        1        5\n",
       " 183 │ 3        2        1        5\n",
       " 184 │ 3        1        1        5\n",
       " 185 │ 3        1        1        5\n",
       " 186 │ 1        2        2        4\n",
       "\u001b[36m                          171 rows omitted\u001b[0m"
      ]
     },
     "metadata": {},
     "output_type": "display_data"
    }
   ],
   "source": [
    "smotenc_model = Imbalance.MLJ.SMOTEN(k=5, ratios=Dict(0=>1.2, 1=> 1.2, 2=>1.2), rng=42)\n",
    "mach = machine(smotenc_model)\n",
    "Xover, yover = transform(mach, X, y)\n",
    "Xover"
   ]
  },
  {
   "cell_type": "markdown",
   "metadata": {},
   "source": [
    "#### Using TableTransforms"
   ]
  },
  {
   "cell_type": "code",
   "execution_count": 5,
   "metadata": {},
   "outputs": [
    {
     "data": {
      "text/html": [
       "<div><div style = \"float: left;\"><span>10000×3 DataFrame</span></div><div style = \"float: right;\"><span style = \"font-style: italic;\">9975 rows omitted</span></div><div style = \"clear: both;\"></div></div><div class = \"data-frame\" style = \"overflow-x: scroll;\"><table class = \"data-frame\" style = \"margin-bottom: 6px;\"><thead><tr class = \"header\"><th class = \"rowNumber\" style = \"font-weight: bold; text-align: right;\">Row</th><th style = \"text-align: left;\">Surname</th><th style = \"text-align: left;\">Geography</th><th style = \"text-align: left;\">Gender</th></tr><tr class = \"subheader headerLastRow\"><th class = \"rowNumber\" style = \"font-weight: bold; text-align: right;\"></th><th title = \"CategoricalValue{String31, UInt32}\" style = \"text-align: left;\">Cat…</th><th title = \"CategoricalValue{String7, UInt32}\" style = \"text-align: left;\">Cat…</th><th title = \"CategoricalValue{String7, UInt32}\" style = \"text-align: left;\">Cat…</th></tr></thead><tbody><tr><td class = \"rowNumber\" style = \"font-weight: bold; text-align: right;\">1</td><td style = \"text-align: left;\">Hargrave</td><td style = \"text-align: left;\">France</td><td style = \"text-align: left;\">Female</td></tr><tr><td class = \"rowNumber\" style = \"font-weight: bold; text-align: right;\">2</td><td style = \"text-align: left;\">Hill</td><td style = \"text-align: left;\">Spain</td><td style = \"text-align: left;\">Female</td></tr><tr><td class = \"rowNumber\" style = \"font-weight: bold; text-align: right;\">3</td><td style = \"text-align: left;\">Onio</td><td style = \"text-align: left;\">France</td><td style = \"text-align: left;\">Female</td></tr><tr><td class = \"rowNumber\" style = \"font-weight: bold; text-align: right;\">4</td><td style = \"text-align: left;\">Boni</td><td style = \"text-align: left;\">France</td><td style = \"text-align: left;\">Female</td></tr><tr><td class = \"rowNumber\" style = \"font-weight: bold; text-align: right;\">5</td><td style = \"text-align: left;\">Mitchell</td><td style = \"text-align: left;\">Spain</td><td style = \"text-align: left;\">Female</td></tr><tr><td class = \"rowNumber\" style = \"font-weight: bold; text-align: right;\">6</td><td style = \"text-align: left;\">Chu</td><td style = \"text-align: left;\">Spain</td><td style = \"text-align: left;\">Male</td></tr><tr><td class = \"rowNumber\" style = \"font-weight: bold; text-align: right;\">7</td><td style = \"text-align: left;\">Bartlett</td><td style = \"text-align: left;\">France</td><td style = \"text-align: left;\">Male</td></tr><tr><td class = \"rowNumber\" style = \"font-weight: bold; text-align: right;\">8</td><td style = \"text-align: left;\">Obinna</td><td style = \"text-align: left;\">Germany</td><td style = \"text-align: left;\">Female</td></tr><tr><td class = \"rowNumber\" style = \"font-weight: bold; text-align: right;\">9</td><td style = \"text-align: left;\">He</td><td style = \"text-align: left;\">France</td><td style = \"text-align: left;\">Male</td></tr><tr><td class = \"rowNumber\" style = \"font-weight: bold; text-align: right;\">10</td><td style = \"text-align: left;\">H?</td><td style = \"text-align: left;\">France</td><td style = \"text-align: left;\">Male</td></tr><tr><td class = \"rowNumber\" style = \"font-weight: bold; text-align: right;\">11</td><td style = \"text-align: left;\">Bearce</td><td style = \"text-align: left;\">France</td><td style = \"text-align: left;\">Male</td></tr><tr><td class = \"rowNumber\" style = \"font-weight: bold; text-align: right;\">12</td><td style = \"text-align: left;\">Andrews</td><td style = \"text-align: left;\">Spain</td><td style = \"text-align: left;\">Male</td></tr><tr><td class = \"rowNumber\" style = \"font-weight: bold; text-align: right;\">13</td><td style = \"text-align: left;\">Kay</td><td style = \"text-align: left;\">France</td><td style = \"text-align: left;\">Female</td></tr><tr><td style = \"text-align: right;\">&vellip;</td><td style = \"text-align: right;\">&vellip;</td><td style = \"text-align: right;\">&vellip;</td><td style = \"text-align: right;\">&vellip;</td></tr><tr><td class = \"rowNumber\" style = \"font-weight: bold; text-align: right;\">9989</td><td style = \"text-align: left;\">Pirozzi</td><td style = \"text-align: left;\">France</td><td style = \"text-align: left;\">Male</td></tr><tr><td class = \"rowNumber\" style = \"font-weight: bold; text-align: right;\">9990</td><td style = \"text-align: left;\">McMillan</td><td style = \"text-align: left;\">Spain</td><td style = \"text-align: left;\">Male</td></tr><tr><td class = \"rowNumber\" style = \"font-weight: bold; text-align: right;\">9991</td><td style = \"text-align: left;\">Nkemakonam</td><td style = \"text-align: left;\">Germany</td><td style = \"text-align: left;\">Male</td></tr><tr><td class = \"rowNumber\" style = \"font-weight: bold; text-align: right;\">9992</td><td style = \"text-align: left;\">Ajuluchukwu</td><td style = \"text-align: left;\">France</td><td style = \"text-align: left;\">Female</td></tr><tr><td class = \"rowNumber\" style = \"font-weight: bold; text-align: right;\">9993</td><td style = \"text-align: left;\">Chukwualuka</td><td style = \"text-align: left;\">Spain</td><td style = \"text-align: left;\">Male</td></tr><tr><td class = \"rowNumber\" style = \"font-weight: bold; text-align: right;\">9994</td><td style = \"text-align: left;\">Rahman</td><td style = \"text-align: left;\">France</td><td style = \"text-align: left;\">Male</td></tr><tr><td class = \"rowNumber\" style = \"font-weight: bold; text-align: right;\">9995</td><td style = \"text-align: left;\">Wood</td><td style = \"text-align: left;\">France</td><td style = \"text-align: left;\">Female</td></tr><tr><td class = \"rowNumber\" style = \"font-weight: bold; text-align: right;\">9996</td><td style = \"text-align: left;\">Obijiaku</td><td style = \"text-align: left;\">France</td><td style = \"text-align: left;\">Male</td></tr><tr><td class = \"rowNumber\" style = \"font-weight: bold; text-align: right;\">9997</td><td style = \"text-align: left;\">Johnstone</td><td style = \"text-align: left;\">France</td><td style = \"text-align: left;\">Male</td></tr><tr><td class = \"rowNumber\" style = \"font-weight: bold; text-align: right;\">9998</td><td style = \"text-align: left;\">Liu</td><td style = \"text-align: left;\">France</td><td style = \"text-align: left;\">Female</td></tr><tr><td class = \"rowNumber\" style = \"font-weight: bold; text-align: right;\">9999</td><td style = \"text-align: left;\">Sabbatini</td><td style = \"text-align: left;\">Germany</td><td style = \"text-align: left;\">Male</td></tr><tr><td class = \"rowNumber\" style = \"font-weight: bold; text-align: right;\">10000</td><td style = \"text-align: left;\">Walker</td><td style = \"text-align: left;\">France</td><td style = \"text-align: left;\">Female</td></tr></tbody></table></div>"
      ],
      "text/latex": [
       "\\begin{tabular}{r|ccc}\n",
       "\t& Surname & Geography & Gender\\\\\n",
       "\t\\hline\n",
       "\t& Cat… & Cat… & Cat…\\\\\n",
       "\t\\hline\n",
       "\t1 & Hargrave & France & Female \\\\\n",
       "\t2 & Hill & Spain & Female \\\\\n",
       "\t3 & Onio & France & Female \\\\\n",
       "\t4 & Boni & France & Female \\\\\n",
       "\t5 & Mitchell & Spain & Female \\\\\n",
       "\t6 & Chu & Spain & Male \\\\\n",
       "\t7 & Bartlett & France & Male \\\\\n",
       "\t8 & Obinna & Germany & Female \\\\\n",
       "\t9 & He & France & Male \\\\\n",
       "\t10 & H? & France & Male \\\\\n",
       "\t11 & Bearce & France & Male \\\\\n",
       "\t12 & Andrews & Spain & Male \\\\\n",
       "\t13 & Kay & France & Female \\\\\n",
       "\t14 & Chin & France & Female \\\\\n",
       "\t15 & Scott & Spain & Female \\\\\n",
       "\t16 & Goforth & Germany & Male \\\\\n",
       "\t17 & Romeo & Germany & Male \\\\\n",
       "\t18 & Henderson & Spain & Female \\\\\n",
       "\t19 & Muldrow & Spain & Male \\\\\n",
       "\t20 & Hao & France & Female \\\\\n",
       "\t21 & McDonald & France & Male \\\\\n",
       "\t22 & Dellucci & Spain & Female \\\\\n",
       "\t23 & Gerasimov & Spain & Female \\\\\n",
       "\t24 & Mosman & France & Male \\\\\n",
       "\t$\\dots$ & $\\dots$ & $\\dots$ & $\\dots$ \\\\\n",
       "\\end{tabular}\n"
      ],
      "text/plain": [
       "\u001b[1m10000×3 DataFrame\u001b[0m\n",
       "\u001b[1m   Row \u001b[0m│\u001b[1m Surname     \u001b[0m\u001b[1m Geography \u001b[0m\u001b[1m Gender \u001b[0m\n",
       "       │\u001b[90m Cat…        \u001b[0m\u001b[90m Cat…      \u001b[0m\u001b[90m Cat…   \u001b[0m\n",
       "───────┼────────────────────────────────\n",
       "     1 │ Hargrave     France     Female\n",
       "     2 │ Hill         Spain      Female\n",
       "     3 │ Onio         France     Female\n",
       "     4 │ Boni         France     Female\n",
       "     5 │ Mitchell     Spain      Female\n",
       "     6 │ Chu          Spain      Male\n",
       "     7 │ Bartlett     France     Male\n",
       "     8 │ Obinna       Germany    Female\n",
       "   ⋮   │      ⋮           ⋮        ⋮\n",
       "  9994 │ Rahman       France     Male\n",
       "  9995 │ Wood         France     Female\n",
       "  9996 │ Obijiaku     France     Male\n",
       "  9997 │ Johnstone    France     Male\n",
       "  9998 │ Liu          France     Female\n",
       "  9999 │ Sabbatini    Germany    Male\n",
       " 10000 │ Walker       France     Female\n",
       "\u001b[36m                       9985 rows omitted\u001b[0m"
      ]
     },
     "metadata": {},
     "output_type": "display_data"
    }
   ],
   "source": [
    "# For TableTransforms\n",
    "Xy = CSV.read(\"./datasets/churn.csv\", DataFrame)\n",
    "y_ind = 17\n",
    "Xy = coerce(Xy, autotype(Xy, :string_to_multiclass))\n",
    "\n",
    "types = schema(Xy).scitypes\n",
    "cat_inds = findall( x -> x <: Finite, types)\n",
    "Xy = Xy[:, cat_inds]\n",
    "Xy"
   ]
  },
  {
   "cell_type": "code",
   "execution_count": 6,
   "metadata": {},
   "outputs": [
    {
     "name": "stderr",
     "output_type": "stream",
     "text": [
      "\r\u001b[32mProgress:  67%|███████████████████████████▍             |  ETA: 0:00:00\u001b[39m\u001b[K\r\n",
      "\u001b[34m  class:  3\u001b[39m\u001b[K\r\u001b[A"
     ]
    },
    {
     "name": "stderr",
     "output_type": "stream",
     "text": [
      "\n",
      "\r\u001b[K\u001b[A\r\u001b[32mProgress: 100%|█████████████████████████████████████████| Time: 0:00:00\u001b[39m\u001b[K\r\n",
      "\u001b[34m  class:  2\u001b[39m\u001b[K\n"
     ]
    },
    {
     "data": {
      "text/html": [
       "<div><div style = \"float: left;\"><span>18051×3 DataFrame</span></div><div style = \"float: right;\"><span style = \"font-style: italic;\">18026 rows omitted</span></div><div style = \"clear: both;\"></div></div><div class = \"data-frame\" style = \"overflow-x: scroll;\"><table class = \"data-frame\" style = \"margin-bottom: 6px;\"><thead><tr class = \"header\"><th class = \"rowNumber\" style = \"font-weight: bold; text-align: right;\">Row</th><th style = \"text-align: left;\">Surname</th><th style = \"text-align: left;\">Geography</th><th style = \"text-align: left;\">Gender</th></tr><tr class = \"subheader headerLastRow\"><th class = \"rowNumber\" style = \"font-weight: bold; text-align: right;\"></th><th title = \"CategoricalValue{String31, UInt32}\" style = \"text-align: left;\">Cat…</th><th title = \"CategoricalValue{String7, UInt32}\" style = \"text-align: left;\">Cat…</th><th title = \"CategoricalValue{String7, UInt32}\" style = \"text-align: left;\">Cat…</th></tr></thead><tbody><tr><td class = \"rowNumber\" style = \"font-weight: bold; text-align: right;\">1</td><td style = \"text-align: left;\">Hargrave</td><td style = \"text-align: left;\">France</td><td style = \"text-align: left;\">Female</td></tr><tr><td class = \"rowNumber\" style = \"font-weight: bold; text-align: right;\">2</td><td style = \"text-align: left;\">Hill</td><td style = \"text-align: left;\">Spain</td><td style = \"text-align: left;\">Female</td></tr><tr><td class = \"rowNumber\" style = \"font-weight: bold; text-align: right;\">3</td><td style = \"text-align: left;\">Onio</td><td style = \"text-align: left;\">France</td><td style = \"text-align: left;\">Female</td></tr><tr><td class = \"rowNumber\" style = \"font-weight: bold; text-align: right;\">4</td><td style = \"text-align: left;\">Boni</td><td style = \"text-align: left;\">France</td><td style = \"text-align: left;\">Female</td></tr><tr><td class = \"rowNumber\" style = \"font-weight: bold; text-align: right;\">5</td><td style = \"text-align: left;\">Mitchell</td><td style = \"text-align: left;\">Spain</td><td style = \"text-align: left;\">Female</td></tr><tr><td class = \"rowNumber\" style = \"font-weight: bold; text-align: right;\">6</td><td style = \"text-align: left;\">Chu</td><td style = \"text-align: left;\">Spain</td><td style = \"text-align: left;\">Male</td></tr><tr><td class = \"rowNumber\" style = \"font-weight: bold; text-align: right;\">7</td><td style = \"text-align: left;\">Bartlett</td><td style = \"text-align: left;\">France</td><td style = \"text-align: left;\">Male</td></tr><tr><td class = \"rowNumber\" style = \"font-weight: bold; text-align: right;\">8</td><td style = \"text-align: left;\">Obinna</td><td style = \"text-align: left;\">Germany</td><td style = \"text-align: left;\">Female</td></tr><tr><td class = \"rowNumber\" style = \"font-weight: bold; text-align: right;\">9</td><td style = \"text-align: left;\">He</td><td style = \"text-align: left;\">France</td><td style = \"text-align: left;\">Male</td></tr><tr><td class = \"rowNumber\" style = \"font-weight: bold; text-align: right;\">10</td><td style = \"text-align: left;\">H?</td><td style = \"text-align: left;\">France</td><td style = \"text-align: left;\">Male</td></tr><tr><td class = \"rowNumber\" style = \"font-weight: bold; text-align: right;\">11</td><td style = \"text-align: left;\">Bearce</td><td style = \"text-align: left;\">France</td><td style = \"text-align: left;\">Male</td></tr><tr><td class = \"rowNumber\" style = \"font-weight: bold; text-align: right;\">12</td><td style = \"text-align: left;\">Andrews</td><td style = \"text-align: left;\">Spain</td><td style = \"text-align: left;\">Male</td></tr><tr><td class = \"rowNumber\" style = \"font-weight: bold; text-align: right;\">13</td><td style = \"text-align: left;\">Kay</td><td style = \"text-align: left;\">France</td><td style = \"text-align: left;\">Female</td></tr><tr><td style = \"text-align: right;\">&vellip;</td><td style = \"text-align: right;\">&vellip;</td><td style = \"text-align: right;\">&vellip;</td><td style = \"text-align: right;\">&vellip;</td></tr><tr><td class = \"rowNumber\" style = \"font-weight: bold; text-align: right;\">18040</td><td style = \"text-align: left;\">Sabbatini</td><td style = \"text-align: left;\">Germany</td><td style = \"text-align: left;\">Male</td></tr><tr><td class = \"rowNumber\" style = \"font-weight: bold; text-align: right;\">18041</td><td style = \"text-align: left;\">Otitodilinna</td><td style = \"text-align: left;\">Germany</td><td style = \"text-align: left;\">Male</td></tr><tr><td class = \"rowNumber\" style = \"font-weight: bold; text-align: right;\">18042</td><td style = \"text-align: left;\">Caldwell</td><td style = \"text-align: left;\">Germany</td><td style = \"text-align: left;\">Female</td></tr><tr><td class = \"rowNumber\" style = \"font-weight: bold; text-align: right;\">18043</td><td style = \"text-align: left;\">Burbidge</td><td style = \"text-align: left;\">Germany</td><td style = \"text-align: left;\">Male</td></tr><tr><td class = \"rowNumber\" style = \"font-weight: bold; text-align: right;\">18044</td><td style = \"text-align: left;\">Ginikanwa</td><td style = \"text-align: left;\">Germany</td><td style = \"text-align: left;\">Female</td></tr><tr><td class = \"rowNumber\" style = \"font-weight: bold; text-align: right;\">18045</td><td style = \"text-align: left;\">Wallace</td><td style = \"text-align: left;\">Germany</td><td style = \"text-align: left;\">Female</td></tr><tr><td class = \"rowNumber\" style = \"font-weight: bold; text-align: right;\">18046</td><td style = \"text-align: left;\">Newbold</td><td style = \"text-align: left;\">Germany</td><td style = \"text-align: left;\">Female</td></tr><tr><td class = \"rowNumber\" style = \"font-weight: bold; text-align: right;\">18047</td><td style = \"text-align: left;\">Burbidge</td><td style = \"text-align: left;\">Germany</td><td style = \"text-align: left;\">Male</td></tr><tr><td class = \"rowNumber\" style = \"font-weight: bold; text-align: right;\">18048</td><td style = \"text-align: left;\">Arnold</td><td style = \"text-align: left;\">Germany</td><td style = \"text-align: left;\">Male</td></tr><tr><td class = \"rowNumber\" style = \"font-weight: bold; text-align: right;\">18049</td><td style = \"text-align: left;\">Freeman</td><td style = \"text-align: left;\">Germany</td><td style = \"text-align: left;\">Male</td></tr><tr><td class = \"rowNumber\" style = \"font-weight: bold; text-align: right;\">18050</td><td style = \"text-align: left;\">Thorpe</td><td style = \"text-align: left;\">Germany</td><td style = \"text-align: left;\">Male</td></tr><tr><td class = \"rowNumber\" style = \"font-weight: bold; text-align: right;\">18051</td><td style = \"text-align: left;\">Rowntree</td><td style = \"text-align: left;\">Germany</td><td style = \"text-align: left;\">Male</td></tr></tbody></table></div>"
      ],
      "text/latex": [
       "\\begin{tabular}{r|ccc}\n",
       "\t& Surname & Geography & Gender\\\\\n",
       "\t\\hline\n",
       "\t& Cat… & Cat… & Cat…\\\\\n",
       "\t\\hline\n",
       "\t1 & Hargrave & France & Female \\\\\n",
       "\t2 & Hill & Spain & Female \\\\\n",
       "\t3 & Onio & France & Female \\\\\n",
       "\t4 & Boni & France & Female \\\\\n",
       "\t5 & Mitchell & Spain & Female \\\\\n",
       "\t6 & Chu & Spain & Male \\\\\n",
       "\t7 & Bartlett & France & Male \\\\\n",
       "\t8 & Obinna & Germany & Female \\\\\n",
       "\t9 & He & France & Male \\\\\n",
       "\t10 & H? & France & Male \\\\\n",
       "\t11 & Bearce & France & Male \\\\\n",
       "\t12 & Andrews & Spain & Male \\\\\n",
       "\t13 & Kay & France & Female \\\\\n",
       "\t14 & Chin & France & Female \\\\\n",
       "\t15 & Scott & Spain & Female \\\\\n",
       "\t16 & Goforth & Germany & Male \\\\\n",
       "\t17 & Romeo & Germany & Male \\\\\n",
       "\t18 & Henderson & Spain & Female \\\\\n",
       "\t19 & Muldrow & Spain & Male \\\\\n",
       "\t20 & Hao & France & Female \\\\\n",
       "\t21 & McDonald & France & Male \\\\\n",
       "\t22 & Dellucci & Spain & Female \\\\\n",
       "\t23 & Gerasimov & Spain & Female \\\\\n",
       "\t24 & Mosman & France & Male \\\\\n",
       "\t$\\dots$ & $\\dots$ & $\\dots$ & $\\dots$ \\\\\n",
       "\\end{tabular}\n"
      ],
      "text/plain": [
       "\u001b[1m18051×3 DataFrame\u001b[0m\n",
       "\u001b[1m   Row \u001b[0m│\u001b[1m Surname      \u001b[0m\u001b[1m Geography \u001b[0m\u001b[1m Gender \u001b[0m\n",
       "       │\u001b[90m Cat…         \u001b[0m\u001b[90m Cat…      \u001b[0m\u001b[90m Cat…   \u001b[0m\n",
       "───────┼─────────────────────────────────\n",
       "     1 │ Hargrave      France     Female\n",
       "     2 │ Hill          Spain      Female\n",
       "     3 │ Onio          France     Female\n",
       "     4 │ Boni          France     Female\n",
       "     5 │ Mitchell      Spain      Female\n",
       "     6 │ Chu           Spain      Male\n",
       "     7 │ Bartlett      France     Male\n",
       "     8 │ Obinna        Germany    Female\n",
       "   ⋮   │      ⋮            ⋮        ⋮\n",
       " 18045 │ Wallace       Germany    Female\n",
       " 18046 │ Newbold       Germany    Female\n",
       " 18047 │ Burbidge      Germany    Male\n",
       " 18048 │ Arnold        Germany    Male\n",
       " 18049 │ Freeman       Germany    Male\n",
       " 18050 │ Thorpe        Germany    Male\n",
       " 18051 │ Rowntree      Germany    Male\n",
       "\u001b[36m                       18036 rows omitted\u001b[0m"
      ]
     },
     "metadata": {},
     "output_type": "display_data"
    }
   ],
   "source": [
    "using Imbalance: TableTransforms.SMOTEN\n",
    "y_ind = 2\n",
    "smoten_model_t = SMOTEN(y_ind, ratios=Dict(1=> 1.2, 2=>1.2, 3=>1.2, 4=>1.2), rng=42)\n",
    "Xyover = Xy |> smoten_model_t"
   ]
  }
 ],
 "metadata": {
  "kernelspec": {
   "display_name": "Julia 1.8.5",
   "language": "julia",
   "name": "julia-1.8"
  },
  "language_info": {
   "file_extension": ".jl",
   "mimetype": "application/julia",
   "name": "julia",
   "version": "1.8.5"
  },
  "orig_nbformat": 4
 },
 "nbformat": 4,
 "nbformat_minor": 2
}
