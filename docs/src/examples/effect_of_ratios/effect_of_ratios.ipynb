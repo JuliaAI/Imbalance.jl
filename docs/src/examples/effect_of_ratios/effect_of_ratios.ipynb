{
 "cells": [
  {
   "cell_type": "markdown",
   "id": "28b6f550",
   "metadata": {},
   "source": [
    "# Imports"
   ]
  },
  {
   "cell_type": "code",
   "execution_count": 1,
   "id": "99ff0571",
   "metadata": {
    "attributes": {
     "classes": [
      "julia"
     ],
     "id": ""
    }
   },
   "outputs": [],
   "source": [
    "using Random\n",
    "using CSV\n",
    "using DataFrames\n",
    "using MLJ\n",
    "using ScientificTypes\n",
    "using Imbalance\n",
    "using Plots"
   ]
  },
  {
   "cell_type": "markdown",
   "id": "6f3c809b",
   "metadata": {},
   "source": [
    "## Loading Data\n",
    "\n",
    "Let's load the Iris dataset, the objective of this dataset is to predict the type of flower as one of \"virginica\", \"versicolor\" and \"setosa\" using its sepal and petal length and width.\n",
    "\n",
    "We don't need to so from a CSV file this time because `MLJ` has a macro for loading it already! The only difference is that we will need to explictly convert it to a dataframe as `MLJ` loads it as a named tuple of vectors."
   ]
  },
  {
   "cell_type": "code",
   "execution_count": 2,
   "id": "66b28462",
   "metadata": {
    "attributes": {
     "classes": [
      "julia"
     ],
     "id": ""
    }
   },
   "outputs": [
    {
     "name": "stdout",
     "output_type": "stream",
     "text": [
      "┌──────────────┬─────────────┬──────────────┬─────────────┐\n",
      "│\u001b[1m sepal_length \u001b[0m│\u001b[1m sepal_width \u001b[0m│\u001b[1m petal_length \u001b[0m│\u001b[1m petal_width \u001b[0m│\n",
      "│\u001b[90m Float64      \u001b[0m│\u001b[90m Float64     \u001b[0m│\u001b[90m Float64      \u001b[0m│\u001b[90m Float64     \u001b[0m│\n",
      "│\u001b[90m Continuous   \u001b[0m│\u001b[90m Continuous  \u001b[0m│\u001b[90m Continuous   \u001b[0m│\u001b[90m Continuous  \u001b[0m│\n",
      "├──────────────┼─────────────┼──────────────┼─────────────┤\n",
      "│ 5.1          │ 3.5         │ 1.4          │ 0.2         │\n",
      "│ 4.9          │ 3.0         │ 1.4          │ 0.2         │\n",
      "│ 4.7          │ 3.2         │ 1.3          │ 0.2         │\n",
      "│ 4.6          │ 3.1         │ 1.5          │ 0.2         │\n",
      "│ 5.0          │ 3.6         │ 1.4          │ 0.2         │\n",
      "└──────────────┴─────────────┴──────────────┴─────────────┘\n"
     ]
    }
   ],
   "source": [
    "X, y = @load_iris\n",
    "X = DataFrame(X)\n",
    "first(X, 5) |> pretty"
   ]
  },
  {
   "cell_type": "markdown",
   "id": "a9ebcde1",
   "metadata": {},
   "source": [
    "Our purpose for this tutorial is primarily visuallization. Thus, let's select two of the continuous features only to work with. It's known that the sepal length and width play a much bigger role in classifying the type of flower so let's keep those only."
   ]
  },
  {
   "cell_type": "code",
   "execution_count": 3,
   "id": "e6020fd4",
   "metadata": {
    "attributes": {
     "classes": [
      "julia"
     ],
     "id": ""
    }
   },
   "outputs": [
    {
     "name": "stdout",
     "output_type": "stream",
     "text": [
      "┌─────────────┬──────────────┐\n",
      "│\u001b[1m petal_width \u001b[0m│\u001b[1m petal_length \u001b[0m│\n",
      "│\u001b[90m Float64     \u001b[0m│\u001b[90m Float64      \u001b[0m│\n",
      "│\u001b[90m Continuous  \u001b[0m│\u001b[90m Continuous   \u001b[0m│\n",
      "├─────────────┼──────────────┤\n",
      "│ 0.2         │ 1.4          │\n",
      "│ 0.2         │ 1.4          │\n",
      "│ 0.2         │ 1.3          │\n",
      "│ 0.2         │ 1.5          │\n",
      "│ 0.2         │ 1.4          │\n",
      "└─────────────┴──────────────┘\n"
     ]
    }
   ],
   "source": [
    "X = select(X, :petal_width, :petal_length)\n",
    "first(X, 5) |> pretty"
   ]
  },
  {
   "cell_type": "markdown",
   "id": "9cc226bd",
   "metadata": {},
   "source": [
    "## Coercing Data"
   ]
  },
  {
   "cell_type": "code",
   "execution_count": 4,
   "id": "eb6deea3",
   "metadata": {
    "attributes": {
     "classes": [
      "julia"
     ],
     "id": ""
    }
   },
   "outputs": [
    {
     "data": {
      "text/plain": [
       "┌──────────────┬────────────┬─────────┐\n",
       "│\u001b[22m names        \u001b[0m│\u001b[22m scitypes   \u001b[0m│\u001b[22m types   \u001b[0m│\n",
       "├──────────────┼────────────┼─────────┤\n",
       "│ petal_width  │ Continuous │ Float64 │\n",
       "│ petal_length │ Continuous │ Float64 │\n",
       "└──────────────┴────────────┴─────────┘\n"
      ]
     },
     "metadata": {},
     "output_type": "display_data"
    }
   ],
   "source": [
    "ScientificTypes.schema(X)"
   ]
  },
  {
   "cell_type": "markdown",
   "id": "74468b98",
   "metadata": {},
   "source": [
    "Things look good, no coercion is needed.\n",
    "\n",
    "\n",
    "## Oversampling\n",
    "\n",
    "Iris, by default has no imbalance problem"
   ]
  },
  {
   "cell_type": "code",
   "execution_count": 5,
   "id": "20df5fca",
   "metadata": {
    "attributes": {
     "classes": [
      "julia"
     ],
     "id": ""
    }
   },
   "outputs": [
    {
     "name": "stdout",
     "output_type": "stream",
     "text": [
      "virginica:  ▇▇▇▇▇▇▇▇▇▇▇▇▇▇▇▇▇▇▇▇▇▇▇▇▇▇▇▇▇▇▇▇▇▇▇▇▇▇▇▇▇▇▇▇▇▇▇▇▇▇ 50 (100.0%) \n",
      "setosa:     ▇▇▇▇▇▇▇▇▇▇▇▇▇▇▇▇▇▇▇▇▇▇▇▇▇▇▇▇▇▇▇▇▇▇▇▇▇▇▇▇▇▇▇▇▇▇▇▇▇▇ 50 (100.0%) \n",
      "versicolor: ▇▇▇▇▇▇▇▇▇▇▇▇▇▇▇▇▇▇▇▇▇▇▇▇▇▇▇▇▇▇▇▇▇▇▇▇▇▇▇▇▇▇▇▇▇▇▇▇▇▇ 50 (100.0%) \n"
     ]
    }
   ],
   "source": [
    "checkbalance(y)"
   ]
  },
  {
   "cell_type": "markdown",
   "id": "a4e9540f",
   "metadata": {},
   "source": [
    "To simulate that there is a balance problem, we will consider a random sample of 100 observations. A random sample does not guarantee perserving the proportion of classes; in this, we actually set the seed to get a very unlikely random sample that suffers from moderate imbalance."
   ]
  },
  {
   "cell_type": "code",
   "execution_count": 6,
   "id": "ad406071",
   "metadata": {
    "attributes": {
     "classes": [
      "julia"
     ],
     "id": ""
    }
   },
   "outputs": [
    {
     "name": "stdout",
     "output_type": "stream",
     "text": [
      "versicolor: ▇▇▇▇▇▇▇▇▇▇▇ 12 (22.6%) \n",
      "setosa:     ▇▇▇▇▇▇▇▇▇▇▇▇▇▇▇▇▇▇▇▇▇▇▇▇▇▇▇▇▇▇▇▇▇ 35 (66.0%) \n",
      "virginica:  ▇▇▇▇▇▇▇▇▇▇▇▇▇▇▇▇▇▇▇▇▇▇▇▇▇▇▇▇▇▇▇▇▇▇▇▇▇▇▇▇▇▇▇▇▇▇▇▇▇▇ 53 (100.0%) \n"
     ]
    }
   ],
   "source": [
    "Random.seed!(803429)\n",
    "subset_indices = rand(1:size(X, 1), 100)\n",
    "X, y = X[subset_indices, :], y[subset_indices]\n",
    "checkbalance(y)         # comes from Imbalance"
   ]
  },
  {
   "cell_type": "markdown",
   "id": "54fd8ce0",
   "metadata": {},
   "source": [
    "We will treat this as our training set going forward so we don't need to partition. Now let's oversample it with SMOTE."
   ]
  },
  {
   "cell_type": "code",
   "execution_count": 7,
   "id": "f249c98c",
   "metadata": {
    "attributes": {
     "classes": [
      "julia"
     ],
     "id": ""
    }
   },
   "outputs": [
    {
     "name": "stdout",
     "output_type": "stream",
     "text": [
      "setosa:     ▇▇▇▇▇▇▇▇▇▇▇▇▇▇▇▇▇▇▇▇▇▇▇▇▇▇▇▇▇▇▇▇▇ 35 (66.0%) \n",
      "versicolor: ▇▇▇▇▇▇▇▇▇▇▇▇▇▇▇▇▇▇▇▇▇▇▇▇▇▇▇▇▇▇▇▇▇▇▇ 37 (69.8%) \n",
      "virginica:  ▇▇▇▇▇▇▇▇▇▇▇▇▇▇▇▇▇▇▇▇▇▇▇▇▇▇▇▇▇▇▇▇▇▇▇▇▇▇▇▇▇▇▇▇▇▇▇▇▇▇ 53 (100.0%) \n"
     ]
    }
   ],
   "source": [
    "Xover, yover = smote(X, y; k=5, ratios=Dict(\"versicolor\" => 0.7), rng=42)\n",
    "checkbalance(yover)"
   ]
  },
  {
   "cell_type": "markdown",
   "id": "bc482dbe",
   "metadata": {},
   "source": [
    "## Training the Model"
   ]
  },
  {
   "cell_type": "code",
   "execution_count": 8,
   "id": "82f21238",
   "metadata": {
    "attributes": {
     "classes": [
      "julia"
     ],
     "id": ""
    }
   },
   "outputs": [],
   "source": [
    "models(matching(Xover, yover))"
   ]
  },
  {
   "cell_type": "markdown",
   "id": "a1aec2e7",
   "metadata": {},
   "source": [
    "Let's go for an SVM"
   ]
  },
  {
   "cell_type": "code",
   "execution_count": null,
   "id": "75716f0e",
   "metadata": {
    "attributes": {
     "classes": [
      "julia"
     ],
     "id": ""
    }
   },
   "outputs": [],
   "source": [
    "import Pkg;\n",
    "Pkg.add(\"MLJLIBSVMInterface\");"
   ]
  },
  {
   "cell_type": "markdown",
   "id": "149d0561",
   "metadata": {},
   "source": [
    "### Before Oversampling"
   ]
  },
  {
   "cell_type": "code",
   "execution_count": null,
   "id": "e7b278e2",
   "metadata": {
    "attributes": {
     "classes": [
      "julia"
     ],
     "id": ""
    }
   },
   "outputs": [],
   "source": [
    "# 1. Load the model\n",
    "SVC = @load SVC pkg = LIBSVM\n",
    "\n",
    "# 2. Instantiate it (γ=0.01 is intentional)\n",
    "model = SVC(gamma=0.01)\n",
    "\n",
    "# 3. Wrap it with the data in a machine\n",
    "mach = machine(model, X, y)\n",
    "\n",
    "# 4. fit the machine learning model\n",
    "fit!(mach)"
   ]
  },
  {
   "cell_type": "markdown",
   "id": "7c75f33b",
   "metadata": {},
   "source": [
    "### After Oversampling"
   ]
  },
  {
   "cell_type": "code",
   "execution_count": null,
   "id": "95fc0bc0",
   "metadata": {
    "attributes": {
     "classes": [
      "julia"
     ],
     "id": ""
    }
   },
   "outputs": [],
   "source": [
    "# 3. Wrap it with the data in a machine\n",
    "mach_over = machine(model, Xover, yover)\n",
    "\n",
    "# 4. fit the machine learning model\n",
    "fit!(mach_over)"
   ]
  },
  {
   "cell_type": "markdown",
   "id": "da93fb1f",
   "metadata": {},
   "source": [
    "## Plot Decision Boundaries\n",
    "\n",
    "Construct ranges for each feature and consecutively a grid"
   ]
  },
  {
   "cell_type": "code",
   "execution_count": null,
   "id": "1ff31519",
   "metadata": {
    "attributes": {
     "classes": [
      "julia"
     ],
     "id": ""
    }
   },
   "outputs": [],
   "source": [
    "petal_width_range =\n",
    "\trange(minimum(X.petal_width) - 1, maximum(X.petal_width) + 1, length = 200)\n",
    "petal_length_range =\n",
    "\trange(minimum(X.petal_length) - 1, maximum(X.petal_length) + 1, length = 200)\n",
    "grid_points = [(pw, pl) for pw in petal_width_range, pl in petal_length_range]"
   ]
  },
  {
   "cell_type": "markdown",
   "id": "bab47cf6",
   "metadata": {},
   "source": [
    "Evaluate the grid with the machine before and after oversampling"
   ]
  },
  {
   "cell_type": "code",
   "execution_count": null,
   "id": "3d0f5e00",
   "metadata": {
    "attributes": {
     "classes": [
      "julia"
     ],
     "id": ""
    }
   },
   "outputs": [],
   "source": [
    "grid_predictions =[\n",
    "    predict(mach, Tables.table(reshape(collect(point), 1, 2)))[1] for\n",
    " \tpoint in grid_points\n",
    " ]\n",
    "grid_predictions_over = [\n",
    "    predict(mach_over, Tables.table(reshape(collect(point), 1, 2)))[1] for\n",
    "    point in grid_points\n",
    "]"
   ]
  },
  {
   "cell_type": "markdown",
   "id": "e5ce7419",
   "metadata": {},
   "source": [
    "Make two contour plots using the grid predictions before and after oversampling"
   ]
  },
  {
   "cell_type": "code",
   "execution_count": null,
   "id": "4d2ab881",
   "metadata": {
    "attributes": {
     "classes": [
      "julia"
     ],
     "id": ""
    }
   },
   "outputs": [],
   "source": [
    "%%capture\n",
    "p = contourf(petal_length_range, petal_width_range, grid_predictions,\n",
    "    levels=3, color=:Set3_3, colorbar=false)\n",
    "p_over = contourf(petal_length_range, petal_width_range, grid_predictions_over,\n",
    "    levels=3, color=:Set3_3, colorbar=false)"
   ]
  },
  {
   "cell_type": "markdown",
   "id": "8426c65f",
   "metadata": {},
   "source": [
    "Scatter plot the data before and after oversampling"
   ]
  },
  {
   "cell_type": "code",
   "execution_count": null,
   "id": "6dda400c",
   "metadata": {
    "attributes": {
     "classes": [
      "julia"
     ],
     "id": ""
    }
   },
   "outputs": [],
   "source": [
    "labels = unique(y)\n",
    "colors = Dict(\"setosa\"=> \"green\", \"versicolor\" => \"yellow\",\n",
    "              \"virginica\"=> \"purple\")\n",
    "\n",
    "for label in labels\n",
    "scatter!(p, X.petal_length[y. == label], X.petal_width[y. == label],\n",
    "         color=colors[label], label=label,\n",
    "         title=\"Before Oversampling\")\n",
    "scatter!(p_over, Xover.petal_length[yover. == label], Xover.petal_width[yover. == label],\n",
    "         color=colors[label], label=label,\n",
    "         title=\"After Oversampling\")\n",
    "end\n",
    "\n",
    "plot_res = plot(p, p_over, layout=(1, 2), xlabel=\"petal length\",\n",
    "                ylabel=\"petal width\", size=(900, 300))\n",
    "savefig(plot_res, \"./before-after-smote.png\")\n"
   ]
  },
  {
   "cell_type": "markdown",
   "id": "dcb44327",
   "metadata": {},
   "source": [
    "```@raw html\n",
    "<img src=\"./before-after-SMOTE.png\"/>\n",
    "```\n",
    "\n",
    "\n",
    "Notice how the minority class was completely ignore prior to oversampling. Not all models and hyperparameter settings are this delicate to class imbalance.\n",
    "\n",
    "\n",
    "## Effect of Ratios Hyperparameter\n",
    "\n",
    "Now let's study the effect of the ratios hyperparameter. We will do this through an animated plot."
   ]
  },
  {
   "cell_type": "code",
   "execution_count": null,
   "id": "77476063",
   "metadata": {
    "attributes": {
     "classes": [
      "julia"
     ],
     "id": ""
    }
   },
   "outputs": [],
   "source": [
    "anim = @animate for versicolor_ratio ∈ 0.3:0.01:2\n",
    "\t# oversample\n",
    "\tXover, yover =\n",
    "\t\tsmote(X, y; k = 5, ratios = Dict(\"versicolor\" => versicolor_ratio), rng = 42)\n",
    "\n",
    "\t# fit machine\n",
    "\tmodel = SVC(gamma = 0.01)\n",
    "\tmach_over = machine(model, Xover, yover)\n",
    "\tfit!(mach_over, verbosity = 0)\n",
    "\n",
    "\t# grid predictions\n",
    "\tgrid_predictions_over = [\n",
    "\t\tpredict(mach_over, Tables.table(reshape(collect(point), 1, 2)))[1] for\n",
    "\t\tpoint in grid_points\n",
    "\t]\n",
    "\n",
    "\t# plot\n",
    "\tp_over = contourf(petal_length_range, petal_width_range, grid_predictions_over,\n",
    "\t\tlevels = 3, color = :Set3_3, colorbar = false)\n",
    "\tfor label in labels\n",
    "\t\tscatter!(p_over, Xover.petal_length[yover.==label],\n",
    "\t\t\tXover.petal_width[yover.==label],\n",
    "\t\t\tcolor = colors[label], label = label,\n",
    "\t\t\ttitle = \"Oversampling versicolor with ratio $versicolor_ratio\")\n",
    "\tend\n",
    "\tplot!(dpi = 150)\n",
    "end"
   ]
  },
  {
   "cell_type": "code",
   "execution_count": null,
   "id": "87c2a9fc",
   "metadata": {
    "attributes": {
     "classes": [
      "julia"
     ],
     "id": ""
    }
   },
   "outputs": [],
   "source": [
    "gif(anim, \"./rose-animation.gif\", fps=6)\n",
    "println()"
   ]
  },
  {
   "cell_type": "markdown",
   "id": "b7b298e6",
   "metadata": {},
   "source": [
    "```@raw html\n",
    "<img src=\"./smote-animation.gif\"/>\n",
    "```\n",
    "\n",
    "Notice how setting ratios greedily can lead to overfitting."
   ]
  },
  {
   "cell_type": "code",
   "execution_count": 2,
   "id": "e30c8720",
   "metadata": {},
   "outputs": [
    {
     "name": "stderr",
     "output_type": "stream",
     "text": [
      "[NbConvertApp] Converting notebook effect_of_ratios.ipynb to markdown\n"
     ]
    },
    {
     "name": "stdout",
     "output_type": "stream",
     "text": [
      "Conversion Complete!\n"
     ]
    },
    {
     "name": "stderr",
     "output_type": "stream",
     "text": [
      "[NbConvertApp] Writing 7849 bytes to effect_of_ratios.md\n"
     ]
    }
   ],
   "source": [
    "import sys; sys.path.append(\"..\")\n",
    "from convert import convert_to_md\n",
    "convert_to_md('effect_of_ratios')"
   ]
  }
 ],
 "metadata": {
  "kernelspec": {
   "display_name": "Julia 1.8.5",
   "language": "julia",
   "name": "julia-1.8"
  },
  "language_info": {
   "file_extension": ".jl",
   "mimetype": "application/julia",
   "name": "julia",
   "version": "1.8.5"
  }
 },
 "nbformat": 4,
 "nbformat_minor": 5
}
