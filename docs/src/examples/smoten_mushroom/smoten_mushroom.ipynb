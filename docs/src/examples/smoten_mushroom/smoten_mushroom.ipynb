{
 "cells": [
  {
   "cell_type": "code",
   "execution_count": 1,
   "id": "42f0ab84",
   "metadata": {
    "attributes": {
     "classes": [
      "julia"
     ],
     "id": ""
    }
   },
   "outputs": [],
   "source": [
    "using Random\n",
    "using CSV\n",
    "using DataFrames\n",
    "using MLJ\n",
    "using Imbalance\n",
    "using ScientificTypes\n",
    "using Plots"
   ]
  },
  {
   "cell_type": "markdown",
   "id": "92a7952e",
   "metadata": {},
   "source": [
    "## Loading Data\n",
    "In this example, we will consider the [Mushroom dataset](https://www.kaggle.com/datasets/uciml/mushroom-classification) found on Kaggle for the objective of predicting mushroom odour given various features about the mushroom.\n",
    "\n",
    "`CSV` gives us the ability to easily read the dataset after it's downloaded as follows"
   ]
  },
  {
   "cell_type": "code",
   "execution_count": 2,
   "id": "d5113b2f",
   "metadata": {
    "attributes": {
     "classes": [
      "julia"
     ],
     "id": ""
    }
   },
   "outputs": [
    {
     "name": "stdout",
     "output_type": "stream",
     "text": [
      "┌─────────┬───────────┬─────────────┬───────────┬─────────┬─────────┬─────────────────┬──────────────┬───────────┬────────────┬─────────────┬────────────┬──────────────────────────┬──────────────────────────┬────────────────────────┬────────────────────────┬───────────┬────────────┬─────────────┬───────────┬───────────────────┬────────────┬─────────┐\n",
      "│\u001b[1m class   \u001b[0m│\u001b[1m cap-shape \u001b[0m│\u001b[1m cap-surface \u001b[0m│\u001b[1m cap-color \u001b[0m│\u001b[1m bruises \u001b[0m│\u001b[1m odor    \u001b[0m│\u001b[1m gill-attachment \u001b[0m│\u001b[1m gill-spacing \u001b[0m│\u001b[1m gill-size \u001b[0m│\u001b[1m gill-color \u001b[0m│\u001b[1m stalk-shape \u001b[0m│\u001b[1m stalk-root \u001b[0m│\u001b[1m stalk-surface-above-ring \u001b[0m│\u001b[1m stalk-surface-below-ring \u001b[0m│\u001b[1m stalk-color-above-ring \u001b[0m│\u001b[1m stalk-color-below-ring \u001b[0m│\u001b[1m veil-type \u001b[0m│\u001b[1m veil-color \u001b[0m│\u001b[1m ring-number \u001b[0m│\u001b[1m ring-type \u001b[0m│\u001b[1m spore-print-color \u001b[0m│\u001b[1m population \u001b[0m│\u001b[1m habitat \u001b[0m│\n",
      "│\u001b[90m String1 \u001b[0m│\u001b[90m String1   \u001b[0m│\u001b[90m String1     \u001b[0m│\u001b[90m String1   \u001b[0m│\u001b[90m String1 \u001b[0m│\u001b[90m String1 \u001b[0m│\u001b[90m String1         \u001b[0m│\u001b[90m String1      \u001b[0m│\u001b[90m String1   \u001b[0m│\u001b[90m String1    \u001b[0m│\u001b[90m String1     \u001b[0m│\u001b[90m String1    \u001b[0m│\u001b[90m String1                  \u001b[0m│\u001b[90m String1                  \u001b[0m│\u001b[90m String1                \u001b[0m│\u001b[90m String1                \u001b[0m│\u001b[90m String1   \u001b[0m│\u001b[90m String1    \u001b[0m│\u001b[90m String1     \u001b[0m│\u001b[90m String1   \u001b[0m│\u001b[90m String1           \u001b[0m│\u001b[90m String1    \u001b[0m│\u001b[90m String1 \u001b[0m│\n",
      "│\u001b[90m Textual \u001b[0m│\u001b[90m Textual   \u001b[0m│\u001b[90m Textual     \u001b[0m│\u001b[90m Textual   \u001b[0m│\u001b[90m Textual \u001b[0m│\u001b[90m Textual \u001b[0m│\u001b[90m Textual         \u001b[0m│\u001b[90m Textual      \u001b[0m│\u001b[90m Textual   \u001b[0m│\u001b[90m Textual    \u001b[0m│\u001b[90m Textual     \u001b[0m│\u001b[90m Textual    \u001b[0m│\u001b[90m Textual                  \u001b[0m│\u001b[90m Textual                  \u001b[0m│\u001b[90m Textual                \u001b[0m│\u001b[90m Textual                \u001b[0m│\u001b[90m Textual   \u001b[0m│\u001b[90m Textual    \u001b[0m│\u001b[90m Textual     \u001b[0m│\u001b[90m Textual   \u001b[0m│\u001b[90m Textual           \u001b[0m│\u001b[90m Textual    \u001b[0m│\u001b[90m Textual \u001b[0m│\n",
      "├─────────┼───────────┼─────────────┼───────────┼─────────┼─────────┼─────────────────┼──────────────┼───────────┼────────────┼─────────────┼────────────┼──────────────────────────┼──────────────────────────┼────────────────────────┼────────────────────────┼───────────┼────────────┼─────────────┼───────────┼───────────────────┼────────────┼─────────┤\n",
      "│ p       │ x         │ s           │ n         │ t       │ p       │ f               │ c            │ n         │ k          │ e           │ e          │ s                        │ s                        │ w                      │ w                      │ p         │ w          │ o           │ p         │ k                 │ s          │ u       │\n",
      "│ e       │ x         │ s           │ y         │ t       │ a       │ f               │ c            │ b         │ k          │ e           │ c          │ s                        │ s                        │ w                      │ w                      │ p         │ w          │ o           │ p         │ n                 │ n          │ g       │\n",
      "│ e       │ b         │ s           │ w         │ t       │ l       │ f               │ c            │ b         │ n          │ e           │ c          │ s                        │ s                        │ w                      │ w                      │ p         │ w          │ o           │ p         │ n                 │ n          │ m       │\n",
      "│ p       │ x         │ y           │ w         │ t       │ p       │ f               │ c            │ n         │ n          │ e           │ e          │ s                        │ s                        │ w                      │ w                      │ p         │ w          │ o           │ p         │ k                 │ s          │ u       │\n",
      "│ e       │ x         │ s           │ g         │ f       │ n       │ f               │ w            │ b         │ k          │ t           │ e          │ s                        │ s                        │ w                      │ w                      │ p         │ w          │ o           │ e         │ n                 │ a          │ g       │\n",
      "└─────────┴───────────┴─────────────┴───────────┴─────────┴─────────┴─────────────────┴──────────────┴───────────┴────────────┴─────────────┴────────────┴──────────────────────────┴──────────────────────────┴────────────────────────┴────────────────────────┴───────────┴────────────┴─────────────┴───────────┴───────────────────┴────────────┴─────────┘\n"
     ]
    }
   ],
   "source": [
    "df = CSV.read(\"../datasets/mushrooms.csv\", DataFrame)\n",
    "\n",
    "# Display the first 5 rows with DataFrames\n",
    "first(df, 5) |> pretty"
   ]
  },
  {
   "cell_type": "markdown",
   "id": "e32b4e7a",
   "metadata": {},
   "source": [
    "## Visualize the Data\n",
    "Since this dataset is composed only of categorical features, a bar chart for each column is a good way to visualize the data."
   ]
  },
  {
   "cell_type": "code",
   "execution_count": null,
   "id": "a7e70ef0",
   "metadata": {
    "attributes": {
     "classes": [
      "julia"
     ],
     "id": ""
    }
   },
   "outputs": [],
   "source": [
    "# Create a bar chart for each column\n",
    "bar_charts = []\n",
    "for col in names(df)\n",
    "    counts = countmap(df[!, col])\n",
    "    k, v = collect(keys(counts)), collect(values(counts))\n",
    "    if length(k) < 20\n",
    "        push!(bar_charts, bar(k, v, legend=false, title=col))\n",
    "    end\n",
    "end\n",
    "\n",
    "# Combine bar charts into a grid layout with specified plot size\n",
    "plot_res = plot(bar_charts..., layout=(5, 5), \n",
    "                size=(1300, 1200), \n",
    "                plot_title=\"Value Frequencies for each Categorical Variable\")\n",
    "savefig(plot_res, \"./mushroom-bar-charts.png\")"
   ]
  },
  {
   "cell_type": "markdown",
   "id": "66f43217",
   "metadata": {},
   "source": [
    "```@raw html\n",
    "<img src=\"./mushroom-bar-charts.png\" />\n",
    "```\n",
    "\n",
    "We will take the mushroom odour as our target and all the rest as features. \n",
    "\n",
    "## Coercing Data\n",
    "Typical models from `MLJ` assume that elements in each column of a table have some `scientific type` as defined by the [ScientificTypes.jl](https://juliaai.github.io/ScientificTypes.jl/dev/) package. It's often necessary to coerce the types inferred by default to the appropriate type."
   ]
  },
  {
   "cell_type": "code",
   "execution_count": 4,
   "id": "bbabcca7",
   "metadata": {
    "attributes": {
     "classes": [
      "julia"
     ],
     "id": ""
    }
   },
   "outputs": [
    {
     "data": {
      "text/plain": [
       "┌──────────────────────────┬──────────┬─────────┐\n",
       "│\u001b[22m names                    \u001b[0m│\u001b[22m scitypes \u001b[0m│\u001b[22m types   \u001b[0m│\n",
       "├──────────────────────────┼──────────┼─────────┤\n",
       "│ class                    │ Textual  │ String1 │\n",
       "│ cap-shape                │ Textual  │ String1 │\n",
       "│ cap-surface              │ Textual  │ String1 │\n",
       "│ cap-color                │ Textual  │ String1 │\n",
       "│ bruises                  │ Textual  │ String1 │\n",
       "│ odor                     │ Textual  │ String1 │\n",
       "│ gill-attachment          │ Textual  │ String1 │\n",
       "│ gill-spacing             │ Textual  │ String1 │\n",
       "│ gill-size                │ Textual  │ String1 │\n",
       "│ gill-color               │ Textual  │ String1 │\n",
       "│ stalk-shape              │ Textual  │ String1 │\n",
       "│ stalk-root               │ Textual  │ String1 │\n",
       "│ stalk-surface-above-ring │ Textual  │ String1 │\n",
       "│ stalk-surface-below-ring │ Textual  │ String1 │\n",
       "│ stalk-color-above-ring   │ Textual  │ String1 │\n",
       "│ stalk-color-below-ring   │ Textual  │ String1 │\n",
       "│            ⋮             │    ⋮     │    ⋮    │\n",
       "└──────────────────────────┴──────────┴─────────┘\n",
       "\u001b[36m                                   7 rows omitted\u001b[0m\n"
      ]
     },
     "metadata": {},
     "output_type": "display_data"
    }
   ],
   "source": [
    "ScientificTypes.schema(df)"
   ]
  },
  {
   "cell_type": "markdown",
   "id": "8d0603ea",
   "metadata": {},
   "source": [
    "For instance, here we need to coerce all the data to `Multiclass` as they are all nominal variables. `Textual` would be the right type for natural language processing models. Instead of typing in each column manually, `autotype` lets us perform mass conversion using pre-defined rules."
   ]
  },
  {
   "cell_type": "code",
   "execution_count": 5,
   "id": "5a694ab8",
   "metadata": {
    "attributes": {
     "classes": [
      "julia"
     ],
     "id": ""
    }
   },
   "outputs": [
    {
     "data": {
      "text/plain": [
       "┌──────────────────────────┬────────────────┬───────────────────────────────────\n",
       "│\u001b[22m names                    \u001b[0m│\u001b[22m scitypes       \u001b[0m│\u001b[22m types                           \u001b[0m ⋯\n",
       "├──────────────────────────┼────────────────┼───────────────────────────────────\n",
       "│ class                    │ Multiclass{2}  │ CategoricalValue{String1, UInt32 ⋯\n",
       "│ cap-shape                │ Multiclass{6}  │ CategoricalValue{String1, UInt32 ⋯\n",
       "│ cap-surface              │ Multiclass{4}  │ CategoricalValue{String1, UInt32 ⋯\n",
       "│ cap-color                │ Multiclass{10} │ CategoricalValue{String1, UInt32 ⋯\n",
       "│ bruises                  │ Multiclass{2}  │ CategoricalValue{String1, UInt32 ⋯\n",
       "│ odor                     │ Multiclass{9}  │ CategoricalValue{String1, UInt32 ⋯\n",
       "│ gill-attachment          │ Multiclass{2}  │ CategoricalValue{String1, UInt32 ⋯\n",
       "│ gill-spacing             │ Multiclass{2}  │ CategoricalValue{String1, UInt32 ⋯\n",
       "│ gill-size                │ Multiclass{2}  │ CategoricalValue{String1, UInt32 ⋯\n",
       "│ gill-color               │ Multiclass{12} │ CategoricalValue{String1, UInt32 ⋯\n",
       "│ stalk-shape              │ Multiclass{2}  │ CategoricalValue{String1, UInt32 ⋯\n",
       "│ stalk-root               │ Multiclass{5}  │ CategoricalValue{String1, UInt32 ⋯\n",
       "│ stalk-surface-above-ring │ Multiclass{4}  │ CategoricalValue{String1, UInt32 ⋯\n",
       "│ stalk-surface-below-ring │ Multiclass{4}  │ CategoricalValue{String1, UInt32 ⋯\n",
       "│ stalk-color-above-ring   │ Multiclass{9}  │ CategoricalValue{String1, UInt32 ⋯\n",
       "│ stalk-color-below-ring   │ Multiclass{9}  │ CategoricalValue{String1, UInt32 ⋯\n",
       "│            ⋮             │       ⋮        │                 ⋮                ⋱\n",
       "└──────────────────────────┴────────────────┴───────────────────────────────────\n",
       "\u001b[36m                                                     1 column and 7 rows omitted\u001b[0m\n"
      ]
     },
     "metadata": {},
     "output_type": "display_data"
    }
   ],
   "source": [
    "df = coerce(df, autotype(df, :few_to_finite))\n",
    "ScientificTypes.schema(df)"
   ]
  },
  {
   "cell_type": "markdown",
   "id": "4222f3e8",
   "metadata": {},
   "source": [
    "## Unpacking and Splitting Data\n",
    "\n",
    "Both `MLJ` and the pure functional interface of `Imbalance` assume that the observations table `X` and target vector `y` are separate. We can accomplish that by using `unpack` from `MLJ`"
   ]
  },
  {
   "cell_type": "code",
   "execution_count": 6,
   "id": "8e2cccaa",
   "metadata": {
    "attributes": {
     "classes": [
      "julia"
     ],
     "id": ""
    }
   },
   "outputs": [
    {
     "name": "stdout",
     "output_type": "stream",
     "text": [
      "┌───────────────────────────────────┬───────────────────────────────────┬───────────────────────────────────┬───────────────────────────────────┬───────────────────────────────────┬───────────────────────────────────┬───────────────────────────────────┬───────────────────────────────────┬───────────────────────────────────┬───────────────────────────────────┬───────────────────────────────────┬───────────────────────────────────┬───────────────────────────────────┬───────────────────────────────────┬───────────────────────────────────┬───────────────────────────────────┬───────────────────────────────────┬───────────────────────────────────┬───────────────────────────────────┬───────────────────────────────────┬───────────────────────────────────┬───────────────────────────────────┐\n",
      "│\u001b[1m class                             \u001b[0m│\u001b[1m cap-shape                         \u001b[0m│\u001b[1m cap-surface                       \u001b[0m│\u001b[1m cap-color                         \u001b[0m│\u001b[1m bruises                           \u001b[0m│\u001b[1m gill-attachment                   \u001b[0m│\u001b[1m gill-spacing                      \u001b[0m│\u001b[1m gill-size                         \u001b[0m│\u001b[1m gill-color                        \u001b[0m│\u001b[1m stalk-shape                       \u001b[0m│\u001b[1m stalk-root                        \u001b[0m│\u001b[1m stalk-surface-above-ring          \u001b[0m│\u001b[1m stalk-surface-below-ring          \u001b[0m│\u001b[1m stalk-color-above-ring            \u001b[0m│\u001b[1m stalk-color-below-ring            \u001b[0m│\u001b[1m veil-type                         \u001b[0m│\u001b[1m veil-color                        \u001b[0m│\u001b[1m ring-number                       \u001b[0m│\u001b[1m ring-type                         \u001b[0m│\u001b[1m spore-print-color                 \u001b[0m│\u001b[1m population                        \u001b[0m│\u001b[1m habitat                           \u001b[0m│\n",
      "│\u001b[90m CategoricalValue{String1, UInt32} \u001b[0m│\u001b[90m CategoricalValue{String1, UInt32} \u001b[0m│\u001b[90m CategoricalValue{String1, UInt32} \u001b[0m│\u001b[90m CategoricalValue{String1, UInt32} \u001b[0m│\u001b[90m CategoricalValue{String1, UInt32} \u001b[0m│\u001b[90m CategoricalValue{String1, UInt32} \u001b[0m│\u001b[90m CategoricalValue{String1, UInt32} \u001b[0m│\u001b[90m CategoricalValue{String1, UInt32} \u001b[0m│\u001b[90m CategoricalValue{String1, UInt32} \u001b[0m│\u001b[90m CategoricalValue{String1, UInt32} \u001b[0m│\u001b[90m CategoricalValue{String1, UInt32} \u001b[0m│\u001b[90m CategoricalValue{String1, UInt32} \u001b[0m│\u001b[90m CategoricalValue{String1, UInt32} \u001b[0m│\u001b[90m CategoricalValue{String1, UInt32} \u001b[0m│\u001b[90m CategoricalValue{String1, UInt32} \u001b[0m│\u001b[90m CategoricalValue{String1, UInt32} \u001b[0m│\u001b[90m CategoricalValue{String1, UInt32} \u001b[0m│\u001b[90m CategoricalValue{String1, UInt32} \u001b[0m│\u001b[90m CategoricalValue{String1, UInt32} \u001b[0m│\u001b[90m CategoricalValue{String1, UInt32} \u001b[0m│\u001b[90m CategoricalValue{String1, UInt32} \u001b[0m│\u001b[90m CategoricalValue{String1, UInt32} \u001b[0m│\n",
      "│\u001b[90m Multiclass{2}                     \u001b[0m│\u001b[90m Multiclass{6}                     \u001b[0m│\u001b[90m Multiclass{4}                     \u001b[0m│\u001b[90m Multiclass{10}                    \u001b[0m│\u001b[90m Multiclass{2}                     \u001b[0m│\u001b[90m Multiclass{2}                     \u001b[0m│\u001b[90m Multiclass{2}                     \u001b[0m│\u001b[90m Multiclass{2}                     \u001b[0m│\u001b[90m Multiclass{12}                    \u001b[0m│\u001b[90m Multiclass{2}                     \u001b[0m│\u001b[90m Multiclass{5}                     \u001b[0m│\u001b[90m Multiclass{4}                     \u001b[0m│\u001b[90m Multiclass{4}                     \u001b[0m│\u001b[90m Multiclass{9}                     \u001b[0m│\u001b[90m Multiclass{9}                     \u001b[0m│\u001b[90m Multiclass{1}                     \u001b[0m│\u001b[90m Multiclass{4}                     \u001b[0m│\u001b[90m Multiclass{3}                     \u001b[0m│\u001b[90m Multiclass{5}                     \u001b[0m│\u001b[90m Multiclass{9}                     \u001b[0m│\u001b[90m Multiclass{6}                     \u001b[0m│\u001b[90m Multiclass{7}                     \u001b[0m│\n",
      "├───────────────────────────────────┼───────────────────────────────────┼───────────────────────────────────┼───────────────────────────────────┼───────────────────────────────────┼───────────────────────────────────┼───────────────────────────────────┼───────────────────────────────────┼───────────────────────────────────┼───────────────────────────────────┼───────────────────────────────────┼───────────────────────────────────┼───────────────────────────────────┼───────────────────────────────────┼───────────────────────────────────┼───────────────────────────────────┼───────────────────────────────────┼───────────────────────────────────┼───────────────────────────────────┼───────────────────────────────────┼───────────────────────────────────┼───────────────────────────────────┤\n",
      "│ e                                 │ f                                 │ f                                 │ n                                 │ t                                 │ f                                 │ c                                 │ b                                 │ w                                 │ t                                 │ b                                 │ s                                 │ s                                 │ g                                 │ g                                 │ p                                 │ w                                 │ o                                 │ p                                 │ k                                 │ v                                 │ d                                 │\n",
      "│ e                                 │ f                                 │ f                                 │ n                                 │ t                                 │ f                                 │ c                                 │ b                                 │ w                                 │ t                                 │ b                                 │ s                                 │ s                                 │ w                                 │ p                                 │ p                                 │ w                                 │ o                                 │ p                                 │ n                                 │ y                                 │ d                                 │\n",
      "│ e                                 │ b                                 │ s                                 │ y                                 │ t                                 │ f                                 │ c                                 │ b                                 │ k                                 │ e                                 │ c                                 │ s                                 │ s                                 │ w                                 │ w                                 │ p                                 │ w                                 │ o                                 │ p                                 │ k                                 │ s                                 │ g                                 │\n",
      "│ p                                 │ f                                 │ y                                 │ e                                 │ f                                 │ f                                 │ c                                 │ b                                 │ w                                 │ e                                 │ c                                 │ k                                 │ y                                 │ c                                 │ c                                 │ p                                 │ w                                 │ n                                 │ n                                 │ w                                 │ c                                 │ d                                 │\n",
      "│ e                                 │ x                                 │ y                                 │ n                                 │ f                                 │ f                                 │ w                                 │ n                                 │ w                                 │ e                                 │ b                                 │ f                                 │ f                                 │ w                                 │ n                                 │ p                                 │ w                                 │ o                                 │ e                                 │ w                                 │ v                                 │ l                                 │\n",
      "└───────────────────────────────────┴───────────────────────────────────┴───────────────────────────────────┴───────────────────────────────────┴───────────────────────────────────┴───────────────────────────────────┴───────────────────────────────────┴───────────────────────────────────┴───────────────────────────────────┴───────────────────────────────────┴───────────────────────────────────┴───────────────────────────────────┴───────────────────────────────────┴───────────────────────────────────┴───────────────────────────────────┴───────────────────────────────────┴───────────────────────────────────┴───────────────────────────────────┴───────────────────────────────────┴───────────────────────────────────┴───────────────────────────────────┴───────────────────────────────────┘\n"
     ]
    }
   ],
   "source": [
    "y, X = unpack(df, ==(:odor); rng=123);\n",
    "first(X, 5) |> pretty"
   ]
  },
  {
   "cell_type": "markdown",
   "id": "71f96987",
   "metadata": {},
   "source": [
    "Splitting the data into train and test portions is also easy using `MLJ`'s `partition` function. `stratify=y` guarantees that the data is distributed in the same proportions as the original dataset in both splits which is more representative of the real world."
   ]
  },
  {
   "cell_type": "code",
   "execution_count": 7,
   "id": "5e1f3564",
   "metadata": {
    "attributes": {
     "classes": [
      "julia"
     ],
     "id": ""
    }
   },
   "outputs": [
    {
     "data": {
      "text/plain": [
       "(CategoricalArrays.CategoricalValue{String1, UInt32}[String1(\"s\"), String1(\"s\"), String1(\"n\"), String1(\"s\"), String1(\"s\"), String1(\"n\"), String1(\"s\"), String1(\"n\"), String1(\"n\"), String1(\"n\")  …  String1(\"f\"), String1(\"n\"), String1(\"n\"), String1(\"n\"), String1(\"f\"), String1(\"f\"), String1(\"n\"), String1(\"n\"), String1(\"n\"), String1(\"s\")], CategoricalArrays.CategoricalValue{String1, UInt32}[String1(\"f\"), String1(\"y\"), String1(\"a\"), String1(\"c\"), String1(\"f\"), String1(\"n\"), String1(\"f\"), String1(\"n\"), String1(\"n\"), String1(\"n\")  …  String1(\"f\"), String1(\"f\"), String1(\"n\"), String1(\"n\"), String1(\"f\"), String1(\"y\"), String1(\"f\"), String1(\"n\"), String1(\"n\"), String1(\"n\")])"
      ]
     },
     "metadata": {},
     "output_type": "display_data"
    }
   ],
   "source": [
    "train_inds, test_inds = partition(eachindex(y), 0.8, shuffle=true, stratify=y, rng=Random.Xoshiro(42))\n",
    "X_train, X_test = X[train_inds, :], X[test_inds, :]\n",
    "y_train, y_test = y[train_inds], y[test_inds]"
   ]
  },
  {
   "cell_type": "markdown",
   "id": "0c41cc39",
   "metadata": {},
   "source": [
    "⚠️ Always split the data before oversampling. If your test data has oversampled observations then train-test contamination has occurred; novel observations will not come from the oversampling function.\n",
    "\n",
    "## Oversampling\n",
    "\n",
    "\n",
    "\n",
    "It was obvious from the bar charts that there is a severe imbalance problem. Let's look at that again."
   ]
  },
  {
   "cell_type": "code",
   "execution_count": 8,
   "id": "4e4d51b0",
   "metadata": {
    "attributes": {
     "classes": [
      "julia"
     ],
     "id": ""
    }
   },
   "outputs": [
    {
     "name": "stdout",
     "output_type": "stream",
     "text": [
      "m: ▇ 36 (1.0%) \n",
      "c: ▇▇▇ 192 (5.4%) \n",
      "p: ▇▇▇▇ 256 (7.3%) \n",
      "a: ▇▇▇▇▇▇ 400 (11.3%) \n",
      "l: ▇▇▇▇▇▇ 400 (11.3%) \n",
      "y: ▇▇▇▇▇▇▇▇ 576 (16.3%) \n",
      "s: ▇▇▇▇▇▇▇▇ 576 (16.3%) \n",
      "f: ▇▇▇▇▇▇▇▇▇▇▇▇▇▇▇▇▇▇▇▇▇▇▇▇▇▇▇▇▇▇▇ 2160 (61.2%) \n",
      "n: ▇▇▇▇▇▇▇▇▇▇▇▇▇▇▇▇▇▇▇▇▇▇▇▇▇▇▇▇▇▇▇▇▇▇▇▇▇▇▇▇▇▇▇▇▇▇▇▇▇▇ 3528 (100.0%) \n"
     ]
    }
   ],
   "source": [
    "checkbalance(y)         # comes from Imbalance"
   ]
  },
  {
   "cell_type": "markdown",
   "id": "08f38fd0",
   "metadata": {},
   "source": [
    "Let's set our desired ratios as follows. these are set relative to the size of the majority class."
   ]
  },
  {
   "cell_type": "code",
   "execution_count": 9,
   "id": "1464149f",
   "metadata": {
    "attributes": {
     "classes": [
      "julia"
     ],
     "id": ""
    }
   },
   "outputs": [
    {
     "data": {
      "text/plain": [
       "Dict{String, Float64} with 8 entries:\n",
       "  \"s\" => 0.7\n",
       "  \"f\" => 0.8\n",
       "  \"c\" => 0.4\n",
       "  \"m\" => 0.3\n",
       "  \"l\" => 0.5\n",
       "  \"a\" => 0.5\n",
       "  \"p\" => 0.5\n",
       "  \"y\" => 0.7"
      ]
     },
     "metadata": {},
     "output_type": "display_data"
    }
   ],
   "source": [
    "ratios = Dict(\"m\"=>0.3, \n",
    "              \"c\"=>0.4,\n",
    "              \"p\"=>0.5,\n",
    "              \"a\"=>0.5,\n",
    "              \"l\"=>0.5,\n",
    "              \"y\"=>0.7,\n",
    "              \"s\"=>0.7,\n",
    "              \"f\"=>0.8\n",
    "              )"
   ]
  },
  {
   "cell_type": "markdown",
   "id": "919993f9",
   "metadata": {},
   "source": [
    "We have used gut feeling to set them here but usually this is one of the most important hyperparameters to tune over. \n",
    "\n",
    "The easy option `ratios=1.0` always exists and would mean that we want to oversample data in each class so that they all match the majority class. It may or may not be the most optimal due to overfitting problems."
   ]
  },
  {
   "cell_type": "code",
   "execution_count": 10,
   "id": "cdbece9e",
   "metadata": {
    "attributes": {
     "classes": [
      "julia"
     ],
     "id": ""
    }
   },
   "outputs": [
    {
     "name": "stderr",
     "output_type": "stream",
     "text": [
      "\r\u001b[32mProgress:  22%|█████████▏                               |  ETA: 0:00:06\u001b[39m\u001b[K\r\n",
      "\u001b[34m  class:  f\u001b[39m\u001b[K\r\u001b[A"
     ]
    },
    {
     "name": "stderr",
     "output_type": "stream",
     "text": [
      "\r\u001b[32mProgress:  83%|██████████████████████████████████       |  ETA: 0:00:00\u001b[39m\u001b[K"
     ]
    },
    {
     "name": "stderr",
     "output_type": "stream",
     "text": [
      "\r\u001b[32mProgress: 100%|█████████████████████████████████████████| Time: 0:00:00\u001b[39m\u001b[K\n"
     ]
    },
    {
     "data": {
      "text/plain": [
       "(\u001b[1m15239×22 DataFrame\u001b[0m\n",
       "\u001b[1m   Row \u001b[0m│\u001b[1m class \u001b[0m\u001b[1m cap-shape \u001b[0m\u001b[1m cap-surface \u001b[0m\u001b[1m cap-color \u001b[0m\u001b[1m bruises \u001b[0m\u001b[1m gill-attachment \u001b[0m\u001b[1m g\u001b[0m ⋯\n",
       "       │\u001b[90m Cat…  \u001b[0m\u001b[90m Cat…      \u001b[0m\u001b[90m Cat…        \u001b[0m\u001b[90m Cat…      \u001b[0m\u001b[90m Cat…    \u001b[0m\u001b[90m Cat…            \u001b[0m\u001b[90m C\u001b[0m ⋯\n",
       "───────┼────────────────────────────────────────────────────────────────────────\n",
       "     1 │ p      f          s            e          f        f                c ⋯\n",
       "     2 │ p      f          y            e          f        f                c\n",
       "     3 │ e      f          f            w          f        f                w\n",
       "     4 │ p      f          s            e          f        f                c\n",
       "     5 │ p      f          y            e          f        f                c ⋯\n",
       "     6 │ e      s          f            g          f        f                c\n",
       "     7 │ p      f          s            n          f        f                c\n",
       "     8 │ e      x          y            g          t        f                c\n",
       "   ⋮   │   ⋮        ⋮           ⋮           ⋮         ⋮            ⋮           ⋱\n",
       " 15233 │ p      x          y            c          f        a                c ⋯\n",
       " 15234 │ p      x          y            e          f        a                c\n",
       " 15235 │ p      x          y            n          f        a                c\n",
       " 15236 │ p      k          y            c          f        f                c\n",
       " 15237 │ p      x          y            c          f        a                c ⋯\n",
       " 15238 │ p      k          y            c          f        f                c\n",
       " 15239 │ p      x          y            e          f        f                c\n",
       "\u001b[36m                                               16 columns and 15224 rows omitted\u001b[0m, CategoricalArrays.CategoricalValue{String1, UInt32}[String1(\"s\"), String1(\"s\"), String1(\"n\"), String1(\"s\"), String1(\"s\"), String1(\"n\"), String1(\"s\"), String1(\"n\"), String1(\"n\"), String1(\"n\")  …  String1(\"m\"), String1(\"m\"), String1(\"m\"), String1(\"m\"), String1(\"m\"), String1(\"m\"), String1(\"m\"), String1(\"m\"), String1(\"m\"), String1(\"m\")])"
      ]
     },
     "metadata": {},
     "output_type": "display_data"
    }
   ],
   "source": [
    "Xover, yover = smoten(X_train, y_train; k=2, ratios=ratios, rng=Random.Xoshiro(42))"
   ]
  },
  {
   "cell_type": "markdown",
   "id": "c73ebb30",
   "metadata": {},
   "source": [
    "SMOTEN uses a very specialized distance metric to decide the nearest neighbors which explains why it may be a bit slow as it's nontrivial to optimize KNN over such metric.\n",
    "\n",
    "Now let's check the balance of the data"
   ]
  },
  {
   "cell_type": "code",
   "execution_count": 11,
   "id": "45b1df02",
   "metadata": {
    "attributes": {
     "classes": [
      "julia"
     ],
     "id": ""
    }
   },
   "outputs": [
    {
     "name": "stdout",
     "output_type": "stream",
     "text": [
      "m: ▇▇▇▇▇▇▇▇▇▇▇▇▇▇▇ 847 (30.0%) \n",
      "c: ▇▇▇▇▇▇▇▇▇▇▇▇▇▇▇▇▇▇▇▇ 1129 (40.0%) \n",
      "a: ▇▇▇▇▇▇▇▇▇▇▇▇▇▇▇▇▇▇▇▇▇▇▇▇▇ 1411 (50.0%) \n",
      "l: ▇▇▇▇▇▇▇▇▇▇▇▇▇▇▇▇▇▇▇▇▇▇▇▇▇ 1411 (50.0%) \n",
      "p: ▇▇▇▇▇▇▇▇▇▇▇▇▇▇▇▇▇▇▇▇▇▇▇▇▇ 1411 (50.0%) \n",
      "y: ▇▇▇▇▇▇▇▇▇▇▇▇▇▇▇▇▇▇▇▇▇▇▇▇▇▇▇▇▇▇▇▇▇▇▇ 1975 (70.0%) \n",
      "s: ▇▇▇▇▇▇▇▇▇▇▇▇▇▇▇▇▇▇▇▇▇▇▇▇▇▇▇▇▇▇▇▇▇▇▇ 1975 (70.0%) \n",
      "f: ▇▇▇▇▇▇▇▇▇▇▇▇▇▇▇▇▇▇▇▇▇▇▇▇▇▇▇▇▇▇▇▇▇▇▇▇▇▇▇▇ 2258 (80.0%) \n",
      "n: ▇▇▇▇▇▇▇▇▇▇▇▇▇▇▇▇▇▇▇▇▇▇▇▇▇▇▇▇▇▇▇▇▇▇▇▇▇▇▇▇▇▇▇▇▇▇▇▇▇▇ 2822 (100.0%) \n"
     ]
    }
   ],
   "source": [
    "checkbalance(yover)"
   ]
  },
  {
   "cell_type": "markdown",
   "id": "d4010523",
   "metadata": {},
   "source": [
    "## Training the Model\n",
    "\n",
    "\n",
    "\n",
    "Because we have scientific types setup, we can easily check what models will be able to train on our data. This should guarantee that the model we choose won't throw an error due to types after feeding it the data."
   ]
  },
  {
   "cell_type": "code",
   "execution_count": 12,
   "id": "2099caba",
   "metadata": {
    "attributes": {
     "classes": [
      "julia"
     ],
     "id": ""
    }
   },
   "outputs": [
    {
     "data": {
      "text/plain": [
       "6-element Vector{NamedTuple{(:name, :package_name, :is_supervised, :abstract_type, :deep_properties, :docstring, :fit_data_scitype, :human_name, :hyperparameter_ranges, :hyperparameter_types, :hyperparameters, :implemented_methods, :inverse_transform_scitype, :is_pure_julia, :is_wrapper, :iteration_parameter, :load_path, :package_license, :package_url, :package_uuid, :predict_scitype, :prediction_type, :reporting_operations, :reports_feature_importances, :supports_class_weights, :supports_online, :supports_training_losses, :supports_weights, :transform_scitype, :input_scitype, :target_scitype, :output_scitype)}}:\n",
       " (name = CatBoostClassifier, package_name = CatBoost, ... )\n",
       " (name = ConstantClassifier, package_name = MLJModels, ... )\n",
       " (name = DecisionTreeClassifier, package_name = BetaML, ... )\n",
       " (name = DeterministicConstantClassifier, package_name = MLJModels, ... )\n",
       " (name = OneRuleClassifier, package_name = OneRule, ... )\n",
       " (name = RandomForestClassifier, package_name = BetaML, ... )"
      ]
     },
     "metadata": {},
     "output_type": "display_data"
    }
   ],
   "source": [
    "ms = models(matching(Xover, yover))"
   ]
  },
  {
   "cell_type": "markdown",
   "id": "b0a5cb35",
   "metadata": {},
   "source": [
    "Let's go for a OneRuleClassifier"
   ]
  },
  {
   "cell_type": "code",
   "execution_count": null,
   "id": "a4845a7d",
   "metadata": {
    "attributes": {
     "classes": [
      "julia"
     ],
     "id": ""
    }
   },
   "outputs": [],
   "source": [
    "import Pkg; Pkg.add(\"OneRule\")"
   ]
  },
  {
   "cell_type": "markdown",
   "id": "fbab0ff6",
   "metadata": {},
   "source": [
    "### Before Oversampling"
   ]
  },
  {
   "cell_type": "code",
   "execution_count": 14,
   "id": "0fed8ffe",
   "metadata": {
    "attributes": {
     "classes": [
      "julia"
     ],
     "id": ""
    }
   },
   "outputs": [
    {
     "name": "stderr",
     "output_type": "stream",
     "text": [
      "┌ Info: For silent loading, specify `verbosity=0`. \n",
      "└ @ Main /Users/essam/.julia/packages/MLJModels/7apZ3/src/loading.jl:159\n"
     ]
    },
    {
     "name": "stdout",
     "output_type": "stream",
     "text": [
      "import OneRule ✔\n"
     ]
    },
    {
     "data": {
      "text/plain": [
       "trained Machine; caches model-specific representations of data\n",
       "  model: OneRuleClassifier()\n",
       "  args: \n",
       "    1:\tSource @385 ⏎ Table{Union{AbstractVector{Multiclass{10}}, AbstractVector{Multiclass{12}}, AbstractVector{Multiclass{2}}, AbstractVector{Multiclass{1}}, AbstractVector{Multiclass{4}}, AbstractVector{Multiclass{3}}, AbstractVector{Multiclass{5}}, AbstractVector{Multiclass{9}}, AbstractVector{Multiclass{6}}, AbstractVector{Multiclass{7}}}}\n",
       "    2:\tSource @936 ⏎ AbstractVector{Multiclass{9}}\n"
      ]
     },
     "metadata": {},
     "output_type": "display_data"
    }
   ],
   "source": [
    "# 1. Load the model\n",
    "OneRuleClassifier= @load OneRuleClassifier pkg=OneRule\n",
    "\n",
    "# 2. Instantiate it\n",
    "model = OneRuleClassifier()\n",
    "\n",
    "# 3. Wrap it with the data in a machine\n",
    "mach = machine(model, X_train, y_train)\n",
    "\n",
    "# 4. fit the machine learning model\n",
    "fit!(mach, verbosity=0)"
   ]
  },
  {
   "cell_type": "markdown",
   "id": "4a91b91d",
   "metadata": {},
   "source": [
    "### After Oversampling"
   ]
  },
  {
   "cell_type": "code",
   "execution_count": 15,
   "id": "cb576d24",
   "metadata": {
    "attributes": {
     "classes": [
      "julia"
     ],
     "id": ""
    }
   },
   "outputs": [
    {
     "data": {
      "text/plain": [
       "trained Machine; caches model-specific representations of data\n",
       "  model: OneRuleClassifier()\n",
       "  args: \n",
       "    1:\tSource @452 ⏎ Table{Union{AbstractVector{Multiclass{10}}, AbstractVector{Multiclass{12}}, AbstractVector{Multiclass{2}}, AbstractVector{Multiclass{1}}, AbstractVector{Multiclass{4}}, AbstractVector{Multiclass{3}}, AbstractVector{Multiclass{5}}, AbstractVector{Multiclass{9}}, AbstractVector{Multiclass{6}}, AbstractVector{Multiclass{7}}}}\n",
       "    2:\tSource @817 ⏎ AbstractVector{Multiclass{9}}\n"
      ]
     },
     "metadata": {},
     "output_type": "display_data"
    }
   ],
   "source": [
    "# 3. Wrap it with the data in a machine\n",
    "mach_over = machine(model, Xover, yover)\n",
    "\n",
    "# 4. fit the machine learning model\n",
    "fit!(mach_over, verbosity=0)"
   ]
  },
  {
   "cell_type": "markdown",
   "id": "f155d738",
   "metadata": {},
   "source": [
    "## Evaluating the Model\n",
    "\n",
    "\n",
    "\n",
    "To evaluate the model, we will use the balanced accuracy metric which equally account for all classes.\n",
    "\n",
    "### Before Oversampling"
   ]
  },
  {
   "cell_type": "code",
   "execution_count": 16,
   "id": "97f9b964",
   "metadata": {
    "attributes": {
     "classes": [
      "julia"
     ],
     "id": ""
    }
   },
   "outputs": [
    {
     "data": {
      "text/plain": [
       "0.22"
      ]
     },
     "metadata": {},
     "output_type": "display_data"
    }
   ],
   "source": [
    "y_pred = MLJ.predict(mach, X_test)                         \n",
    "\n",
    "score = round(balanced_accuracy(y_pred, y_test), digits=2)"
   ]
  },
  {
   "cell_type": "markdown",
   "id": "aeb0c750",
   "metadata": {},
   "source": [
    "### After Oversampling"
   ]
  },
  {
   "cell_type": "code",
   "execution_count": 17,
   "id": "e78f13b2",
   "metadata": {
    "attributes": {
     "classes": [
      "julia"
     ],
     "id": ""
    }
   },
   "outputs": [
    {
     "data": {
      "text/plain": [
       "0.4"
      ]
     },
     "metadata": {},
     "output_type": "display_data"
    }
   ],
   "source": [
    "y_pred_over = MLJ.predict(mach_over, X_test)\n",
    "\n",
    "score = round(balanced_accuracy(y_pred_over, y_test), digits=2)"
   ]
  },
  {
   "cell_type": "code",
   "execution_count": 13,
   "id": "881967ac",
   "metadata": {},
   "outputs": [
    {
     "name": "stderr",
     "output_type": "stream",
     "text": [
      "[NbConvertApp] Converting notebook smoten_mushroom.ipynb to markdown\n"
     ]
    },
    {
     "name": "stdout",
     "output_type": "stream",
     "text": [
      "Conversion Complete!\n"
     ]
    },
    {
     "name": "stderr",
     "output_type": "stream",
     "text": [
      "[NbConvertApp] Writing 29036 bytes to smoten_mushroom.md\n"
     ]
    }
   ],
   "source": [
    "import sys; sys.path.append(\"..\")\n",
    "from convert import convert_to_md\n",
    "convert_to_md('smoten_mushroom')"
   ]
  }
 ],
 "metadata": {
  "kernelspec": {
   "display_name": "M1",
   "language": "python",
   "name": "python3"
  },
  "language_info": {
   "codemirror_mode": {
    "name": "ipython",
    "version": 3
   },
   "file_extension": ".py",
   "mimetype": "text/x-python",
   "name": "python",
   "nbconvert_exporter": "python",
   "pygments_lexer": "ipython3",
   "version": "3.9.16"
  }
 },
 "nbformat": 4,
 "nbformat_minor": 5
}
