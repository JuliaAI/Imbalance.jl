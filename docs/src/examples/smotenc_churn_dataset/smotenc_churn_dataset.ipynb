{
 "cells": [
  {
   "cell_type": "code",
   "execution_count": null,
   "id": "93da2e4a",
   "metadata": {
    "attributes": {
     "classes": [
      "julia"
     ],
     "id": ""
    }
   },
   "outputs": [],
   "source": [
    "using Imbalance\n",
    "using CSV\n",
    "using DataFrames\n",
    "using ScientificTypes\n",
    "using CategoricalArrays\n",
    "using MLJ\n",
    "using Plots\n",
    "using Random"
   ]
  },
  {
   "cell_type": "markdown",
   "id": "64287981",
   "metadata": {},
   "source": [
    "## Loading Data\n",
    "In this example, we will consider the [Churn for Bank Customers](https://www.kaggle.com/datasets/mathchi/churn-for-bank-customers) found on Kaggle where the objective is to predict whether a customer is likely to leave a bank given financial and demographic features. \n",
    "\n",
    "We already considered this dataset using SMOTE, in this example we see if the results are any better using SMOTE-NC."
   ]
  },
  {
   "cell_type": "code",
   "execution_count": null,
   "id": "a9289888",
   "metadata": {
    "attributes": {
     "classes": [
      "julia"
     ],
     "id": ""
    }
   },
   "outputs": [
    {
     "name": "stdout",
     "output_type": "stream",
     "text": [
      "┌───────────┬────────────┬──────────┬─────────────┬───────────┬─────────┬───────┬────────┬────────────┬───────────────┬───────────┬────────────────┬─────────────────┬────────┐\n",
      "│\u001b[1m RowNumber \u001b[0m│\u001b[1m CustomerId \u001b[0m│\u001b[1m Surname  \u001b[0m│\u001b[1m CreditScore \u001b[0m│\u001b[1m Geography \u001b[0m│\u001b[1m Gender  \u001b[0m│\u001b[1m Age   \u001b[0m│\u001b[1m Tenure \u001b[0m│\u001b[1m Balance    \u001b[0m│\u001b[1m NumOfProducts \u001b[0m│\u001b[1m HasCrCard \u001b[0m│\u001b[1m IsActiveMember \u001b[0m│\u001b[1m EstimatedSalary \u001b[0m│\u001b[1m Exited \u001b[0m│\n",
      "│\u001b[90m Int64     \u001b[0m│\u001b[90m Int64      \u001b[0m│\u001b[90m String31 \u001b[0m│\u001b[90m Int64       \u001b[0m│\u001b[90m String7   \u001b[0m│\u001b[90m String7 \u001b[0m│\u001b[90m Int64 \u001b[0m│\u001b[90m Int64  \u001b[0m│\u001b[90m Float64    \u001b[0m│\u001b[90m Int64         \u001b[0m│\u001b[90m Int64     \u001b[0m│\u001b[90m Int64          \u001b[0m│\u001b[90m Float64         \u001b[0m│\u001b[90m Int64  \u001b[0m│\n",
      "│\u001b[90m Count     \u001b[0m│\u001b[90m Count      \u001b[0m│\u001b[90m Textual  \u001b[0m│\u001b[90m Count       \u001b[0m│\u001b[90m Textual   \u001b[0m│\u001b[90m Textual \u001b[0m│\u001b[90m Count \u001b[0m│\u001b[90m Count  \u001b[0m│\u001b[90m Continuous \u001b[0m│\u001b[90m Count         \u001b[0m│\u001b[90m Count     \u001b[0m│\u001b[90m Count          \u001b[0m│\u001b[90m Continuous      \u001b[0m│\u001b[90m Count  \u001b[0m│\n",
      "├───────────┼────────────┼──────────┼─────────────┼───────────┼─────────┼───────┼────────┼────────────┼───────────────┼───────────┼────────────────┼─────────────────┼────────┤\n",
      "│ 1         │ 15634602   │ Hargrave │ 619         │ France    │ Female  │ 42    │ 2      │ 0.0        │ 1             │ 1         │ 1              │ 1.01349e5       │ 1      │\n",
      "│ 2         │ 15647311   │ Hill     │ 608         │ Spain     │ Female  │ 41    │ 1      │ 83807.9    │ 1             │ 0         │ 1              │ 1.12543e5       │ 0      │\n",
      "│ 3         │ 15619304   │ Onio     │ 502         │ France    │ Female  │ 42    │ 8      │ 1.59661e5  │ 3             │ 1         │ 0              │ 1.13932e5       │ 1      │\n",
      "│ 4         │ 15701354   │ Boni     │ 699         │ France    │ Female  │ 39    │ 1      │ 0.0        │ 2             │ 0         │ 0              │ 93826.6         │ 0      │\n",
      "│ 5         │ 15737888   │ Mitchell │ 850         │ Spain     │ Female  │ 43    │ 2      │ 1.25511e5  │ 1             │ 1         │ 1              │ 79084.1         │ 0      │\n",
      "└───────────┴────────────┴──────────┴─────────────┴───────────┴─────────┴───────┴────────┴────────────┴───────────────┴───────────┴────────────────┴─────────────────┴────────┘\n"
     ]
    }
   ],
   "source": [
    "df = CSV.read(\"../datasets/churn.csv\", DataFrame)\n",
    "first(df, 5) |> pretty"
   ]
  },
  {
   "cell_type": "markdown",
   "id": "10d0137a",
   "metadata": {},
   "source": [
    "Let's get rid of useless columns such as `RowNumber` and `CustomerId`"
   ]
  },
  {
   "cell_type": "code",
   "execution_count": null,
   "id": "5dee3002",
   "metadata": {
    "attributes": {
     "classes": [
      "julia"
     ],
     "id": ""
    }
   },
   "outputs": [
    {
     "name": "stdout",
     "output_type": "stream",
     "text": [
      "┌─────────────┬───────────┬─────────┬───────┬────────┬────────────┬───────────────┬───────────┬────────────────┬─────────────────┬────────┐\n",
      "│\u001b[1m CreditScore \u001b[0m│\u001b[1m Geography \u001b[0m│\u001b[1m Gender  \u001b[0m│\u001b[1m Age   \u001b[0m│\u001b[1m Tenure \u001b[0m│\u001b[1m Balance    \u001b[0m│\u001b[1m NumOfProducts \u001b[0m│\u001b[1m HasCrCard \u001b[0m│\u001b[1m IsActiveMember \u001b[0m│\u001b[1m EstimatedSalary \u001b[0m│\u001b[1m Exited \u001b[0m│\n",
      "│\u001b[90m Int64       \u001b[0m│\u001b[90m String7   \u001b[0m│\u001b[90m String7 \u001b[0m│\u001b[90m Int64 \u001b[0m│\u001b[90m Int64  \u001b[0m│\u001b[90m Float64    \u001b[0m│\u001b[90m Int64         \u001b[0m│\u001b[90m Int64     \u001b[0m│\u001b[90m Int64          \u001b[0m│\u001b[90m Float64         \u001b[0m│\u001b[90m Int64  \u001b[0m│\n",
      "│\u001b[90m Count       \u001b[0m│\u001b[90m Textual   \u001b[0m│\u001b[90m Textual \u001b[0m│\u001b[90m Count \u001b[0m│\u001b[90m Count  \u001b[0m│\u001b[90m Continuous \u001b[0m│\u001b[90m Count         \u001b[0m│\u001b[90m Count     \u001b[0m│\u001b[90m Count          \u001b[0m│\u001b[90m Continuous      \u001b[0m│\u001b[90m Count  \u001b[0m│\n",
      "├─────────────┼───────────┼─────────┼───────┼────────┼────────────┼───────────────┼───────────┼────────────────┼─────────────────┼────────┤\n",
      "│ 619         │ France    │ Female  │ 42    │ 2      │ 0.0        │ 1             │ 1         │ 1              │ 1.01349e5       │ 1      │\n",
      "│ 608         │ Spain     │ Female  │ 41    │ 1      │ 83807.9    │ 1             │ 0         │ 1              │ 1.12543e5       │ 0      │\n",
      "│ 502         │ France    │ Female  │ 42    │ 8      │ 1.59661e5  │ 3             │ 1         │ 0              │ 1.13932e5       │ 1      │\n",
      "│ 699         │ France    │ Female  │ 39    │ 1      │ 0.0        │ 2             │ 0         │ 0              │ 93826.6         │ 0      │\n",
      "│ 850         │ Spain     │ Female  │ 43    │ 2      │ 1.25511e5  │ 1             │ 1         │ 1              │ 79084.1         │ 0      │\n",
      "└─────────────┴───────────┴─────────┴───────┴────────┴────────────┴───────────────┴───────────┴────────────────┴─────────────────┴────────┘\n"
     ]
    }
   ],
   "source": [
    "df = df[:, Not([:Surname, :RowNumber, :CustomerId])]\n",
    "\n",
    "first(df, 5) |> pretty"
   ]
  },
  {
   "cell_type": "markdown",
   "id": "0f565250",
   "metadata": {},
   "source": [
    "## Coercing Data\n",
    "\n",
    "Let's coerce the nominal data to `Multiclass`, the ordinal data to `OrderedFactor` and the continuous data to `Continuous`."
   ]
  },
  {
   "cell_type": "code",
   "execution_count": null,
   "id": "1bff525b",
   "metadata": {
    "attributes": {
     "classes": [
      "julia"
     ],
     "id": ""
    }
   },
   "outputs": [
    {
     "data": {
      "text/plain": [
       "┌─────────────────┬────────────────────┬───────────────────────────────────┐\n",
       "│\u001b[22m names           \u001b[0m│\u001b[22m scitypes           \u001b[0m│\u001b[22m types                             \u001b[0m│\n",
       "├─────────────────┼────────────────────┼───────────────────────────────────┤\n",
       "│ CreditScore     │ OrderedFactor{460} │ CategoricalValue{Int64, UInt32}   │\n",
       "│ Geography       │ Multiclass{3}      │ CategoricalValue{String7, UInt32} │\n",
       "│ Gender          │ Multiclass{2}      │ CategoricalValue{String7, UInt32} │\n",
       "│ Age             │ OrderedFactor{70}  │ CategoricalValue{Int64, UInt32}   │\n",
       "│ Tenure          │ OrderedFactor{11}  │ CategoricalValue{Int64, UInt32}   │\n",
       "│ Balance         │ Continuous         │ Float64                           │\n",
       "│ NumOfProducts   │ OrderedFactor{4}   │ CategoricalValue{Int64, UInt32}   │\n",
       "│ HasCrCard       │ Multiclass{2}      │ CategoricalValue{Int64, UInt32}   │\n",
       "│ IsActiveMember  │ Multiclass{2}      │ CategoricalValue{Int64, UInt32}   │\n",
       "│ EstimatedSalary │ Continuous         │ Float64                           │\n",
       "│ Exited          │ Multiclass{2}      │ CategoricalValue{Int64, UInt32}   │\n",
       "└─────────────────┴────────────────────┴───────────────────────────────────┘\n"
      ]
     },
     "metadata": {},
     "output_type": "display_data"
    }
   ],
   "source": [
    "df = coerce(df, \n",
    "              :Geography => Multiclass, \n",
    "              :Gender=> Multiclass,\n",
    "              :CreditScore => OrderedFactor,\n",
    "              :Age => OrderedFactor,\n",
    "              :Tenure => OrderedFactor,\n",
    "              :Balance => Continuous,\n",
    "              :NumOfProducts => OrderedFactor,\n",
    "              :HasCrCard => Multiclass,\n",
    "              :IsActiveMember => Multiclass,\n",
    "              :EstimatedSalary => Continuous,\n",
    "              :Exited => Multiclass\n",
    "              )\n",
    "\n",
    "ScientificTypes.schema(df)"
   ]
  },
  {
   "cell_type": "markdown",
   "id": "8c47ef87",
   "metadata": {},
   "source": [
    "## Unpacking and Splitting Data"
   ]
  },
  {
   "cell_type": "code",
   "execution_count": null,
   "id": "2009443f",
   "metadata": {
    "attributes": {
     "classes": [
      "julia"
     ],
     "id": ""
    }
   },
   "outputs": [
    {
     "name": "stdout",
     "output_type": "stream",
     "text": [
      "┌─────────────────────────────────┬───────────────────────────────────┬───────────────────────────────────┬─────────────────────────────────┬─────────────────────────────────┬────────────┬─────────────────────────────────┬─────────────────────────────────┬─────────────────────────────────┬─────────────────┐\n",
      "│\u001b[1m CreditScore                     \u001b[0m│\u001b[1m Geography                         \u001b[0m│\u001b[1m Gender                            \u001b[0m│\u001b[1m Age                             \u001b[0m│\u001b[1m Tenure                          \u001b[0m│\u001b[1m Balance    \u001b[0m│\u001b[1m NumOfProducts                   \u001b[0m│\u001b[1m HasCrCard                       \u001b[0m│\u001b[1m IsActiveMember                  \u001b[0m│\u001b[1m EstimatedSalary \u001b[0m│\n",
      "│\u001b[90m CategoricalValue{Int64, UInt32} \u001b[0m│\u001b[90m CategoricalValue{String7, UInt32} \u001b[0m│\u001b[90m CategoricalValue{String7, UInt32} \u001b[0m│\u001b[90m CategoricalValue{Int64, UInt32} \u001b[0m│\u001b[90m CategoricalValue{Int64, UInt32} \u001b[0m│\u001b[90m Float64    \u001b[0m│\u001b[90m CategoricalValue{Int64, UInt32} \u001b[0m│\u001b[90m CategoricalValue{Int64, UInt32} \u001b[0m│\u001b[90m CategoricalValue{Int64, UInt32} \u001b[0m│\u001b[90m Float64         \u001b[0m│\n",
      "│\u001b[90m OrderedFactor{460}              \u001b[0m│\u001b[90m Multiclass{3}                     \u001b[0m│\u001b[90m Multiclass{2}                     \u001b[0m│\u001b[90m OrderedFactor{70}               \u001b[0m│\u001b[90m OrderedFactor{11}               \u001b[0m│\u001b[90m Continuous \u001b[0m│\u001b[90m OrderedFactor{4}                \u001b[0m│\u001b[90m Multiclass{2}                   \u001b[0m│\u001b[90m Multiclass{2}                   \u001b[0m│\u001b[90m Continuous      \u001b[0m│\n",
      "├─────────────────────────────────┼───────────────────────────────────┼───────────────────────────────────┼─────────────────────────────────┼─────────────────────────────────┼────────────┼─────────────────────────────────┼─────────────────────────────────┼─────────────────────────────────┼─────────────────┤\n",
      "│ 669                             │ France                            │ Female                            │ 31                              │ 6                               │ 1.13001e5  │ 1                               │ 1                               │ 0                               │ 40467.8         │\n",
      "│ 822                             │ France                            │ Male                              │ 37                              │ 3                               │ 105563.0   │ 1                               │ 1                               │ 0                               │ 1.82625e5       │\n",
      "│ 423                             │ France                            │ Female                            │ 36                              │ 5                               │ 97665.6    │ 1                               │ 1                               │ 0                               │ 1.18373e5       │\n",
      "│ 623                             │ France                            │ Male                              │ 21                              │ 10                              │ 0.0        │ 2                               │ 0                               │ 1                               │ 1.35851e5       │\n",
      "│ 691                             │ Germany                           │ Female                            │ 37                              │ 7                               │ 1.23068e5  │ 1                               │ 1                               │ 1                               │ 98162.4         │\n",
      "└─────────────────────────────────┴───────────────────────────────────┴───────────────────────────────────┴─────────────────────────────────┴─────────────────────────────────┴────────────┴─────────────────────────────────┴─────────────────────────────────┴─────────────────────────────────┴─────────────────┘\n"
     ]
    }
   ],
   "source": [
    "y, X = unpack(df, ==(:Exited); rng=123);\n",
    "first(X, 5) |> pretty"
   ]
  },
  {
   "cell_type": "code",
   "execution_count": null,
   "id": "91329e39",
   "metadata": {
    "attributes": {
     "classes": [
      "julia"
     ],
     "id": ""
    }
   },
   "outputs": [
    {
     "data": {
      "text/plain": [
       "(CategoricalValue{Int64, UInt32}[0, 1, 1, 0, 0, 0, 0, 0, 0, 0  …  0, 0, 0, 1, 0, 0, 0, 0, 1, 0], CategoricalValue{Int64, UInt32}[0, 0, 0, 0, 0, 1, 1, 0, 0, 0  …  0, 0, 0, 0, 0, 0, 0, 0, 0, 0])"
      ]
     },
     "metadata": {},
     "output_type": "display_data"
    }
   ],
   "source": [
    "train_inds, test_inds = partition(eachindex(y), 0.8, shuffle=true, \n",
    "                                  rng=Random.Xoshiro(42))\n",
    "X_train, X_test = X[train_inds, :], X[test_inds, :]\n",
    "y_train, y_test = y[train_inds], y[test_inds]"
   ]
  },
  {
   "cell_type": "markdown",
   "id": "6b756a7e",
   "metadata": {},
   "source": [
    "## Oversampling\n",
    "\n",
    "\n",
    "\n",
    "Before deciding to oversample, let's see how adverse is the imbalance problem, if it exists. Ideally, you may as well check if the classification model is robust to this problem."
   ]
  },
  {
   "cell_type": "code",
   "execution_count": null,
   "id": "4d9a140a",
   "metadata": {
    "attributes": {
     "classes": [
      "julia"
     ],
     "id": ""
    }
   },
   "outputs": [
    {
     "name": "stdout",
     "output_type": "stream",
     "text": [
      "1: ▇▇▇▇▇▇▇▇▇▇▇▇▇ 2037 (25.6%) \n",
      "0: ▇▇▇▇▇▇▇▇▇▇▇▇▇▇▇▇▇▇▇▇▇▇▇▇▇▇▇▇▇▇▇▇▇▇▇▇▇▇▇▇▇▇▇▇▇▇▇▇▇▇ 7963 (100.0%) \n"
     ]
    }
   ],
   "source": [
    "checkbalance(y)"
   ]
  },
  {
   "cell_type": "markdown",
   "id": "4d47af96",
   "metadata": {},
   "source": [
    "Looks like we have a class imbalance problem. Let's oversample with SMOTE-NC and set the desired ratios so that the positive minority class is 90% of the majority class"
   ]
  },
  {
   "cell_type": "code",
   "execution_count": null,
   "id": "e1dacad3",
   "metadata": {
    "attributes": {
     "classes": [
      "julia"
     ],
     "id": ""
    }
   },
   "outputs": [
    {
     "data": {
      "text/plain": [
       "(\u001b[1m15130×10 DataFrame\u001b[0m\n",
       "\u001b[1m   Row \u001b[0m│\u001b[1m CreditScore \u001b[0m\u001b[1m Geography \u001b[0m\u001b[1m Gender \u001b[0m\u001b[1m Age  \u001b[0m\u001b[1m Tenure \u001b[0m\u001b[1m Balance        \u001b[0m\u001b[1m NumOfPr\u001b[0m ⋯\n",
       "       │\u001b[90m Cat…        \u001b[0m\u001b[90m Cat…      \u001b[0m\u001b[90m Cat…   \u001b[0m\u001b[90m Cat… \u001b[0m\u001b[90m Cat…   \u001b[0m\u001b[90m Float64        \u001b[0m\u001b[90m Cat…   \u001b[0m ⋯\n",
       "───────┼────────────────────────────────────────────────────────────────────────\n",
       "     1 │ 669          France     Female  31    6            1.13001e5  1       ⋯\n",
       "     2 │ 822          France     Male    37    3       105563.0        1\n",
       "     3 │ 423          France     Female  36    5        97665.6        1\n",
       "     4 │ 623          France     Male    21    10           0.0        2\n",
       "     5 │ 691          Germany    Female  37    7            1.23068e5  1       ⋯\n",
       "     6 │ 628          France     Male    69    5            0.0        2\n",
       "     7 │ 613          France     Female  24    7            1.40454e5  1\n",
       "     8 │ 711          France     Male    34    8            0.0        2\n",
       "   ⋮   │      ⋮           ⋮        ⋮      ⋮      ⋮           ⋮               ⋮ ⋱\n",
       " 15124 │ 554          France     Female  41    10           0.0        2       ⋯\n",
       " 15125 │ 637          Germany    Male    30    0       109790.0        1\n",
       " 15126 │ 676          Germany    Female  43    2            1.19555e5  1\n",
       " 15127 │ 626          France     Female  24    0            0.0        2\n",
       " 15128 │ 770          France     Female  52    1       170592.0        2       ⋯\n",
       " 15129 │ 467          Germany    Male    40    10      105065.0        1\n",
       " 15130 │ 674          Germany    Female  44    5            1.2368e5   1\n",
       "\u001b[36m                                                4 columns and 15115 rows omitted\u001b[0m, CategoricalValue{Int64, UInt32}[0, 0, 1, 0, 1, 0, 0, 0, 0, 0  …  1, 1, 1, 1, 1, 1, 1, 1, 1, 1])"
      ]
     },
     "metadata": {},
     "output_type": "display_data"
    }
   ],
   "source": [
    "Xover, yover = smotenc(X, y; k=3, ratios=Dict(1=>0.9), rng=42)"
   ]
  },
  {
   "cell_type": "code",
   "execution_count": null,
   "id": "07a0a555",
   "metadata": {
    "attributes": {
     "classes": [
      "julia"
     ],
     "id": ""
    }
   },
   "outputs": [
    {
     "name": "stdout",
     "output_type": "stream",
     "text": [
      "1: ▇▇▇▇▇▇▇▇▇▇▇▇▇▇▇▇▇▇▇▇▇▇▇▇▇▇▇▇▇▇▇▇▇▇▇▇▇▇▇▇▇▇▇▇▇ 7167 (90.0%) \n",
      "0: ▇▇▇▇▇▇▇▇▇▇▇▇▇▇▇▇▇▇▇▇▇▇▇▇▇▇▇▇▇▇▇▇▇▇▇▇▇▇▇▇▇▇▇▇▇▇▇▇▇▇ 7963 (100.0%) \n"
     ]
    }
   ],
   "source": [
    "checkbalance(yover)"
   ]
  },
  {
   "cell_type": "markdown",
   "id": "91af34d0",
   "metadata": {},
   "source": [
    "## Training the Model\n",
    "\n",
    "\n",
    "\n",
    "Let's find possible models"
   ]
  },
  {
   "cell_type": "code",
   "execution_count": null,
   "id": "22e260f7",
   "metadata": {
    "attributes": {
     "classes": [
      "julia"
     ],
     "id": ""
    }
   },
   "outputs": [
    {
     "data": {
      "text/plain": [
       "5-element Vector{NamedTuple{(:name, :package_name, :is_supervised, :abstract_type, :deep_properties, :docstring, :fit_data_scitype, :human_name, :hyperparameter_ranges, :hyperparameter_types, :hyperparameters, :implemented_methods, :inverse_transform_scitype, :is_pure_julia, :is_wrapper, :iteration_parameter, :load_path, :package_license, :package_url, :package_uuid, :predict_scitype, :prediction_type, :reporting_operations, :reports_feature_importances, :supports_class_weights, :supports_online, :supports_training_losses, :supports_weights, :transform_scitype, :input_scitype, :target_scitype, :output_scitype)}}:\n",
       " (name = CatBoostClassifier, package_name = CatBoost, ... )\n",
       " (name = ConstantClassifier, package_name = MLJModels, ... )\n",
       " (name = DecisionTreeClassifier, package_name = BetaML, ... )\n",
       " (name = DeterministicConstantClassifier, package_name = MLJModels, ... )\n",
       " (name = RandomForestClassifier, package_name = BetaML, ... )"
      ]
     },
     "metadata": {},
     "output_type": "display_data"
    }
   ],
   "source": [
    "ms = models(matching(Xover, yover))"
   ]
  },
  {
   "cell_type": "markdown",
   "id": "4e909c8b",
   "metadata": {},
   "source": [
    "Let's go for a logistic classifier form MLJLinearModels"
   ]
  },
  {
   "cell_type": "code",
   "execution_count": null,
   "id": "f4821555",
   "metadata": {
    "attributes": {
     "classes": [
      "julia"
     ],
     "id": ""
    }
   },
   "outputs": [
    {
     "name": "stderr",
     "output_type": "stream",
     "text": [
      "\u001b[32m\u001b[1m    Updating\u001b[22m\u001b[39m registry at `~/.julia/registries/General.toml`\n"
     ]
    }
   ],
   "source": [
    "import Pkg; Pkg.add(\"BetaML\")"
   ]
  },
  {
   "cell_type": "markdown",
   "id": "73350de0",
   "metadata": {},
   "source": [
    "Let's go for a decision tree from BetaML. We can't go for logistic regression as we did in the SMOTE tutorial because it does not support categotical features.\n",
    "\n",
    "### Before Oversampling"
   ]
  },
  {
   "cell_type": "code",
   "execution_count": null,
   "id": "a938f766",
   "metadata": {
    "attributes": {
     "classes": [
      "julia"
     ],
     "id": ""
    }
   },
   "outputs": [],
   "source": [
    "# 1. Load the model\n",
    "DecisionTreeClassifier = @load DecisionTreeClassifier pkg=BetaML\n",
    "\n",
    "# 2. Instantiate it\n",
    "model = DecisionTreeClassifier( max_depth=4, rng=Random.Xoshiro(42))\n",
    "\n",
    "# 3. Wrap it with the data in a machine\n",
    "mach = machine(model, X_train, y_train)\n",
    "\n",
    "# 4. fit the machine learning model\n",
    "fit!(mach, verbosity=0)"
   ]
  },
  {
   "cell_type": "markdown",
   "id": "43ad590e",
   "metadata": {},
   "source": [
    "### After Oversampling"
   ]
  },
  {
   "cell_type": "code",
   "execution_count": null,
   "id": "703f6aed",
   "metadata": {
    "attributes": {
     "classes": [
      "julia"
     ],
     "id": ""
    }
   },
   "outputs": [],
   "source": [
    "# 3. Wrap it with the data in a machine\n",
    "mach_over = machine(model, Xover, yover)\n",
    "\n",
    "# 4. fit the machine learning model\n",
    "fit!(mach_over)"
   ]
  },
  {
   "cell_type": "markdown",
   "id": "4aecd966",
   "metadata": {},
   "source": [
    "## Evaluating the Model\n",
    "\n",
    "\n",
    "\n",
    "To evaluate the model, we will use the balanced accuracy metric which equally accounts for all classes. \n",
    "\n",
    "### Before Oversampling"
   ]
  },
  {
   "cell_type": "code",
   "execution_count": null,
   "id": "6b7263e3",
   "metadata": {
    "attributes": {
     "classes": [
      "julia"
     ],
     "id": ""
    }
   },
   "outputs": [],
   "source": [
    "y_pred = predict_mode(mach, X_test)                         \n",
    "\n",
    "score = round(balanced_accuracy(y_pred, y_test), digits=2)"
   ]
  },
  {
   "cell_type": "markdown",
   "id": "b55079fc",
   "metadata": {},
   "source": [
    "### After Oversampling"
   ]
  },
  {
   "cell_type": "code",
   "execution_count": null,
   "id": "a1105a53",
   "metadata": {
    "attributes": {
     "classes": [
      "julia"
     ],
     "id": ""
    }
   },
   "outputs": [],
   "source": [
    "y_pred_over = predict_mode(mach_over, X_test)\n",
    "\n",
    "score = round(balanced_accuracy(y_pred_over, y_test), digits=2)"
   ]
  },
  {
   "cell_type": "markdown",
   "id": "80a64c60",
   "metadata": {},
   "source": [
    "Although the results do get better compared to when we just used SMOTE, it holds in this case that the extra categorical features we took into account aren't that important. The difference can be attributed to the decision tree."
   ]
  },
  {
   "cell_type": "code",
   "execution_count": null,
   "id": "89397f26",
   "metadata": {},
   "outputs": [],
   "source": [
    "import sys; sys.path.append(\"..\")\n",
    "from convert import convert_to_md\n",
    "convert_to_md('smotenc_churn_dataset')"
   ]
  }
 ],
 "metadata": {
  "kernelspec": {
   "display_name": "M1",
   "language": "python",
   "name": "python3"
  },
  "language_info": {
   "file_extension": ".jl",
   "mimetype": "application/julia",
   "name": "python",
   "version": "3.9.16"
  }
 },
 "nbformat": 4,
 "nbformat_minor": 5
}
