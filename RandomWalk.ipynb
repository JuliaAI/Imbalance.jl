{
 "cells": [
  {
   "cell_type": "code",
   "execution_count": 25,
   "metadata": {},
   "outputs": [
    {
     "name": "stdout",
     "output_type": "stream",
     "text": [
      "1: ▇▇▇▇▇▇▇▇▇▇▇▇▇▇▇▇▇▇▇▇ 19 (100.0%) \n",
      "2: ▇▇▇▇▇▇▇▇▇▇▇▇▇▇▇▇▇▇▇▇▇▇▇▇▇▇▇▇▇▇▇▇▇▇ 33 (173.7%) \n",
      "0: ▇▇▇▇▇▇▇▇▇▇▇▇▇▇▇▇▇▇▇▇▇▇▇▇▇▇▇▇▇▇▇▇▇▇▇▇▇▇▇▇▇▇▇▇▇▇▇▇▇▇ 48 (252.6%) \n"
     ]
    },
    {
     "name": "stderr",
     "output_type": "stream",
     "text": [
      "\r\u001b[32mProgress:  67%|███████████████████████████▍             |  ETA: 0:00:00\u001b[39m\u001b[K\r\n",
      "\u001b[34m  class:  2\u001b[39m\u001b[K\r\u001b[A"
     ]
    },
    {
     "name": "stdout",
     "output_type": "stream",
     "text": [
      "1: ▇▇▇▇▇▇▇▇▇▇▇▇▇▇▇▇▇▇▇▇▇▇▇▇▇▇ 19 (100.0%) \n",
      "2: ▇▇▇▇▇▇▇▇▇▇▇▇▇▇▇▇▇▇▇▇▇▇▇▇▇▇▇▇▇▇▇ 22 (115.8%) \n",
      "0: ▇▇▇▇▇▇▇▇▇▇▇▇▇▇▇▇▇▇▇▇▇▇▇▇▇▇▇▇▇▇▇▇▇▇▇▇▇▇▇▇▇▇▇▇▇▇▇▇▇▇ 36 (189.5%) \n"
     ]
    }
   ],
   "source": [
    "using Imbalance\n",
    "\n",
    "# set probability of each class\n",
    "class_probs = [0.5, 0.2, 0.3]                         \n",
    "num_rows, num_continuous_feats = 100, 5\n",
    "# generate a table and categorical vector accordingly\n",
    "X, y = generate_imbalanced_data(num_rows, num_continuous_feats; \n",
    "                                min_sep=0.01, stds=[3.0 3.0 3.0], class_probs, rng=42)                       \n",
    "checkbalance(y; ref=\"minority\")\n",
    "\n",
    "# apply enn undersampling\n",
    "X_under, y_under = tomek_undersample(X, y; min_ratios=1.0, rng=42)\n",
    "\n",
    "checkbalance(y_under; ref=\"minority\")"
   ]
  },
  {
   "cell_type": "code",
   "execution_count": 7,
   "metadata": {},
   "outputs": [
    {
     "name": "stdout",
     "output_type": "stream",
     "text": [
      "1: ▇▇▇▇▇▇▇▇▇▇▇▇▇▇▇▇▇▇▇▇ 200 (40.8%) \n",
      "2: ▇▇▇▇▇▇▇▇▇▇▇▇▇▇▇▇▇▇▇▇▇▇▇▇▇▇▇▇▇▇▇▇ 310 (63.3%) \n",
      "0: ▇▇▇▇▇▇▇▇▇▇▇▇▇▇▇▇▇▇▇▇▇▇▇▇▇▇▇▇▇▇▇▇▇▇▇▇▇▇▇▇▇▇▇▇▇▇▇▇▇▇ 490 (100.0%) \n",
      "1: ▇▇▇▇▇▇▇▇▇▇▇▇▇▇▇▇▇▇▇▇ 200 (40.8%) \n",
      "2: ▇▇▇▇▇▇▇▇▇▇▇▇▇▇▇▇▇▇▇▇▇▇▇▇▇▇▇▇▇▇▇▇▇▇▇▇▇▇▇▇ 392 (80.0%) \n",
      "0: ▇▇▇▇▇▇▇▇▇▇▇▇▇▇▇▇▇▇▇▇▇▇▇▇▇▇▇▇▇▇▇▇▇▇▇▇▇▇▇▇▇▇▇▇▇▇▇▇▇▇ 490 (100.0%) \n"
     ]
    },
    {
     "name": "stderr",
     "output_type": "stream",
     "text": [
      "┌ Info: After filtering, the mapping from each class to number of borderline points is (2 => 1).\n",
      "└ @ Imbalance /Users/essam/Documents/GitHub/Imbalance.jl/src/oversampling_methods/borderline_smote1/borderline_smote1.jl:129\n",
      "┌ Warning: Warning: Cannot oversample a class with no borderline points. Skipping.\n",
      "└ @ Imbalance /Users/essam/Documents/GitHub/Imbalance.jl/src/oversampling_methods/borderline_smote1/borderline_smote1.jl:67\n"
     ]
    }
   ],
   "source": [
    "using Imbalance\n",
    "\n",
    "# set probability of each class\n",
    "class_probs = [0.5, 0.2, 0.3]                         \n",
    "num_rows, num_continuous_feats = 1000, 5\n",
    "# generate a table and categorical vector accordingly\n",
    "X, y = generate_imbalanced_data(num_rows, num_continuous_feats; \n",
    "                                min_sep=0.1, class_probs, rng=42)            \n",
    "\n",
    "Imbalance.checkbalance(y)\n",
    "\n",
    "\n",
    "# apply BorderlineSMOTE1\n",
    "Xover, yover = borderline_smote1(X, y; m = 3, \n",
    "               k = 5, ratios = Dict(0=>1.0, 1=> 0.9, 2=>0.8), rng = 42)\n",
    "\n",
    "Imbalance.checkbalance(yover)\n"
   ]
  },
  {
   "cell_type": "code",
   "execution_count": 2,
   "metadata": {},
   "outputs": [
    {
     "name": "stdout",
     "output_type": "stream",
     "text": [
      "1: ▇▇▇▇▇▇▇▇▇▇▇▇▇▇▇▇▇▇▇▇ 19 (39.6%) \n",
      "2: ▇▇▇▇▇▇▇▇▇▇▇▇▇▇▇▇▇▇▇▇▇▇▇▇▇▇▇▇▇▇▇▇▇▇ 33 (68.8%) \n",
      "0: ▇▇▇▇▇▇▇▇▇▇▇▇▇▇▇▇▇▇▇▇▇▇▇▇▇▇▇▇▇▇▇▇▇▇▇▇▇▇▇▇▇▇▇▇▇▇▇▇▇▇ 48 (100.0%) \n",
      "2: ▇▇▇▇▇▇▇▇▇▇▇▇▇▇▇▇▇▇▇▇▇▇▇▇▇▇▇▇▇▇▇▇▇▇▇▇▇▇▇▇ 38 (79.2%) \n",
      "1: ▇▇▇▇▇▇▇▇▇▇▇▇▇▇▇▇▇▇▇▇▇▇▇▇▇▇▇▇▇▇▇▇▇▇▇▇▇▇▇▇▇▇▇▇▇ 43 (89.6%) \n",
      "0: ▇▇▇▇▇▇▇▇▇▇▇▇▇▇▇▇▇▇▇▇▇▇▇▇▇▇▇▇▇▇▇▇▇▇▇▇▇▇▇▇▇▇▇▇▇▇▇▇▇▇ 48 (100.0%) \n"
     ]
    }
   ],
   "source": [
    "using Imbalance\n",
    "\n",
    "# set probability of each class\n",
    "class_probs = [0.5, 0.2, 0.3]                         \n",
    "num_rows, num_continuous_feats = 100, 5\n",
    "# generate a table and categorical vector accordingly\n",
    "X, y = generate_imbalanced_data(num_rows, num_continuous_feats; \n",
    "                                class_probs, rng=42)                       \n",
    "Imbalance.checkbalance(y)\n",
    "\n",
    "\n",
    "# apply random oversampling\n",
    "Xover, yover = random_oversample(X, y; ratios=Dict(0=>1.0, 1=> 0.9, 2=>0.8), rng=42)\n",
    "\n",
    "Imbalance.checkbalance(yover)\n"
   ]
  },
  {
   "cell_type": "markdown",
   "metadata": {},
   "source": [
    "### Random Walk"
   ]
  },
  {
   "cell_type": "code",
   "execution_count": 1,
   "metadata": {},
   "outputs": [
    {
     "data": {
      "text/plain": [
       "generate_new_random_walk_point (generic function with 1 method)"
      ]
     },
     "metadata": {},
     "output_type": "display_data"
    }
   ],
   "source": [
    "using Imbalance\n",
    "using Random: default_rng, AbstractRNG\n",
    "using StatsBase\n",
    "\n",
    "function random_walk(\n",
    "    X::AbstractMatrix{<:AbstractFloat},\n",
    "    y::AbstractVector,\n",
    "    cat_inds::AbstractVector{<:Int};\n",
    "    ratios = 1.0,\n",
    "    rng::Union{AbstractRNG,Integer} = default_rng(),\n",
    ")\n",
    "    rng = Imbalance.rng_handler(rng)\n",
    "    # implictly infer the continuous indices\n",
    "    cont_inds = setdiff(1:size(X, 2), cat_inds)\n",
    "    Xover, yover =\n",
    "        Imbalance.generic_oversample(X, y, random_walk_per_class, cont_inds, cat_inds; ratios, rng)\n",
    "    return Xover, yover\n",
    "end\n",
    "\n",
    "using ProgressMeter\n",
    "function random_walk_per_class(\n",
    "    X::AbstractMatrix{<:AbstractFloat},\n",
    "    n::Integer,\n",
    "    cont_inds::AbstractVector{<:Int},\n",
    "    cat_inds::AbstractVector{<:Int};\n",
    "    rng::AbstractRNG = default_rng(),\n",
    ")\n",
    "    # compute continuous feature statistics\n",
    "    X_cont = X[cont_inds, :]\n",
    "    σ = vec(std(X_cont, dims = 2, corrected=false))\n",
    "\n",
    "    # compute categorical feature statistics\n",
    "    X_cat = Int32.(X[cat_inds, :])\n",
    "    P = [proportions(x) for x in eachrow(X_cat)]\n",
    "\n",
    "    # Generate n new observations\n",
    "    Xnew = zeros(Float32, size(X, 1), n)\n",
    "    p = Progress(n)\n",
    "    for i=1:n\n",
    "        Xnew[:, i] = generate_new_random_walk_point(X, cont_inds, cat_inds, σ, P; rng)\n",
    "        next!(p)\n",
    "    end\n",
    "    return Xnew\n",
    "end\n",
    "\n",
    "\n",
    "function generate_new_random_walk_point(\n",
    "    X::AbstractMatrix{<:AbstractFloat},\n",
    "    cont_inds::AbstractVector{<:Int},\n",
    "    cat_inds::AbstractVector{<:Int},\n",
    "    σ::AbstractVector{<:AbstractFloat},\n",
    "    P::AbstractVector{<:AbstractVector{<:AbstractFloat}};\n",
    "    rng::AbstractRNG,\n",
    ")\n",
    "    # 1. Choose a random point from X (by index)\n",
    "    ind = rand(rng, 1:size(X, 2))\n",
    "    x_rand = X[:, ind]\n",
    "\n",
    "    # find the continuous part of new point\n",
    "    x_rand_cont = @view x_rand[cont_inds]\n",
    "    n = size(X, 2)\n",
    "    r = randn(rng, length(x_rand_cont))\n",
    "    x_new_cont = @. x_rand_cont - r * σ/sqrt(n)\n",
    "\n",
    "    # find the categorical part of new point (by voting among all neighbors)\n",
    "    x_new_cat = [sample(rng, collect(1:length(P[i])), ProbabilityWeights(P[i], 1.0)) for i in eachindex(1:length(cat_inds))]\n",
    "\n",
    "    # make the final vector\n",
    "    x_new = fill(0.0, size(X, 1))\n",
    "    x_new[cont_inds] = x_new_cont\n",
    "    x_new[cat_inds] = x_new_cat\n",
    "\n",
    "    return x_new\n",
    "end\n"
   ]
  },
  {
   "cell_type": "code",
   "execution_count": 28,
   "metadata": {},
   "outputs": [
    {
     "data": {
      "text/plain": [
       "4×1 Matrix{Float64}:\n",
       " 1.0\n",
       " 2.2\n",
       " 3.1\n",
       " 1.0"
      ]
     },
     "metadata": {},
     "output_type": "display_data"
    }
   ],
   "source": [
    "using Random\n",
    "\n",
    "X = [1.0; 2.2; 3.1; 1.0;;]"
   ]
  },
  {
   "cell_type": "code",
   "execution_count": 40,
   "metadata": {},
   "outputs": [
    {
     "data": {
      "text/plain": [
       "\u001b[32m\u001b[1mTest Passed\u001b[22m\u001b[39m"
      ]
     },
     "metadata": {},
     "output_type": "display_data"
    }
   ],
   "source": [
    "R = Random.Xoshiro(42)\n",
    "Z = mean([generate_new_random_walk_point(X, [2, 3], [1, 4], [5., 8.], [[1.0], [1.0]]; rng=R) for i in 1:100000])\n",
    "@test isapprox(collect(X), Z; rtol=0.01)"
   ]
  },
  {
   "cell_type": "code",
   "execution_count": 2,
   "metadata": {},
   "outputs": [
    {
     "data": {
      "text/plain": [
       "8×100000 transpose(::Matrix{Float64}) with eltype Float64:\n",
       " 1.60017   0.714995  1.5031    0.405138  …  1.04355   1.00892   0.134678\n",
       " 1.41253   0.847629  0.853718  0.800057     1.52174   0.234313  1.02146\n",
       " 0.841635  1.96312   0.893153  0.891551     0.986162  1.51248   0.766162\n",
       " 0.264702  1.05209   1.06508   1.13791      1.52518   0.323397  1.39309\n",
       " 0.846922  1.27324   1.05553   0.390588     0.692455  0.374473  0.937609\n",
       " 1.0       2.0       3.0       1.0       …  3.0       1.0       3.0\n",
       " 3.0       2.0       1.0       2.0          3.0       1.0       3.0\n",
       " 1.0       2.0       1.0       2.0          1.0       1.0       1.0"
      ]
     },
     "metadata": {},
     "output_type": "display_data"
    }
   ],
   "source": [
    "using Imbalance\n",
    "cont_inds = [1, 2, 3, 4, 5]\n",
    "cat_inds = [6, 7, 8]\n",
    "Xt, y = Imbalance.generate_imbalanced_data(100000, 5; num_vals_per_category=[3, 4, 2], type=\"Matrix\")\n",
    "Xt[:, cont_inds] = Xt[:, cont_inds] .+ 0.4*randn(size(Xt, 1), 5) .+ 0.3\n",
    "\n",
    "X = transpose(Xt)\n",
    "X\n"
   ]
  },
  {
   "cell_type": "code",
   "execution_count": 3,
   "metadata": {},
   "outputs": [
    {
     "data": {
      "text/plain": [
       "8×100000 Matrix{Float32}:\n",
       " -0.0363822  0.960003  1.04949   0.805541  …  1.07412   0.569225  0.828624\n",
       "  1.40635    0.747931  1.32692   1.07098      0.362414  1.36413   0.483715\n",
       "  0.764041   1.50687   0.774042  1.43227      0.652347  1.59241   0.913383\n",
       "  0.392941   2.19092   0.730745  0.702513     0.722357  1.02044   0.885781\n",
       "  0.0740449  0.51186   0.67074   0.86985      0.827942  0.546715  1.0943\n",
       "  2.0        1.0       2.0       2.0       …  2.0       1.0       3.0\n",
       "  3.0        2.0       2.0       1.0          2.0       1.0       4.0\n",
       "  1.0        1.0       1.0       1.0          2.0       1.0       2.0"
      ]
     },
     "metadata": {},
     "output_type": "display_data"
    }
   ],
   "source": [
    "using Random\n",
    "R = Random.Xoshiro(42)\n",
    "\n",
    "X_new = random_walk_per_class(\n",
    "    X,\n",
    "    100000,\n",
    "    cont_inds,\n",
    "    cat_inds;\n",
    "    rng=R\n",
    ")"
   ]
  },
  {
   "cell_type": "code",
   "execution_count": 4,
   "metadata": {},
   "outputs": [
    {
     "data": {
      "text/plain": [
       "true"
      ]
     },
     "metadata": {},
     "output_type": "display_data"
    }
   ],
   "source": [
    "using Test\n",
    "\n",
    "X_cat = Int32.(X[cat_inds, :])\n",
    "X_new_cat = Int32.(X_new[cat_inds, :])\n",
    "Q1 = [proportions(x) for x in eachrow(X_cat)]\n",
    "Q2 = [proportions(x) for x in eachrow(X_new_cat)]\n",
    "isapprox(Q1, Q2, rtol=0.01)"
   ]
  },
  {
   "cell_type": "code",
   "execution_count": 5,
   "metadata": {},
   "outputs": [
    {
     "data": {
      "text/plain": [
       "true"
      ]
     },
     "metadata": {},
     "output_type": "display_data"
    }
   ],
   "source": [
    "X_cont = X[cont_inds, :]\n",
    "X_new_cont = X_new[cont_inds, :]\n",
    "\n",
    "M1 = vec(mean(X_cont, dims=2))\n",
    "M2 = vec(mean(X_new_cont, dims=2))\n",
    "isapprox(M1, M2, rtol=0.01)"
   ]
  },
  {
   "cell_type": "code",
   "execution_count": 6,
   "metadata": {},
   "outputs": [
    {
     "data": {
      "text/plain": [
       "true"
      ]
     },
     "metadata": {},
     "output_type": "display_data"
    }
   ],
   "source": [
    "S1 = vec(mean(X_cont, dims=2))\n",
    "S2 = vec(mean(X_new_cont, dims=2))\n",
    "isapprox(S1, S2, rtol=0.01)"
   ]
  },
  {
   "cell_type": "code",
   "execution_count": 7,
   "metadata": {},
   "outputs": [
    {
     "data": {
      "text/plain": [
       "5×1 Matrix{Float64}:\n",
       " 0.3661841220742995\n",
       " 0.2675764830401632\n",
       " 0.23482968014317485\n",
       " 0.28442524688396137\n",
       " 0.2844555143005925"
      ]
     },
     "metadata": {},
     "output_type": "display_data"
    }
   ],
   "source": [
    "X = [1 3 3 3 2\n",
    "     2 2 2 1 0\n",
    "     1 5 5 5 5\n",
    "    ]\n",
    "\n",
    "using StatsBase\n",
    "using Random\n",
    "Z = [proportions(x) for x in eachrow(X)]\n",
    "z = sample(collect(1:length(Z[3])), ProbabilityWeights(Z[3], 1.0))'\n",
    "\n",
    "X = rand(5, 10)\n",
    "std(X; dims=2, corrected=false)"
   ]
  },
  {
   "cell_type": "markdown",
   "metadata": {},
   "source": [
    "### Borderline SMOTE"
   ]
  },
  {
   "cell_type": "code",
   "execution_count": 8,
   "metadata": {},
   "outputs": [
    {
     "data": {
      "text/plain": [
       "borderline1_smote (generic function with 1 method)"
      ]
     },
     "metadata": {},
     "output_type": "display_data"
    }
   ],
   "source": [
    "using NearestNeighbors\n",
    "\n",
    "Xt, y = Imbalance.generate_imbalanced_data(100000, 5; num_vals_per_category=[3, 4, 2], type=\"Matrix\")\n",
    "X = Xt'\n",
    "\n",
    "\n",
    "function borderline1_filter(X, y; m=5)\n",
    "    m = 5\n",
    "    tree = BallTree(X)\n",
    "    knn_map, _ = knn(tree, X, m + 1, true)\n",
    "    knn_matrix = hcat(knn_map...)[2:end, :]\n",
    "    knn_matrix_labels = y[knn_matrix]\n",
    "    bool_filter = ones(Bool, length(y))\n",
    "    for i in 1:length(y)\n",
    "        num_friendly_neighbors = sum(knn_matrix_labels[:, i] .== y[i])\n",
    "        bool_filter[i] = 0 < num_friendly_neighbors  <= m/2\n",
    "    end\n",
    "    return BitVector(bool_filter)\n",
    "    return X, y\n",
    "end\n",
    "Xt = [   \n",
    "    1 2 3 4 5\n",
    "    1.1 2.1 3.1 4.1 5.1\n",
    "    1.2 2.2 3.2 4.2 5.2\n",
    "    1.3 2.3 3.3 4.3 5.3\n",
    "    1.4 2.4 3.4 4.4 5.4\n",
    "    1.5 2.5 3.5 4.5 5.5\n",
    "    6 7 8 9 10\n",
    "    6.1 7.1 8.1 9.1 10.1\n",
    "    6.2 7.2 8.2 9.2 10.2\n",
    "    6.3 7.3 8.3 9.3 10.3\n",
    "    6.4 7.4 8.4 9.4 10.4\n",
    "    6.5 7.5 8.5 9.5 10.5\n",
    "    11 12 13 14 15\n",
    "    11.1 12.1 13.1 14.1 15.1\n",
    "    11.2 12.2 13.2 14.2 15.2\n",
    "    11.3 12.3 13.3 14.3 15.3\n",
    "    11.4 12.4 13.4 14.4 15.4\n",
    "    11.5 12.5 13.5 14.5 15.5\n",
    "]\n",
    "X = transpose(Xt)\n",
    "\n",
    "y = [0, 0, 0, 10, 10, 10, 1, 11, 11, 11, 11, 11, 2, 21, 21, 2, 2, 2]\n",
    "#X = X[:, bool_filter]\n",
    "#y = y[bool_filter]\n",
    "borderline1_filter(X, y; m=5)\n",
    "\n",
    "\n",
    "\n",
    "function borderline1_smote(\n",
    "    X::AbstractMatrix{<:AbstractFloat},\n",
    "    y::AbstractVector;\n",
    "    k::Integer = 5,\n",
    "    m::Integer = 5,\n",
    "    ratios = 1.0,\n",
    "    rng::Union{AbstractRNG,Integer} = default_rng(),\n",
    ")\n",
    "    rng = rng_handler(rng)\n",
    "    # transpose and give is_transposed to generic_oversample\n",
    "    filter = borderline1_filter(X, y; m)\n",
    "    # filter X, y as Xf, yf then vcat the result with Xuf, yuf\n",
    "    Xover, yover = generic_oversample(X, y, smote_per_class; ratios, k, rng)\n",
    "    return Xover, yover\n",
    "end"
   ]
  }
 ],
 "metadata": {
  "kernelspec": {
   "display_name": "Julia 1.8.5",
   "language": "julia",
   "name": "julia-1.8"
  },
  "language_info": {
   "file_extension": ".jl",
   "mimetype": "application/julia",
   "name": "julia",
   "version": "1.8.5"
  },
  "orig_nbformat": 4
 },
 "nbformat": 4,
 "nbformat_minor": 2
}
